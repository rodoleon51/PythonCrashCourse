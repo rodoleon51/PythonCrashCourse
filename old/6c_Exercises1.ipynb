{
 "cells": [
  {
   "cell_type": "code",
   "execution_count": 12,
   "id": "46a41e89-5b6b-4ca4-a170-630e7c1fa226",
   "metadata": {
    "tags": []
   },
   "outputs": [
    {
     "name": "stdout",
     "output_type": "stream",
     "text": [
      "Santiago\n"
     ]
    }
   ],
   "source": [
    "nieto1 = {'first_name' : 'Santiago', 'last_name' : 'Vásquez', 'location' : 'Miraflores'}\n",
    "\n",
    "print(nieto1['first_name'])"
   ]
  },
  {
   "cell_type": "code",
   "execution_count": 13,
   "id": "03e66555-d329-4bc8-beca-29f78b98afd2",
   "metadata": {
    "tags": []
   },
   "outputs": [
    {
     "name": "stdout",
     "output_type": "stream",
     "text": [
      "Santiago\n"
     ]
    }
   ],
   "source": [
    "nieto1.get('first_name')\n",
    "print(nieto1.get('first_name'))"
   ]
  },
  {
   "cell_type": "code",
   "execution_count": 10,
   "id": "23844a39-0eb7-439f-b1c4-2dc47e0ec1c1",
   "metadata": {
    "tags": []
   },
   "outputs": [
    {
     "name": "stdout",
     "output_type": "stream",
     "text": [
      "Santiago\n",
      "Vásquez\n",
      "Miraflores\n"
     ]
    }
   ],
   "source": [
    "print(nieto1['first_name'])\n",
    "print(nieto1['last_name'])\n",
    "print(nieto1['location'])"
   ]
  },
  {
   "cell_type": "code",
   "execution_count": 18,
   "id": "91c8a192-adfd-44b0-b121-0a7296589c9d",
   "metadata": {
    "tags": []
   },
   "outputs": [
    {
     "name": "stdout",
     "output_type": "stream",
     "text": [
      "12\n",
      "27\n",
      "17\n",
      "23\n"
     ]
    }
   ],
   "source": [
    "numbers ={\n",
    "    'Santiago': 12,\n",
    "    'Joaquín': 27,\n",
    "    'Ian': 17,\n",
    "    'Emilia': 23,\n",
    "    }\n",
    "\n",
    "print(numbers['Santiago'])\n",
    "print(numbers['Joaquín'])\n",
    "print(numbers['Ian'])\n",
    "print(numbers['Emilia'])"
   ]
  },
  {
   "cell_type": "code",
   "execution_count": null,
   "id": "0f18fbc5-4f5b-4857-95ff-e3264db01510",
   "metadata": {},
   "outputs": [],
   "source": []
  }
 ],
 "metadata": {
  "kernelspec": {
   "display_name": "Python 3 (ipykernel)",
   "language": "python",
   "name": "python3"
  },
  "language_info": {
   "codemirror_mode": {
    "name": "ipython",
    "version": 3
   },
   "file_extension": ".py",
   "mimetype": "text/x-python",
   "name": "python",
   "nbconvert_exporter": "python",
   "pygments_lexer": "ipython3",
   "version": "3.10.12"
  }
 },
 "nbformat": 4,
 "nbformat_minor": 5
}
