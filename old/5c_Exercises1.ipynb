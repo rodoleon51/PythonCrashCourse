{
 "cells": [
  {
   "cell_type": "markdown",
   "id": "dd6d064e-6893-4c7f-a185-f85c2c89d590",
   "metadata": {},
   "source": [
    "5-1. Conditional Tests: Write a series of conditional tests. Print a statement \n",
    "describing each test and your prediction for the results of each test. Your code \n",
    "should look something like this:<br>\n",
    "--------------------------------------------------------------------------------\n",
    "car = 'subaru'<br>\n",
    "print(\"Is car == 'subaru'? I predict True.\")<br>\n",
    "print(car == 'subaru')<br>\n",
    "print(\"\\nIs car == 'audi'? I predict False.\")<br>\n",
    "print(car == 'audi\")<br>\n",
    "--------------------------------------------------------------------------------\n",
    "•\t Look closely at your results, and make sure you understand why each line \n",
    "evaluates to True or False.<br>\n",
    "•\t Create at least 10 tests. Have at least 5 tests evaluate to True and another \n",
    "5 tests evaluate to False.<br>"
   ]
  },
  {
   "cell_type": "code",
   "execution_count": 4,
   "id": "987da3a5-63ba-4677-a6a8-2a72987c36af",
   "metadata": {},
   "outputs": [
    {
     "name": "stdout",
     "output_type": "stream",
     "text": [
      "Is car == 'subaru'? I predict True.\n",
      "True\n",
      "Is car == 'audi'? I predict False.\n",
      "False\n"
     ]
    }
   ],
   "source": [
    "car = 'subaru'\n",
    "print(\"Is car == 'subaru'? I predict True.\")\n",
    "print(car == 'subaru')\n",
    "print(\"Is car == 'audi'? I predict False.\")\n",
    "print(car == 'audi')"
   ]
  },
  {
   "cell_type": "code",
   "execution_count": 5,
   "id": "bb9a0c11-5677-4552-a0fb-003f31370736",
   "metadata": {},
   "outputs": [
    {
     "name": "stdout",
     "output_type": "stream",
     "text": [
      "Is topping == 'pepperoni'? I predict True.\n",
      "True\n",
      "Is topping == 'anchovies'? I predict False.\n",
      "False\n"
     ]
    }
   ],
   "source": [
    "topping = 'pepperoni'\n",
    "print(\"Is topping == 'pepperoni'? I predict True.\")\n",
    "print(topping == 'pepperoni')\n",
    "print(\"Is topping == 'anchovies'? I predict False.\")\n",
    "print(car == 'anchovies')"
   ]
  },
  {
   "cell_type": "code",
   "execution_count": 6,
   "id": "505ba031-12b8-4d86-b9b6-afc51af3cc48",
   "metadata": {},
   "outputs": [
    {
     "name": "stdout",
     "output_type": "stream",
     "text": [
      "Is age greater than 21? I predict True.\n",
      "True\n",
      "Is age greater than 35? I predict True.\n",
      "False\n"
     ]
    }
   ],
   "source": [
    "age = 32\n",
    "print(\"Is age greater than 21? I predict True.\")\n",
    "print(age >=21)\n",
    "print(\"Is age greater than 35? I predict False.\")\n",
    "print(age >=35)"
   ]
  },
  {
   "cell_type": "code",
   "execution_count": 8,
   "id": "3901bae6-d989-44b3-b81f-89575a45a190",
   "metadata": {},
   "outputs": [
    {
     "name": "stdout",
     "output_type": "stream",
     "text": [
      "Is color == 'blue'? I predict True.\n",
      "True\n",
      "Is color == 'red'? I predict False.\n",
      "False\n"
     ]
    }
   ],
   "source": [
    "color = 'blue'\n",
    "print(\"Is color == 'blue'? I predict True.\")\n",
    "print(color == 'blue')\n",
    "print(\"Is color == 'red'? I predict False.\")\n",
    "print(color == 'red')"
   ]
  },
  {
   "cell_type": "markdown",
   "id": "1f96c843-b593-41c8-bc06-6b3f550406b2",
   "metadata": {},
   "source": [
    "5-2. More Conditional Tests: You don’t have to limit the number of tests you \n",
    "create to 10. If you want to try more comparisons, write more tests and add \n",
    "them to conditional_tests.py. Have at least one True and one False result for \n",
    "each of the following:<br>\n",
    "•\t Tests for equality and inequality with strings<br>\n",
    "•\t Tests using the lower() function <br>\n",
    "•\t Numerical tests involving equality and inequality, greater than and \n",
    "less than, greater than or equal to, and less than or equal to<br>\n",
    "•\t Tests using the and keyword and the or keyword<br>\n",
    "•\t Test whether an item is in a list<br>\n",
    "•\t Test whether an item is not in a list<br>"
   ]
  },
  {
   "cell_type": "code",
   "execution_count": 11,
   "id": "c9fad21c-b835-4b7c-bc61-526ae123af2e",
   "metadata": {},
   "outputs": [
    {
     "name": "stdout",
     "output_type": "stream",
     "text": [
      "Your admission cost is $5.\n"
     ]
    }
   ],
   "source": [
    "# If - elif - else chain\n",
    "age = 12\n",
    "if age < 4:\n",
    "    print(\"Your admission cost is $0.\")\n",
    "elif age < 18:\n",
    "    print(\"Your admission cost is $5.\")\n",
    "else:\n",
    "    print(\"Your admission cost is $10.\")"
   ]
  },
  {
   "cell_type": "code",
   "execution_count": 13,
   "id": "cf77d666-37c1-48bc-9daa-b50b7f4d8c6f",
   "metadata": {},
   "outputs": [
    {
     "name": "stdout",
     "output_type": "stream",
     "text": [
      "Your admission cost is $5.\n"
     ]
    }
   ],
   "source": [
    "age = 12\n",
    "if age < 4:\n",
    "    price = 0\n",
    "elif age < 18:\n",
    "    price = 5\n",
    "else:\n",
    "    price = 10\n",
    "print(\"Your admission cost is $\" + str(price) + \".\")"
   ]
  },
  {
   "cell_type": "code",
   "execution_count": 14,
   "id": "3cbb8261-c407-45ed-8991-f474024ea4ba",
   "metadata": {},
   "outputs": [
    {
     "name": "stdout",
     "output_type": "stream",
     "text": [
      "Your admission cost is $5.\n"
     ]
    }
   ],
   "source": [
    "age = 12\n",
    "if age < 4:\n",
    "    price = 0\n",
    "elif age < 18:\n",
    "    price = 5\n",
    "elif age < 65:\n",
    "    price = 10\n",
    "else:\n",
    "    price = 5\n",
    "\n",
    "print(\"Your admission cost is $\" + str(price) + \".\")    "
   ]
  },
  {
   "cell_type": "code",
   "execution_count": 15,
   "id": "9b41aca8-f6fa-462d-b448-4909df57aa5b",
   "metadata": {},
   "outputs": [
    {
     "name": "stdout",
     "output_type": "stream",
     "text": [
      "Your admission cost is $5.\n"
     ]
    }
   ],
   "source": [
    "age = 12\n",
    "if age < 4:\n",
    "    price = 0\n",
    "elif age < 18:\n",
    "    price = 5\n",
    "elif age < 65:\n",
    "    price = 10\n",
    "elif age > 65:\n",
    "    price = 5\n",
    "\n",
    "print(\"Your admission cost is $\" + str(price) + \".\")    "
   ]
  },
  {
   "cell_type": "code",
   "execution_count": 16,
   "id": "f8807f7e-37d8-4b33-b2cd-2075244eee2c",
   "metadata": {},
   "outputs": [
    {
     "name": "stdout",
     "output_type": "stream",
     "text": [
      "Adding mushrooms.\n",
      "Adding extra cheese.\n",
      "\n",
      "Finished making your pizza!\n"
     ]
    }
   ],
   "source": [
    " requested_toppings = ['mushrooms', 'extra cheese']\n",
    "if 'mushrooms' in requested_toppings:\n",
    "    print(\"Adding mushrooms.\")\n",
    "if 'pepperoni' in requested_toppings:\n",
    "    print(\"Adding pepperoni.\")\n",
    "if 'extra cheese' in requested_toppings:\n",
    "    print(\"Adding extra cheese.\")\n",
    " \n",
    "print(\"\\nFinished making your pizza!\")"
   ]
  },
  {
   "cell_type": "code",
   "execution_count": null,
   "id": "8f3db8ad-baea-4789-b5bc-7a49afa90556",
   "metadata": {},
   "outputs": [],
   "source": []
  },
  {
   "cell_type": "markdown",
   "id": "af41057b-8720-4f02-bc3f-f04b7eee5425",
   "metadata": {},
   "source": [
    "5-3. Alien Colors #1: Imagine an alien was just shot down in a game. Create a \n",
    "variable called alien_color and assign it a value of 'green', 'yellow', or 'red'.<br>\n",
    "•\t Write an if statement to test whether the alien’s color is green. If it is, print \n",
    "a message that the player just earned 5 points.<br>\n",
    "•\t Write one version of this program that passes the if test and another that \n",
    "fails. (The version that fails will have no output.)"
   ]
  },
  {
   "cell_type": "code",
   "execution_count": 1,
   "id": "7a967aad-00c1-44c1-8f84-48cb5c75d538",
   "metadata": {},
   "outputs": [
    {
     "name": "stdout",
     "output_type": "stream",
     "text": [
      "Correct! You earn 5 points.\n"
     ]
    }
   ],
   "source": [
    "alien_color = 'green'\n",
    "if alien_color == 'green':\n",
    "    print(\"Correct! You earn 5 points.\")"
   ]
  },
  {
   "cell_type": "code",
   "execution_count": 3,
   "id": "13ee5e9a-6c47-4a27-b9ec-82bdfe4642c2",
   "metadata": {},
   "outputs": [
    {
     "name": "stdout",
     "output_type": "stream",
     "text": [
      "You are right! Here are your ten points.\n"
     ]
    }
   ],
   "source": [
    "alien_color = 'red'\n",
    "if alien_color == 'red':\n",
    "    print(\"You are right! Here are your ten points.\")"
   ]
  },
  {
   "cell_type": "code",
   "execution_count": 6,
   "id": "0739b87c-50da-4392-ad7d-16643a104dc4",
   "metadata": {},
   "outputs": [
    {
     "ename": "SyntaxError",
     "evalue": "incomplete input (302770511.py, line 2)",
     "output_type": "error",
     "traceback": [
      "\u001b[1;36m  Cell \u001b[1;32mIn[6], line 2\u001b[1;36m\u001b[0m\n\u001b[1;33m    if alien_color != 'green':\u001b[0m\n\u001b[1;37m                              ^\u001b[0m\n\u001b[1;31mSyntaxError\u001b[0m\u001b[1;31m:\u001b[0m incomplete input\n"
     ]
    }
   ],
   "source": [
    "alien_color = 'red'\n",
    "if alien_color != 'green':"
   ]
  },
  {
   "cell_type": "markdown",
   "id": "d3421492-01b0-46c6-958f-d3d23c6f5acf",
   "metadata": {},
   "source": [
    "5-4. Alien Colors #2: Choose a color for an alien as you did in Exercise 5-3, and \n",
    "write an if-else chain.<br>\n",
    "•\t If the alien’s color is green, print a statement that the player just earned \n",
    "5 points for shooting the alien.<br>\n",
    "•\t If the alien’s color isn’t green, print a statement that the player just earned \n",
    "10 points.<br>\n",
    "•\t Write one version of this program that runs the if block and another that \n",
    "runs the else block.<br>"
   ]
  },
  {
   "cell_type": "code",
   "execution_count": 8,
   "id": "d76cf8c8-a277-4614-b077-9fd679a58ddb",
   "metadata": {},
   "outputs": [
    {
     "name": "stdout",
     "output_type": "stream",
     "text": [
      "You earned 10 points.\n"
     ]
    }
   ],
   "source": [
    "alien_color = 'blue'\n",
    "if alien_color == 'green':\n",
    "    print(\"You shot it down! You earn 5 points.\")\n",
    "else:\n",
    "    print(\"You earned 10 points.\")"
   ]
  },
  {
   "cell_type": "markdown",
   "id": "42f96370-b256-480e-8f89-ae59d0467950",
   "metadata": {},
   "source": [
    "5-5. Alien Colors #3: Turn your if-else chain from Exercise 5-4 into an if-elif-else chain.<br>\n",
    "•\t If the alien is green, print a message that the player earned 5 points.<br>\n",
    "•\t If the alien is yellow, print a message that the player earned 10 points.<br>\n",
    "•\t If the alien is red, print a message that the player earned 15 points.<br>\n",
    "•\t Write three versions of this program, making sure each message is printed \n",
    "for the appropriate color alien."
   ]
  },
  {
   "cell_type": "code",
   "execution_count": 18,
   "id": "735ed54a-2c58-447b-81e6-b9cc2e9fb41d",
   "metadata": {},
   "outputs": [
    {
     "name": "stdout",
     "output_type": "stream",
     "text": [
      "Enter alien color: \n"
     ]
    },
    {
     "name": "stdin",
     "output_type": "stream",
     "text": [
      " GREEN\n"
     ]
    },
    {
     "name": "stdout",
     "output_type": "stream",
     "text": [
      "You earned 5 points.\n"
     ]
    }
   ],
   "source": [
    "print(\"Enter alien color: \")\n",
    "alien_color = str(input()).lower()\n",
    "if alien_color =='green':\n",
    "    print(\"You earned 5 points.\")\n",
    "elif alien_color == \"yellow\":\n",
    "    print(\"You earned 10 points.\")\n",
    "elif alien_color == \"red\":\n",
    "    print(\"You earned 15 points\")\n",
    "\n",
    "    "
   ]
  },
  {
   "cell_type": "markdown",
   "id": "1e36d1e9-f615-4b84-bedb-cc30e1b549b1",
   "metadata": {},
   "source": [
    "5-6. Stages of Life: Write an if-elif-else chain that determines a person’s \n",
    "stage of life. Set a value for the variable age, and then:<br>\n",
    "•\t If the person is less than 2 years old, print a message that the person is \n",
    "a baby.<br>\n",
    "•\t If the person is at least 2 years old but less than 4, print a message that \n",
    "the person is a toddler.<br>\n",
    "•\t If the person is at least 4 years old but less than 13, print a message that \n",
    "the person is a kid.<br>\n",
    "•\t If the person is at least 13 years old but less than 20, print a message that \n",
    "the person is a teenager.<br>\n",
    "•\t If the person is at least 20 years old but less than 65, print a message that \n",
    "the person is an adult.<br>\n",
    "•\t If the person is age 65 or older, print a message that the person is an \n",
    "elder<br>"
   ]
  },
  {
   "cell_type": "code",
   "execution_count": 24,
   "id": "f2c4e47c-2c9b-4df6-9694-d7dc5df7db17",
   "metadata": {},
   "outputs": [
    {
     "name": "stdout",
     "output_type": "stream",
     "text": [
      "Enter the age of the person: \n"
     ]
    },
    {
     "name": "stdin",
     "output_type": "stream",
     "text": [
      " 9\n"
     ]
    },
    {
     "name": "stdout",
     "output_type": "stream",
     "text": [
      "The person is a kid.\n"
     ]
    }
   ],
   "source": [
    "print(\"Enter the age of the person: \")\n",
    "age = int(input())\n",
    "if age < 2:\n",
    "    print(\"The person is a baby.\")\n",
    "elif age >= 2 and age < 4:\n",
    "    print(\"The person is a toddler.\")\n",
    "elif age >= 4 and age < 13:\n",
    "    print(\"The person is a kid.\")\n",
    "elif age >=13  and age < 20:\n",
    "    print(\"The person is a teenager.\")\n",
    "elif age >= 20 and age < 65:\n",
    "    print(\"The person is an adult.\") \n",
    "elif age > 65:\n",
    "    print(\"The person is an elder.\") "
   ]
  },
  {
   "cell_type": "markdown",
   "id": "ace458ad-c87d-4f24-8832-6ec83505086d",
   "metadata": {},
   "source": [
    "5-7. Favorite Fruit: Make a list of your favorite fruits, and then write a series of \n",
    "independent if statements that check for certain fruits in your list.<br>\n",
    "•\t Make a list of your three favorite fruits and call it favorite_fruits.<br>\n",
    "•\t Write five if statements. Each should check whether a certain kind of fruit \n",
    "is in your list. If the fruit is in your list, the if block should print a statement, \n",
    "such as You really like bananas!"
   ]
  },
  {
   "cell_type": "code",
   "execution_count": 26,
   "id": "39cafef1-2ddf-496c-beaf-8961245cf04f",
   "metadata": {},
   "outputs": [
    {
     "name": "stdout",
     "output_type": "stream",
     "text": [
      "Juicy pineapple bites are very refreshing.\n",
      "The taste of mango is really rich.\n",
      "Eating grapes can become a vice.\n"
     ]
    }
   ],
   "source": [
    "favorite_fruits = ['pineapple', 'mango', 'grapes']\n",
    "#print(\"Enter the name of the fruit: \")\n",
    "#fruit = str(input())\n",
    "\n",
    "if 'pineapple' in favorite_fruits:\n",
    "    print(\"Juicy pineapple bites are very refreshing.\")\n",
    "if 'mango' in favorite_fruits:\n",
    "    print(\"The taste of mango is really rich.\")\n",
    "if 'grapes' in favorite_fruits:\n",
    "    print(\"Eating grapes can become a vice.\")\n",
    "if 'papaya'in favorite_fruits:\n",
    "    print(\"This one is not one of my favorites.\")\n"
   ]
  }
 ],
 "metadata": {
  "kernelspec": {
   "display_name": "Python 3 (ipykernel)",
   "language": "python",
   "name": "python3"
  },
  "language_info": {
   "codemirror_mode": {
    "name": "ipython",
    "version": 3
   },
   "file_extension": ".py",
   "mimetype": "text/x-python",
   "name": "python",
   "nbconvert_exporter": "python",
   "pygments_lexer": "ipython3",
   "version": "3.10.12"
  }
 },
 "nbformat": 4,
 "nbformat_minor": 5
}
