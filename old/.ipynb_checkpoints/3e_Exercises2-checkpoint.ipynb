{
 "cells": [
  {
   "cell_type": "markdown",
   "id": "434c3976-b56d-40be-87bd-abd318011b10",
   "metadata": {},
   "source": [
    "3-8. Seeing the World: Think of at least five places in the world you’d like to \n",
    "visit.\n",
    "•\t Store the locations in a list. Make sure the list is not in alphabetical order.\n",
    "•\t Print your list in its original order. Don’t worry about printing the list neatly, \n",
    "just print it as a raw Python list.\n",
    "•\t Use sorted() to print your list in alphabetical order without modifying the \n",
    "actual list.\n",
    "•\t Show that your list is still in its original order by printing it.\n",
    "•\t Use sorted() to print your list in reverse alphabetical order without changing the order of the original list.\n",
    "•\t Show that your list is still in its original order by printing it again.\n",
    "•\t Use reverse() to change the order of your list. Print the list to show that its \n",
    "order has changed.\n",
    "•\t Use reverse() to change the order of your list again. Print the list to show \n",
    "it’s back to its original order.\n",
    "•\t Use sort() to change your list so it’s stored in alphabetical order. Print the \n",
    "list to show that its order has been changed.\n",
    "•\t Use sort() to change your list so it’s stored in reverse alphabetical order.\n",
    "Print the list to show that its order has changed."
   ]
  },
  {
   "cell_type": "code",
   "execution_count": 16,
   "id": "c6afe116-cf45-4e0c-9a5b-31f3a90f2197",
   "metadata": {},
   "outputs": [
    {
     "name": "stdout",
     "output_type": "stream",
     "text": [
      "['Paris', 'Prague', 'Moscow', 'Kabul', 'Boston', 'Montana', 'Hiroshima', 'Sidney']\n"
     ]
    }
   ],
   "source": [
    "places = ['Paris', 'Prague', 'Moscow', 'Kabul', 'Boston', 'Montana', 'Hiroshima', 'Sidney']\n",
    "print(places)"
   ]
  },
  {
   "cell_type": "code",
   "execution_count": 17,
   "id": "fd9dfeba-90d9-468d-9a47-2d0f3724e653",
   "metadata": {},
   "outputs": [
    {
     "name": "stdout",
     "output_type": "stream",
     "text": [
      "['Boston', 'Hiroshima', 'Kabul', 'Montana', 'Moscow', 'Paris', 'Prague', 'Sidney']\n"
     ]
    }
   ],
   "source": [
    "# A) Sort in alphabetical order\n",
    "places.sort()\n",
    "print(places)"
   ]
  },
  {
   "cell_type": "code",
   "execution_count": 19,
   "id": "7382e491-cb50-41c3-a9a9-26288b7f3563",
   "metadata": {},
   "outputs": [
    {
     "name": "stdout",
     "output_type": "stream",
     "text": [
      "['Paris', 'Prague', 'Moscow', 'Kabul', 'Boston', 'Montana', 'Hiroshima', 'Sidney']\n",
      "['Boston', 'Hiroshima', 'Kabul', 'Montana', 'Moscow', 'Paris', 'Prague', 'Sidney']\n",
      "['Paris', 'Prague', 'Moscow', 'Kabul', 'Boston', 'Montana', 'Hiroshima', 'Sidney']\n"
     ]
    }
   ],
   "source": [
    "# B) Sort without changing original list\n",
    "places = ['Paris', 'Prague', 'Moscow', 'Kabul', 'Boston', 'Montana', 'Hiroshima', 'Sidney']\n",
    "print(places)\n",
    "print(sorted(places))\n",
    "print(places)"
   ]
  },
  {
   "cell_type": "code",
   "execution_count": 22,
   "id": "84de295e-d832-4bb3-9b24-25c9f62dd1bc",
   "metadata": {},
   "outputs": [
    {
     "name": "stdout",
     "output_type": "stream",
     "text": [
      "['Sidney', 'Hiroshima', 'Montana', 'Boston', 'Kabul', 'Moscow', 'Prague', 'Paris']\n"
     ]
    }
   ],
   "source": [
    "# C) Reverse the order\n",
    "places = ['Paris', 'Prague', 'Moscow', 'Kabul', 'Boston', 'Montana', 'Hiroshima', 'Sidney']\n",
    "places.reverse()\n",
    "print(places)"
   ]
  },
  {
   "cell_type": "code",
   "execution_count": 23,
   "id": "228acbb3-ae1f-4b94-af0b-7e5a7c8fb31f",
   "metadata": {},
   "outputs": [
    {
     "name": "stdout",
     "output_type": "stream",
     "text": [
      "['Paris', 'Prague', 'Moscow', 'Kabul', 'Boston', 'Montana', 'Hiroshima', 'Sidney']\n"
     ]
    }
   ],
   "source": [
    "# D) Reverse again\n",
    "places.reverse()\n",
    "print(places)"
   ]
  },
  {
   "cell_type": "code",
   "execution_count": 24,
   "id": "1b5b051c-cd69-44b1-8740-706e09c90974",
   "metadata": {},
   "outputs": [
    {
     "name": "stdout",
     "output_type": "stream",
     "text": [
      "['Boston', 'Hiroshima', 'Kabul', 'Montana', 'Moscow', 'Paris', 'Prague', 'Sidney']\n"
     ]
    }
   ],
   "source": [
    "# E) Sort alphabetically\n",
    "places.sort()\n",
    "print(places)"
   ]
  },
  {
   "cell_type": "code",
   "execution_count": 25,
   "id": "d4cffff0-1d3d-41a2-8dfd-5d1dceb99951",
   "metadata": {},
   "outputs": [
    {
     "name": "stdout",
     "output_type": "stream",
     "text": [
      "['Sidney', 'Prague', 'Paris', 'Moscow', 'Montana', 'Kabul', 'Hiroshima', 'Boston']\n"
     ]
    }
   ],
   "source": [
    "# F) Save reversed\n",
    "places.reverse()\n",
    "print(places)"
   ]
  },
  {
   "cell_type": "markdown",
   "id": "fed064d4-76ed-405a-bf67-fe6901a9821f",
   "metadata": {},
   "source": [
    "3-9. Dinner Guests: Working with one of the programs from Exercises 3-4 \n",
    "through 3-7 (page 46), use len() to print a message indicating the number \n",
    "of people you are inviting to dinner."
   ]
  },
  {
   "cell_type": "code",
   "execution_count": 14,
   "id": "b580cf8a-e63e-4bb0-bf4d-240b2ce99d12",
   "metadata": {},
   "outputs": [
    {
     "name": "stdout",
     "output_type": "stream",
     "text": [
      "There will be 6 persons for dinner on Friday.\n"
     ]
    }
   ],
   "source": [
    "names = ['Carlos', 'Daniela', 'Enrique', 'Rocío', 'Ximena', 'Ronaldo']\n",
    "print(f\"There will be {len(names)} persons for dinner on Friday.\")"
   ]
  },
  {
   "cell_type": "code",
   "execution_count": null,
   "id": "b8ca856c-897b-4b85-9c62-710e08a5c24c",
   "metadata": {},
   "outputs": [],
   "source": []
  },
  {
   "cell_type": "markdown",
   "id": "41ce387b-b904-4802-be7b-4d885e0cf9d8",
   "metadata": {},
   "source": [
    "3-10. Every Function: Think of something you could store in a list. For example, you could make a list of mountains, rivers, countries, cities, languages, or anything else you’d like. Write a program that creates a list containing these items and then uses each function introduced in this chapter at least once."
   ]
  },
  {
   "cell_type": "code",
   "execution_count": 5,
   "id": "d9deb362-cdc0-445b-b89e-da34d99b3fd5",
   "metadata": {},
   "outputs": [
    {
     "name": "stdout",
     "output_type": "stream",
     "text": [
      "['Baker', 'Rahue', 'Cochrane', 'Aluminé', 'Grande', 'Maullín']\n",
      "['Aluminé', 'Baker', 'Cochrane', 'Grande', 'Maullín', 'Rahue']\n"
     ]
    }
   ],
   "source": [
    "rivers = ['Baker', 'Rahue', 'Cochrane', 'Aluminé', 'Grande', 'Maullín']\n",
    "print(rivers)\n",
    "rivers.sort()\n",
    "print(rivers)\n"
   ]
  },
  {
   "cell_type": "code",
   "execution_count": 7,
   "id": "5e673e4b-b9d1-4c76-9944-b550db523dd7",
   "metadata": {},
   "outputs": [
    {
     "name": "stdout",
     "output_type": "stream",
     "text": [
      "['Rahue', 'Maullín', 'Grande', 'Cochrane', 'Baker', 'Aluminé']\n"
     ]
    }
   ],
   "source": [
    "rivers.sort(reverse = True)\n",
    "print(rivers)"
   ]
  },
  {
   "cell_type": "code",
   "execution_count": 8,
   "id": "fd6ebd76-a137-4012-b71a-9823d70be118",
   "metadata": {},
   "outputs": [
    {
     "name": "stdout",
     "output_type": "stream",
     "text": [
      "['Aluminé', 'Baker', 'Cochrane', 'Grande', 'Maullín', 'Rahue']\n"
     ]
    }
   ],
   "source": [
    "print(sorted(rivers))"
   ]
  },
  {
   "cell_type": "code",
   "execution_count": 12,
   "id": "0b7c92db-8c87-4fa5-b6e9-402288ae4bb4",
   "metadata": {},
   "outputs": [
    {
     "name": "stdout",
     "output_type": "stream",
     "text": [
      "['Maullín', 'Grande', 'Aluminé', 'Cochrane', 'Rahue', 'Baker']\n"
     ]
    }
   ],
   "source": [
    "rivers = ['Baker', 'Rahue', 'Cochrane', 'Aluminé', 'Grande', 'Maullín']\n",
    "rivers.reverse()\n",
    "print(rivers)"
   ]
  }
 ],
 "metadata": {
  "kernelspec": {
   "display_name": "Python 3 (ipykernel)",
   "language": "python",
   "name": "python3"
  },
  "language_info": {
   "codemirror_mode": {
    "name": "ipython",
    "version": 3
   },
   "file_extension": ".py",
   "mimetype": "text/x-python",
   "name": "python",
   "nbconvert_exporter": "python",
   "pygments_lexer": "ipython3",
   "version": "3.10.12"
  }
 },
 "nbformat": 4,
 "nbformat_minor": 5
}
