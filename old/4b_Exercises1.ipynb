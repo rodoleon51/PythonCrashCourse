{
 "cells": [
  {
   "cell_type": "markdown",
   "id": "1d58c5f3-e0f9-4433-87ee-bf4454750d81",
   "metadata": {},
   "source": [
    "4-1. Pizzas: Think of at least three kinds of your favorite pizza. Store these \n",
    "pizza names in a list, and then use a for loop to print the name of each pizza.\n",
    "•\t Modify your for loop to print a sentence using the name of the pizza \n",
    "instead of printing just the name of the pizza. For each pizza you should \n",
    "have one line of output containing a simple statement like I like pepperoni \n",
    "pizza.\n",
    "•\t Add a line at the end of your program, outside the for loop, that states \n",
    "how much you like pizza. The output should consist of three or more lines \n",
    "about the kinds of pizza you like and then an additional sentence, such as \n",
    "I really love pizza!"
   ]
  },
  {
   "cell_type": "code",
   "execution_count": 1,
   "id": "7bc908f6-5dfa-4683-8212-fc8ac84406f8",
   "metadata": {},
   "outputs": [
    {
     "name": "stdout",
     "output_type": "stream",
     "text": [
      "Supreme\n",
      "Pepperoni\n",
      "Hawaiian\n"
     ]
    }
   ],
   "source": [
    "pizzas = ['supreme', 'pepperoni', 'hawaiian']\n",
    "\n",
    "for pizza in pizzas:\n",
    "    print(pizza.title())"
   ]
  },
  {
   "cell_type": "code",
   "execution_count": 10,
   "id": "95a62d17-5aad-4471-be42-d6309be8eb27",
   "metadata": {},
   "outputs": [
    {
     "name": "stdout",
     "output_type": "stream",
     "text": [
      "I really like the supreme pizza\n",
      "The pepperoni pizza is not my favorite\n",
      "The hawaiian pizza is weird\n",
      "\n",
      "I prefer the pizzas with a thin crust and differente choices of meat.\n",
      "I am really not excited about pizza.\n"
     ]
    }
   ],
   "source": [
    "for pizza in pizzas:\n",
    "    if pizza == 'supreme':\n",
    "        print(\"I really like the supreme pizza\")\n",
    "    elif pizza == 'pepperoni':\n",
    "        print(\"The pepperoni pizza is not my favorite\")\n",
    "    else:\n",
    "        print(\"The hawaiian pizza is weird\")\n",
    "\n",
    "print(\"\\nI prefer the pizzas with a thin crust and differente choices of meat.\")\n",
    "print(\"I am really not excited about pizza.\")\n"
   ]
  },
  {
   "cell_type": "code",
   "execution_count": null,
   "id": "23aafc21-6012-4635-8847-1763acf5478f",
   "metadata": {},
   "outputs": [],
   "source": []
  },
  {
   "cell_type": "markdown",
   "id": "823fd665-99bc-4ef5-89cb-45ee4bbc404e",
   "metadata": {},
   "source": [
    "4-2. Animals: Think of at least three different animals that have a common characteristic. Store the names of these animals in a list, and then use a for loop to \n",
    "print out the name of each animal.\n",
    "•\t Modify your program to print a statement about each animal, such as Chaveli Aliaga (KIM) <chaveli.aliaga@kantaribopemedia.com>\n",
    "A dog would make a great pet.\n",
    "•\t Add a line at the end of your program stating what these animals have in \n",
    "common. You could print a sentence such as Any of these animals would \n",
    "make a great pet!"
   ]
  },
  {
   "cell_type": "code",
   "execution_count": 14,
   "id": "8d422882-1aba-4c4e-a1eb-8824043a6262",
   "metadata": {},
   "outputs": [
    {
     "name": "stdout",
     "output_type": "stream",
     "text": [
      "rabbit\n",
      "dog\n",
      "cat\n",
      "These animals have been domesticated for ages and are very accustomed to live with humans.\n",
      "Any of these animals would make a great pet!\n"
     ]
    }
   ],
   "source": [
    "animals = ['rabbit', 'dog', 'cat']\n",
    "for animal in animals:\n",
    "    print(animal)\n",
    "\n",
    "print(\"These animals have been domesticated for ages and are very accustomed to live with humans.\")\n",
    "print(\"Any of these animals would make a great pet!\")M"
   ]
  }
 ],
 "metadata": {
  "kernelspec": {
   "display_name": "Python 3 (ipykernel)",
   "language": "python",
   "name": "python3"
  },
  "language_info": {
   "codemirror_mode": {
    "name": "ipython",
    "version": 3
   },
   "file_extension": ".py",
   "mimetype": "text/x-python",
   "name": "python",
   "nbconvert_exporter": "python",
   "pygments_lexer": "ipython3",
   "version": "3.10.12"
  }
 },
 "nbformat": 4,
 "nbformat_minor": 5
}
