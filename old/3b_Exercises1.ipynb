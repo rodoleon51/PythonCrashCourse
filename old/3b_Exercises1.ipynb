{
 "cells": [
  {
   "cell_type": "markdown",
   "id": "4525efae-6f76-4194-a13e-d63b01d5a1d5",
   "metadata": {},
   "source": [
    "3-1. Names: Store the names of a few of your friends in a list called names. Print\n",
    "each person’s name by accessing each element in the list, one at a time."
   ]
  },
  {
   "cell_type": "code",
   "execution_count": 1,
   "id": "f9ae4027-52ea-43df-94b2-b2a87698fd61",
   "metadata": {},
   "outputs": [
    {
     "name": "stdout",
     "output_type": "stream",
     "text": [
      "Carlos\n",
      "Daniela\n",
      "Enrique\n",
      "Carlos\n",
      "Daniela\n",
      "Enrique\n"
     ]
    }
   ],
   "source": [
    "names = ['Carlos', 'Daniela', 'Enrique']\n",
    "# Basic method\n",
    "print(names[0])\n",
    "print(names[1])\n",
    "print(names[2])\n",
    "\n",
    "# Advanced method\n",
    "for name in names:\n",
    "    print(name)"
   ]
  },
  {
   "cell_type": "markdown",
   "id": "538800ae-2e2e-4cf0-ba62-235fd00f852e",
   "metadata": {},
   "source": [
    "3-2. Greetings: Start with the list you used in Exercise 3-1, but instead of just\n",
    "printing each person’s name, print a message to them. The text of each message\n",
    "should be the same, but each message should be personalized with the person’s name."
   ]
  },
  {
   "cell_type": "code",
   "execution_count": 2,
   "id": "e568579f-d3f9-44e7-bacb-889b82d822ac",
   "metadata": {},
   "outputs": [
    {
     "name": "stdout",
     "output_type": "stream",
     "text": [
      "Greetings, Carlos. Have a great day.\n",
      "Greetings, Daniela. Have a great day.\n",
      "Greetings, Enrique. Have a great day.\n"
     ]
    }
   ],
   "source": [
    "for name in names:\n",
    "    print(f\"Greetings, {name}. Have a great day.\")"
   ]
  },
  {
   "cell_type": "markdown",
   "id": "9897362b-367a-4388-ac69-beadf4990ef7",
   "metadata": {},
   "source": [
    "3-3. Your Own List: Think of your favorite mode of transportation, such as a\n",
    "motorcycle or a car, and make a list that stores several examples. Use your list\n",
    "to print a series of statements about these items, such as “I would like to own a\n",
    "Honda motorcycle.”"
   ]
  },
  {
   "cell_type": "code",
   "execution_count": 3,
   "id": "3dfacc05-cc75-4221-b9eb-c9230da9e6fd",
   "metadata": {},
   "outputs": [
    {
     "name": "stdout",
     "output_type": "stream",
     "text": [
      "The Honda is to expensive for me.\n",
      "The Yamaha is not my favorite.\n",
      "I do like the Suzuki.\n"
     ]
    }
   ],
   "source": [
    "motorcycles = ['honda', 'yamaha', 'suzuki']\n",
    "for motorcycle in motorcycles:\n",
    "    if motorcycle == 'honda':\n",
    "        print(f\"The {motorcycle.title()} is to expensive for me.\")\n",
    "    elif motorcycle == 'yamaha':\n",
    "        print(f\"The {motorcycle.title()} is not my favorite.\")\n",
    "    elif motorcycle == 'suzuki':\n",
    "        print(f\"I do like the {motorcycle.title()}.\")"
   ]
  },
  {
   "cell_type": "markdown",
   "id": "348475e7-b933-40ab-94f7-79aa63d0a319",
   "metadata": {},
   "source": [
    "3-4. Guest List: If you could invite anyone, living or deceased, to dinner, who\n",
    "would you invite? Make a list that includes at least three people you’d like to\n",
    "invite to dinner. Then use your list to print a message to each person, inviting\n",
    "them to dinner."
   ]
  },
  {
   "cell_type": "code",
   "execution_count": 4,
   "id": "a91f71fe-9107-4448-8810-354e488b2cc1",
   "metadata": {},
   "outputs": [
    {
     "name": "stdout",
     "output_type": "stream",
     "text": [
      "Hello, Carlos. Please come home for dinner on Friday.\n",
      "Hello, Daniela. Please come home for dinner on Friday.\n",
      "Hello, Enrique. Please come home for dinner on Friday.\n"
     ]
    }
   ],
   "source": [
    "names = ['Carlos', 'Daniela', 'Enrique']\n",
    "\n",
    "# Advanced method\n",
    "for name in names:\n",
    "    print(f\"Hello, {name}. Please come home for dinner on Friday.\")"
   ]
  },
  {
   "cell_type": "markdown",
   "id": "871b08d3-f167-45ee-9b40-e9acd06e970c",
   "metadata": {},
   "source": [
    "3-5. Changing Guest List: You just heard that one of your guests can’t make the\n",
    "dinner, so you need to send out a new set of invitations. You’ll have to think of\n",
    "someone else to invite.\n",
    "    • Start with your program from Exercise 3-4. Add a print statement at the\n",
    "      end of your program stating the name of the guest who can’t make it.\n",
    "    • Modify your list, replacing the name of the guest who can’t make it with\n",
    "      the name of the new person you are inviting.\n",
    "    • Print a second set of invitation messages, one for each person who is still\n",
    "      in your list"
   ]
  },
  {
   "cell_type": "code",
   "execution_count": 5,
   "id": "47da3c54-c4ad-47cc-a6ef-5dcc66612854",
   "metadata": {},
   "outputs": [
    {
     "name": "stdout",
     "output_type": "stream",
     "text": [
      "['Carlos', 'Daniela', 'Enrique']\n",
      "\n",
      "Daniela cannot come to dinner. I will invite Luciana.\n",
      "['Carlos', 'Luciana', 'Enrique']\n",
      "Hello, Carlos. Please come home for dinner on Friday.\n",
      "Hello, Luciana. Please come home for dinner on Friday.\n",
      "Hello, Enrique. Please come home for dinner on Friday.\n"
     ]
    }
   ],
   "source": [
    "names = ['Carlos', 'Daniela', 'Enrique']\n",
    "print(names)\n",
    "print(\"\\nDaniela cannot come to dinner. I will invite Luciana.\")\n",
    "names[1] = 'Luciana'\n",
    "print(names)\n",
    "for name in names:\n",
    "    print(f\"Hello, {name}. Please come home for dinner on Friday.\")"
   ]
  },
  {
   "cell_type": "markdown",
   "id": "58444ab4-a9e1-4507-841d-6fda98b8a36e",
   "metadata": {},
   "source": [
    "3-6. More Guests: You just found a bigger dinner table, so now more space is\n",
    "available. Think of three more guests to invite to dinner. • Start with your program from Exercise 3-4 or Exercise 3-5. Add a print\n",
    "      statement the end of your program informing people that you found a bigger dinner table. • Use insert() to add one new guest to the beginning of your list.\n",
    "• Use insert() to add one new guest to the middle of your list. • Use append() to add one new guest to the end of your list. • Print a new set of invitation messages, one for each person in your list."
   ]
  },
  {
   "cell_type": "code",
   "execution_count": 8,
   "id": "faf6b397-1eb7-4543-95ed-8590bf8ca200",
   "metadata": {},
   "outputs": [
    {
     "name": "stdout",
     "output_type": "stream",
     "text": [
      "['Rocío', 'Carlos', 'Daniela', 'Ximena', 'Enrique', 'Ronaldo']\n",
      "\n",
      "\n",
      "Hello, Rocío. Please come home for dinner on Friday.\n",
      "Hello, Carlos. Please come home for dinner on Friday.\n",
      "Hello, Daniela. Please come home for dinner on Friday.\n",
      "Hello, Ximena. Please come home for dinner on Friday.\n",
      "Hello, Enrique. Please come home for dinner on Friday.\n",
      "Hello, Ronaldo. Please come home for dinner on Friday.\n"
     ]
    }
   ],
   "source": [
    "names = ['Carlos', 'Daniela', 'Enrique']\n",
    "names.insert(0, 'Rocío')\n",
    "names.insert(3, 'Ximena')\n",
    "names.append('Ronaldo')\n",
    "print(names)\n",
    "print(\"\\n\")\n",
    "for name in names:\n",
    "    print(f\"Hello, {name}. Please come home for dinner on Friday.\")"
   ]
  },
  {
   "cell_type": "markdown",
   "id": "4e5e7dfd-bf7a-41db-9f55-8846214605e5",
   "metadata": {},
   "source": [
    "3-7. Shrinking Guest List: You just found out that your new dinner table won’t\n",
    "arrive in time for the dinner, and you have space for only two guests.\n",
    "    • Start with your program from Exercise 3-6. Add a new line that prints a\n",
    "        message saying that you can invite only two people for dinner.\n",
    "    • Use pop() to remove guests from your list one at a time until only two\n",
    "        names remain in your list. Each time you pop a name from your list, print\n",
    "        a message to that person letting them know you’re sorry you can’t invite\n",
    "        them to dinner.\n",
    "    • Print a message to each of the two people still on your list, letting them\n",
    "        know they’re still invited.\n",
    "    • Use del to remove the last two names from your list, so you have an empty\n",
    "        list. Print your list to make sure you actually have an empty list at the end\n",
    "        of your program"
   ]
  },
  {
   "cell_type": "code",
   "execution_count": 12,
   "id": "359c1cd2-dc94-41e8-ae01-337609c4396c",
   "metadata": {},
   "outputs": [
    {
     "name": "stdout",
     "output_type": "stream",
     "text": [
      "Due to logistical problems I can only invite to persons to dinner.\n",
      "['Carlos', 'Daniela', 'Enrique', 'Rocío', 'Ximena', 'Ronaldo']\n",
      "I am sorry Ronaldo, but I must cancel my invitation for dinner.\n",
      "I am sorry Ximena, but I must cancel my invitation for dinner.\n",
      "I am sorry Rocío, but I must cancel my invitation for dinner.\n",
      "I am sorry Enrique, but I must cancel my invitation for dinner.\n",
      "\n",
      "\n",
      "['Carlos', 'Daniela']\n",
      "Hello Daniela! You are still welcome for Friday's dinner.\n",
      "Hello Carlos! You are still welcome for Friday's dinner.\n"
     ]
    }
   ],
   "source": [
    "names = ['Carlos', 'Daniela', 'Enrique', 'Rocío', 'Ximena', 'Ronaldo']\n",
    "\n",
    "print(\"Due to logistical problems I can only invite to persons to dinner.\")\n",
    "print(names)\n",
    "last_name = names.pop()\n",
    "print(f\"I am sorry {last_name}, but I must cancel my invitation for dinner.\")\n",
    "last_name = names.pop()\n",
    "print(f\"I am sorry {last_name}, but I must cancel my invitation for dinner.\")\n",
    "last_name = names.pop()\n",
    "print(f\"I am sorry {last_name}, but I must cancel my invitation for dinner.\")\n",
    "last_name = names.pop()\n",
    "print(f\"I am sorry {last_name}, but I must cancel my invitation for dinner.\")\n",
    "print(\"\\n\")\n",
    "print(names)\n",
    "last_name = names.pop()\n",
    "print(f\"Hello {last_name}! You are still welcome for Friday's dinner.\")\n",
    "last_name = names.pop()\n",
    "print(f\"Hello {last_name}! You are still welcome for Friday's dinner.\")\n"
   ]
  },
  {
   "cell_type": "code",
   "execution_count": 13,
   "id": "69ce4583-3001-4600-9ab4-12988d19362b",
   "metadata": {},
   "outputs": [
    {
     "name": "stdout",
     "output_type": "stream",
     "text": [
      "I am sorry Ronaldo, but I must cancel my invitation for dinner.\n",
      "I am sorry Ximena, but I must cancel my invitation for dinner.\n",
      "I am sorry Rocío, but I must cancel my invitation for dinner.\n",
      "I am sorry Enrique, but I must cancel my invitation for dinner.\n",
      "['Carlos', 'Daniela']\n"
     ]
    }
   ],
   "source": [
    "names = ['Carlos', 'Daniela', 'Enrique', 'Rocío', 'Ximena', 'Ronaldo']\n",
    "for i in range(1, 5):\n",
    "    last_name = names.pop()\n",
    "    print(f\"I am sorry {last_name}, but I must cancel my invitation for dinner.\")\n",
    "print(names)"
   ]
  },
  {
   "cell_type": "code",
   "execution_count": null,
   "id": "516cd70f-0a83-402c-ac5f-c12347efd1bc",
   "metadata": {},
   "outputs": [],
   "source": []
  }
 ],
 "metadata": {
  "kernelspec": {
   "display_name": "Python 3 (ipykernel)",
   "language": "python",
   "name": "python3"
  },
  "language_info": {
   "codemirror_mode": {
    "name": "ipython",
    "version": 3
   },
   "file_extension": ".py",
   "mimetype": "text/x-python",
   "name": "python",
   "nbconvert_exporter": "python",
   "pygments_lexer": "ipython3",
   "version": "3.10.12"
  }
 },
 "nbformat": 4,
 "nbformat_minor": 5
}
