{
 "cells": [
  {
   "cell_type": "markdown",
   "id": "1e48f8ed-c35e-4d4b-8059-d40ed3cb2a51",
   "metadata": {},
   "source": [
    "4-10. Slices: Using one of the programs you wrote in this chapter, add several \n",
    "lines to the end of the program that do the following:\n",
    "•\t Print the message, The first three items in the list are:. Then use a slice to \n",
    "print the first three items from that program’s list.\n",
    "•\t Print the message, Three items from the middle of the list are:. Use a slice \n",
    "to print three items from the middle of the list.\n",
    "•\t Print the message, The last three items in the list are:. Use a slice to print \n",
    "the last three items in the list."
   ]
  },
  {
   "cell_type": "code",
   "execution_count": 6,
   "id": "98d78354-03da-4b7e-b98c-54631401e09a",
   "metadata": {},
   "outputs": [
    {
     "name": "stdout",
     "output_type": "stream",
     "text": [
      "1 8 27 64 125 216 343 512 729 1000 \n",
      "The first three items in cubes are:  [1, 8, 27]\n",
      "Three items from the middle of the list are:  [125, 216, 343]\n",
      "The last three items in the list are: [512, 729, 1000]\n"
     ]
    }
   ],
   "source": [
    "cubes = [value**3 for value in range(1,11)]\n",
    "for cube in cubes:\n",
    "    print(cube, end = \" \")\n",
    "    \n",
    "print(\"\\nThe first three items in cubes are: \", cubes[0:3])\n",
    "print(\"Three items from the middle of the list are: \", cubes[4:7])\n",
    "print(\"The last three items in the list are:\", cubes[-3:])"
   ]
  },
  {
   "cell_type": "code",
   "execution_count": null,
   "id": "3d31427e-e7eb-4417-9e3d-a474f6896a60",
   "metadata": {},
   "outputs": [],
   "source": []
  },
  {
   "cell_type": "markdown",
   "id": "1e7c37e3-8961-4a21-8380-0dee43bb1c09",
   "metadata": {},
   "source": [
    "4-11. My Pizzas, Your Pizzas: Start with your program from Exercise 4-1 \n",
    "(page 60). Make a copy of the list of pizzas, and call it friend_pizzas.\n",
    "Then, do the following:\n",
    "•\t Add a new pizza to the original list.\n",
    "•\t Add a different pizza to the list friend_pizzas.\n",
    "•\t Prove that you have two separate lists. Print the message, My favorite \n",
    "pizzas are:, and then use a for loop to print the first list. Print the message, \n",
    "My friend’s favorite pizzas are:, and then use a for loop to print the second list. Make sure each new pizza is stored in the appropriate list."
   ]
  },
  {
   "cell_type": "code",
   "execution_count": 11,
   "id": "60cf215a-bdc0-4ed1-b032-c4211d3851e8",
   "metadata": {},
   "outputs": [
    {
     "name": "stdout",
     "output_type": "stream",
     "text": [
      "Before adding pizzas\n",
      "['supreme', 'pepperoni', 'hawaiian']\n",
      "['supreme', 'pepperoni', 'hawaiian']\n",
      "After adding pizzas\n",
      "['supreme', 'pepperoni', 'hawaiian', 'continental']\n",
      "['supreme', 'pepperoni', 'hawaiian', 'american']\n"
     ]
    }
   ],
   "source": [
    "pizzas = ['supreme', 'pepperoni', 'hawaiian']\n",
    "friend_pizzas = pizzas[:]\n",
    "\n",
    "print(\"Before adding pizzas\")\n",
    "print(pizzas)\n",
    "print(friend_pizzas)\n",
    "\n",
    "pizzas.append('continental')\n",
    "friend_pizzas.append('american')\n",
    "\n",
    "print(\"After adding pizzas\")\n",
    "print(pizzas)\n",
    "print(friend_pizzas)"
   ]
  },
  {
   "cell_type": "markdown",
   "id": "1590b0f6-be13-41fd-b3cf-baae436f308e",
   "metadata": {},
   "source": [
    "4-12. More Loops: All versions of foods.py in this section have avoided using \n",
    "for loops when printing to save space. Choose a version of foods.py, and \n",
    "write two for loops to print each list of foods."
   ]
  },
  {
   "cell_type": "code",
   "execution_count": 15,
   "id": "68c77101-1c62-4a46-a1bf-9c75c84dc6ff",
   "metadata": {},
   "outputs": [
    {
     "name": "stdout",
     "output_type": "stream",
     "text": [
      "1. Pizzas in 'my_foods'\n",
      "pizza\n",
      "falafel\n",
      "carrot cake\n",
      "cannoli\n",
      "\n",
      "2. Pizzas in 'friend_foods'\n",
      "pizza\n",
      "falafel\n",
      "carrot cake\n",
      "ice cream\n"
     ]
    }
   ],
   "source": [
    "my_foods = ['pizza', 'falafel', 'carrot cake']\n",
    "friend_foods = my_foods[:]\n",
    "\n",
    "my_foods.append('cannoli')\n",
    "friend_foods.append('ice cream')\n",
    "\n",
    "print(\"1. Pizzas in 'my_foods'\")\n",
    "for food in my_foods:\n",
    "    print(food)\n",
    "\n",
    "print(\"\\n2. Pizzas in 'friend_foods'\")\n",
    "for food in friend_foods:\n",
    "    print(food)"
   ]
  },
  {
   "cell_type": "code",
   "execution_count": null,
   "id": "c6913308-6e54-46b9-978e-e640da0a5e98",
   "metadata": {},
   "outputs": [],
   "source": []
  }
 ],
 "metadata": {
  "kernelspec": {
   "display_name": "Python 3 (ipykernel)",
   "language": "python",
   "name": "python3"
  },
  "language_info": {
   "codemirror_mode": {
    "name": "ipython",
    "version": 3
   },
   "file_extension": ".py",
   "mimetype": "text/x-python",
   "name": "python",
   "nbconvert_exporter": "python",
   "pygments_lexer": "ipython3",
   "version": "3.10.12"
  }
 },
 "nbformat": 4,
 "nbformat_minor": 5
}
