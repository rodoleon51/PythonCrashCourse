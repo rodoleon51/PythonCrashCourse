{
 "cells": [
  {
   "cell_type": "markdown",
   "id": "73f7000b-2df0-42ba-84ca-56f7a2379a7f",
   "metadata": {},
   "source": [
    "5-8. Hello Admin: Make a list of five or more usernames, including the name \n",
    "'admin'. Imagine you are writing code that will print a greeting to each user \n",
    "after they log in to a website. Loop through the list, and print a greeting to \n",
    "each user:<br>\n",
    "•\t If the username is 'admin', print a special greeting, such as Hello admin, \n",
    "would you like to see a status report?<br>\n",
    "•\t Otherwise, print a generic greeting, such as Hello Eric, thank you for logging in again."
   ]
  },
  {
   "cell_type": "code",
   "execution_count": 28,
   "id": "7f4394d6-ec57-4ee2-b10a-9220b067f325",
   "metadata": {},
   "outputs": [
    {
     "name": "stdout",
     "output_type": "stream",
     "text": [
      "Enter username: \n"
     ]
    },
    {
     "name": "stdin",
     "output_type": "stream",
     "text": [
      " Carlos\n"
     ]
    },
    {
     "name": "stdout",
     "output_type": "stream",
     "text": [
      "You are not an authorized user.\n"
     ]
    }
   ],
   "source": [
    "usernames = ['admin', 'Hector', 'Lucienne', 'Marian', 'Rob', 'Peter']\n",
    "print(\"Enter username: \")\n",
    "username = str(input())\n",
    "\n",
    "if username == 'admin':\n",
    "    print(\"Hello admin, would you like to see a status report?\")\n",
    "elif username in usernames:\n",
    "    print(f\"\\nHello {username}, thank you for logging in again.\")\n",
    "else:\n",
    "    print(\"You are not an authorized user.\")"
   ]
  },
  {
   "cell_type": "code",
   "execution_count": null,
   "id": "0336ecd3-4cca-473a-9350-ce7335737c46",
   "metadata": {},
   "outputs": [],
   "source": []
  },
  {
   "cell_type": "markdown",
   "id": "d42b04ee-375d-4279-a7fe-047f194f95b1",
   "metadata": {},
   "source": [
    "5-9. No Users: Add an if test to hello_admin.py to make sure the list of users is \n",
    "not empty.<br>\n",
    "•\t If the list is empty, print the message We need to find some users!<br>\n",
    "•\t Remove all of the usernames from your list, and make sure the correct \n",
    "message is printed"
   ]
  },
  {
   "cell_type": "code",
   "execution_count": 29,
   "id": "0e235d57-bbcf-4605-8424-92c4ae57bf48",
   "metadata": {},
   "outputs": [
    {
     "name": "stdout",
     "output_type": "stream",
     "text": [
      "We need to find some users!\n"
     ]
    }
   ],
   "source": [
    "usernames = []\n",
    "if username == 'admin':\n",
    "    print(\"Hello admin, would you like to see a status report?\")\n",
    "elif username in usernames:\n",
    "    print(f\"\\nHello {username}, thank you for logging in again.\")\n",
    "else:\n",
    "    print(\"We need to find some users!\")\n",
    "    "
   ]
  },
  {
   "cell_type": "code",
   "execution_count": null,
   "id": "3a43a762-a648-49f9-b6f0-18016a5c0a1e",
   "metadata": {},
   "outputs": [],
   "source": []
  },
  {
   "cell_type": "markdown",
   "id": "0e4ba09d-97a8-42d1-a5fc-b5c07a13bbd8",
   "metadata": {},
   "source": [
    "5-10. Checking Usernames: Do the following to create a program that simulates \n",
    "how websites ensure that everyone has a unique username.<br>\n",
    "•\t Make a list of five or more usernames called current_users.<br>\n",
    "•\t Make another list of five usernames called new_users. Make sure one or \n",
    "two of the new usernames are also in the current_users list.<br>\n",
    "•\t Loop through the new_users list to see if each new username has already \n",
    "been used. If it has, print a message that the person will need to enter a \n",
    "new username. If a username has not been used, print a message saying \n",
    "that the username is available.<br>\n",
    "•\t Make sure your comparison is case insensitive. If 'John' has been used, \n",
    "'JOHN' should not be accepted."
   ]
  },
  {
   "cell_type": "code",
   "execution_count": 32,
   "id": "906b41db-4eef-4c3a-8077-aad173ed5b77",
   "metadata": {},
   "outputs": [
    {
     "name": "stdout",
     "output_type": "stream",
     "text": [
      "Marian is already in use. Enter another one.\n",
      "Rob is already in use. Enter another one.\n"
     ]
    }
   ],
   "source": [
    "current_users = ['Hector', 'Lucienne', 'Marian', 'Rob', 'Peter']\n",
    "new_users = ['Jane', 'Megan', 'Marian', 'Henry', 'Rob']\n",
    "\n",
    "for new_user in new_users:\n",
    "    if new_user in current_users:\n",
    "        print(f\"{new_user.title()} is already in use. Enter another one.\")"
   ]
  },
  {
   "cell_type": "markdown",
   "id": "1ba47601-38bc-4313-b956-332f800d4c09",
   "metadata": {},
   "source": [
    "5-11. Ordinal Numbers: Ordinal numbers indicate their position in a list, such \n",
    "as 1st or 2nd. Most ordinal numbers end in th, except 1, 2, and 3.<br>\n",
    "•\t Store the numbers 1 through 9 in a list.<br>\n",
    "•\t Loop through the list.<br>\n",
    "•\t Use an if-elif-else chain inside the loop to print the proper ordinal ending for each number. Your output should read \"1st 2nd 3rd 4th 5th 6th 7th 8th 9th\", and each result should be on a separate line."
   ]
  },
  {
   "cell_type": "code",
   "execution_count": 81,
   "id": "2a461394-fea8-4bab-b289-608cca61c567",
   "metadata": {},
   "outputs": [
    {
     "name": "stdout",
     "output_type": "stream",
     "text": [
      "[th\n",
      "1st\n",
      "2nd\n",
      "3rd\n",
      "4th\n",
      "5th\n",
      "6th\n",
      "7th\n",
      "8th\n",
      "9th\n",
      "]th\n"
     ]
    }
   ],
   "source": [
    "ordinals = [1, 2, 3, 4, 5, 6, 7, 8, 9]\n",
    "ordinals = str(ordinals)\n",
    "\n",
    "for ordinal in ordinals:\n",
    "    if ordinal == \"1\":\n",
    "        print(\"1st\")\n",
    "    elif ordinal == \"2\":\n",
    "        print(\"2nd\")\n",
    "    elif ordinal == \"3\":\n",
    "        print(\"3rd\")\n",
    "    else:\n",
    "        if ordinal > \"3\":\n",
    "            print(ordinal+\"th\")\n"
   ]
  },
  {
   "cell_type": "code",
   "execution_count": null,
   "id": "b7ec8ea0-4697-406f-8042-28ada79500ab",
   "metadata": {},
   "outputs": [],
   "source": []
  }
 ],
 "metadata": {
  "kernelspec": {
   "display_name": "Python 3 (ipykernel)",
   "language": "python",
   "name": "python3"
  },
  "language_info": {
   "codemirror_mode": {
    "name": "ipython",
    "version": 3
   },
   "file_extension": ".py",
   "mimetype": "text/x-python",
   "name": "python",
   "nbconvert_exporter": "python",
   "pygments_lexer": "ipython3",
   "version": "3.10.12"
  }
 },
 "nbformat": 4,
 "nbformat_minor": 5
}
