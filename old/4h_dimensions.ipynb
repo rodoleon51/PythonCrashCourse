{
 "cells": [
  {
   "cell_type": "markdown",
   "id": "4eb2a644-c12b-45c3-bceb-bf3cb3316c2d",
   "metadata": {},
   "source": [
    "## Tuples"
   ]
  },
  {
   "cell_type": "code",
   "execution_count": 2,
   "id": "6558ff0c-985d-461c-9ca5-7080aa021a7e",
   "metadata": {},
   "outputs": [
    {
     "name": "stdout",
     "output_type": "stream",
     "text": [
      "200\n",
      "50\n"
     ]
    }
   ],
   "source": [
    "dimensions = (200, 50)\n",
    "print(dimensions[0])\n",
    "print(dimensions[1])"
   ]
  },
  {
   "cell_type": "code",
   "execution_count": 3,
   "id": "d541449d-4df3-4709-ba36-dbd4bc0fbdb3",
   "metadata": {},
   "outputs": [
    {
     "ename": "TypeError",
     "evalue": "'tuple' object does not support item assignment",
     "output_type": "error",
     "traceback": [
      "\u001b[1;31m---------------------------------------------------------------------------\u001b[0m",
      "\u001b[1;31mTypeError\u001b[0m                                 Traceback (most recent call last)",
      "Cell \u001b[1;32mIn[3], line 3\u001b[0m\n\u001b[0;32m      1\u001b[0m \u001b[38;5;66;03m# Tuples are immutable\u001b[39;00m\n\u001b[0;32m      2\u001b[0m dimensions \u001b[38;5;241m=\u001b[39m (\u001b[38;5;241m20\u001b[39m, \u001b[38;5;241m50\u001b[39m)\n\u001b[1;32m----> 3\u001b[0m dimensions[\u001b[38;5;241m0\u001b[39m] \u001b[38;5;241m=\u001b[39m \u001b[38;5;241m250\u001b[39m\n",
      "\u001b[1;31mTypeError\u001b[0m: 'tuple' object does not support item assignment"
     ]
    }
   ],
   "source": [
    "# Tuples are immutable. Attempts to change return 'error'\n",
    "dimensions = (20, 50)\n",
    "dimensions[0] = 250"
   ]
  },
  {
   "cell_type": "code",
   "execution_count": 6,
   "id": "84e15370-1864-4514-be33-3a5fe4ec360a",
   "metadata": {},
   "outputs": [
    {
     "name": "stdout",
     "output_type": "stream",
     "text": [
      "200\n",
      "50\n"
     ]
    }
   ],
   "source": [
    "# Loop a tuple\n",
    "dimensions = (200, 50)\n",
    "for dimension in dimensions:\n",
    "    print(dimension)"
   ]
  },
  {
   "cell_type": "code",
   "execution_count": 7,
   "id": "09a4a066-e1de-422b-b1e7-0c61f018163e",
   "metadata": {},
   "outputs": [
    {
     "name": "stdout",
     "output_type": "stream",
     "text": [
      "Original dimensions:\n",
      "200\n",
      "50\n",
      "\n",
      "Modified dimensions:\n",
      "400\n",
      "100\n"
     ]
    }
   ],
   "source": [
    "# Writing over a tuple\n",
    "dimensions = (200, 50)\n",
    "print(\"Original dimensions:\")\n",
    "for dimension in dimensions:\n",
    "    print(dimension)\n",
    " \n",
    "dimensions = (400, 100)\n",
    "print(\"\\nModified dimensions:\")\n",
    "for dimension in dimensions:\n",
    "    print(dimension)"
   ]
  },
  {
   "cell_type": "code",
   "execution_count": null,
   "id": "86c32494-3766-42e8-b6f1-c532d77d7714",
   "metadata": {},
   "outputs": [],
   "source": []
  },
  {
   "cell_type": "markdown",
   "id": "e92f92ae-f7d4-40cd-a624-f14e27efd533",
   "metadata": {},
   "source": [
    "#### Exercise\n",
    "4-13. Buffet: A buffet-style restaurant offers only five basic foods. Think of five \n",
    "simple foods, and store them in a tuple.\n",
    "•\t Use a for loop to print each food the restaurant offers.\n",
    "•\t Try to modify one of the items, and make sure that Python rejects the \n",
    "change.\n",
    "•\t The restaurant changes its menu, replacing two of the items with different \n",
    "foods. Add a block of code that rewrites the tuple, and then use a for\n",
    "loop to print each of the items on the revised menu."
   ]
  },
  {
   "cell_type": "code",
   "execution_count": 21,
   "id": "dfb58499-6778-4d98-9b2a-8b29e6efc740",
   "metadata": {},
   "outputs": [
    {
     "name": "stdout",
     "output_type": "stream",
     "text": [
      "carapulcra, olluquitos, lomo saltado, cebiche, seco con frejoles, "
     ]
    }
   ],
   "source": [
    "foods = ('carapulcra', 'olluquitos', 'lomo saltado', 'cebiche', 'seco con frejoles')\n",
    "\n",
    "for food in foods:\n",
    "    print(food[:len(food)], end = \", \")"
   ]
  },
  {
   "cell_type": "code",
   "execution_count": 26,
   "id": "3e25b88a-096b-495a-8435-a98ec2f4682d",
   "metadata": {},
   "outputs": [
    {
     "name": "stdout",
     "output_type": "stream",
     "text": [
      "carapulcra, chicharrones, lomo saltado, ocopa, seco con frejoles, "
     ]
    }
   ],
   "source": [
    "foods = ('carapulcra', 'chicharrones', 'lomo saltado', 'ocopa', 'seco con frejoles')\n",
    "\n",
    "for food in foods:\n",
    "    print(food[:len(food)], end = \", \")"
   ]
  },
  {
   "cell_type": "code",
   "execution_count": null,
   "id": "f276a009-4939-4860-aa10-5c0359894126",
   "metadata": {},
   "outputs": [],
   "source": []
  }
 ],
 "metadata": {
  "kernelspec": {
   "display_name": "Python 3 (ipykernel)",
   "language": "python",
   "name": "python3"
  },
  "language_info": {
   "codemirror_mode": {
    "name": "ipython",
    "version": 3
   },
   "file_extension": ".py",
   "mimetype": "text/x-python",
   "name": "python",
   "nbconvert_exporter": "python",
   "pygments_lexer": "ipython3",
   "version": "3.10.12"
  }
 },
 "nbformat": 4,
 "nbformat_minor": 5
}
