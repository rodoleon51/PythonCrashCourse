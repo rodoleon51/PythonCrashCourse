{
 "cells": [
  {
   "cell_type": "code",
   "execution_count": 1,
   "metadata": {},
   "outputs": [
    {
     "name": "stdout",
     "output_type": "stream",
     "text": [
      "Hello, Jesse!\n"
     ]
    }
   ],
   "source": [
    "def greet_user(username):\n",
    "    \"\"\"Display a simple greeting.\"\"\"\n",
    "    print(f\"Hello, {username.title()}!\")\n",
    "    \n",
    "greet_user('jesse')"
   ]
  },
  {
   "cell_type": "code",
   "execution_count": 1,
   "metadata": {},
   "outputs": [
    {
     "name": "stdout",
     "output_type": "stream",
     "text": [
      "Hello, Rodo!\n"
     ]
    }
   ],
   "source": [
    "def greet_user(username):\n",
    "    \"\"\"Prompt for the username\"\"\"\n",
    "    prompt = (\"If you share your name, we can personalize the messages you see.\"\n",
    "        + \"\\nWhat is your first name?\")\n",
    "    username = input(prompt)\n",
    "\n",
    "    \"\"\"Display a simple greeting.\"\"\"\n",
    "    print(f\"Hello, {username.title()}!\")\n",
    "\n",
    "greet_user('username')"
   ]
  },
  {
   "cell_type": "markdown",
   "metadata": {},
   "source": [
    "### Exercises 8-1 to 8_5"
   ]
  },
  {
   "cell_type": "markdown",
   "metadata": {},
   "source": [
    "8-1. Message: Write a function called display_message() that prints one\n",
    "sentence telling everyone what you are learning about in this chapter. Call\n",
    "the function, and make sure the message displays correctly."
   ]
  },
  {
   "cell_type": "code",
   "execution_count": 11,
   "metadata": {},
   "outputs": [
    {
     "name": "stdout",
     "output_type": "stream",
     "text": [
      "Hello everyone! In chapter 8 I am learning about functions in Python.\n"
     ]
    }
   ],
   "source": [
    "# \"Hello everyone! In chapter 8 I am learning about functions in Python.\"\n",
    "\n",
    "def display_message(message):\n",
    "    prompt = \"Enter the message you want to display.\"\n",
    "    message = input(prompt)\n",
    "    print(message)\n",
    "    \n",
    "display_message('message')"
   ]
  },
  {
   "cell_type": "markdown",
   "metadata": {},
   "source": [
    "8-2. Favorite Book: Write a function called favorite_book() that accepts one\n",
    "parameter, title. The function should print a message, such as One of my\n",
    "favorite books is Alice in Wonderland. Call the function, making sure to\n",
    "include a book title as an argument in the function call.\n"
   ]
  },
  {
   "cell_type": "code",
   "execution_count": 12,
   "metadata": {},
   "outputs": [
    {
     "name": "stdout",
     "output_type": "stream",
     "text": [
      "One of my favorite books is Principia Matematica.\n"
     ]
    }
   ],
   "source": [
    "def favorite_book(book):\n",
    "    prompt = \"Enter the title of your favorite book.\"\n",
    "    book = input(prompt)\n",
    "    print(f\"One of my favorite books is {book.title()}.\" )\n",
    "    \n",
    "favorite_book('Principia Matematica')"
   ]
  },
  {
   "cell_type": "code",
   "execution_count": 13,
   "metadata": {},
   "outputs": [
    {
     "name": "stdout",
     "output_type": "stream",
     "text": [
      "\n",
      "I have a hamster.\n",
      "My hamster's name is Harry.\n"
     ]
    }
   ],
   "source": [
    "def describe_pet(animal_type, pet_name):\n",
    "    \"\"\"Display information about a pet.\"\"\"\n",
    "    print(f\"\\nI have a {animal_type}.\")\n",
    "    print(f\"My {animal_type}'s name is {pet_name.title()}.\")\n",
    "\n",
    "describe_pet('hamster', 'harry')"
   ]
  },
  {
   "cell_type": "code",
   "execution_count": 20,
   "metadata": {},
   "outputs": [
    {
     "name": "stdout",
     "output_type": "stream",
     "text": [
      "\n",
      "I have a parrot.\n",
      "My parrot's name is Pebbles.\n",
      "\n",
      "I have a dog.\n",
      "My dog's name is Rebelde.\n",
      "\n",
      "I have a cat.\n",
      "My cat's name is Cookie.\n"
     ]
    }
   ],
   "source": [
    "# Positional arguments\n",
    "def describe_pet(animal_type, pet_name):\n",
    "    prompt = \"Enter the animal type of your pet.\"\n",
    "    animal_type = input(prompt)\n",
    "    prompt = \"Now enter the name of your pet.\"\n",
    "    pet_name = input(prompt)\n",
    "    \n",
    "    \"\"\"Display information about a pet.\"\"\"\n",
    "    print(f\"\\nI have a {animal_type}.\")\n",
    "    print(f\"My {animal_type}'s name is {pet_name.title()}.\")\n",
    "    \n",
    "describe_pet('animal', 'name')\n",
    "describe_pet('animal_type', 'pet_name')\n",
    "describe_pet('1', '2')"
   ]
  },
  {
   "cell_type": "markdown",
   "metadata": {},
   "source": [
    "8-3. T-Shirt: Write a function called make_shirt() that accepts a size and the\n",
    "text of a message that should be printed on the shirt. The function should\n",
    "print a sentence summarizing the size of the shirt and the message printed\n",
    "on it.\n",
    "Call the function once using positional arguments to make a shirt. Call the\n",
    "function a second time using keyword arguments."
   ]
  },
  {
   "cell_type": "code",
   "execution_count": 24,
   "metadata": {},
   "outputs": [
    {
     "name": "stdout",
     "output_type": "stream",
     "text": [
      "Size = \"L\". This shirt size is for big males.\n"
     ]
    }
   ],
   "source": [
    "def make_shirt(size, text):\n",
    "    prompt = \"Enter the size of the shirt.\"\n",
    "    size = input(prompt)\n",
    "    prompt = \"Now enter the description.\"\n",
    "    text = input(prompt)\n",
    "    \n",
    "    print(f\"Size = \\\"{size.upper()}\\\". {text}\")\n",
    "    \n",
    "make_shirt('size', 'text')"
   ]
  },
  {
   "cell_type": "code",
   "execution_count": 25,
   "metadata": {},
   "outputs": [
    {
     "name": "stdout",
     "output_type": "stream",
     "text": [
      "Size = \"M\". This shirt size is for average size males.\n"
     ]
    }
   ],
   "source": [
    "def make_shirt(size, text):\n",
    "    prompt = \"Enter the size of the shirt.\"\n",
    "    size = input(prompt)\n",
    "    prompt = \"Now enter the description.\"\n",
    "    text = input(prompt)\n",
    "    \n",
    "    print(f\"Size = \\\"{size.upper()}\\\". {text}\")\n",
    "    \n",
    "make_shirt(text = 'text', size = 'size')"
   ]
  },
  {
   "cell_type": "markdown",
   "metadata": {},
   "source": [
    "8-4. Large Shirts: Modify the make_shirt() function so that shirts are large\n",
    "by default with a message that reads I love Python. Make a large shirt and a\n",
    "medium shirt with the default message, and a shirt of any size with a\n",
    "different message."
   ]
  },
  {
   "cell_type": "code",
   "execution_count": 44,
   "metadata": {},
   "outputs": [
    {
     "name": "stdout",
     "output_type": "stream",
     "text": [
      "Creating a large shirt with the message 'I love Python'.\n",
      "Creating a medium shirt with the message 'I love Python'.\n",
      "Creating a large shirt with the message 'I love Python'.\n",
      "Creating a medium shirt with the message 'This one is for casual wear.'.\n"
     ]
    }
   ],
   "source": [
    "def make_shirt(size=\"large\", message=\"I love Python\"):\n",
    "    \"\"\"Create a shirt of any size with a message.\"\"\"\n",
    "    if size in[\"large\", \"medium\"]:\n",
    "        print(f\"Creating a {size} shirt with the message '{message}'.\")\n",
    "    else:\n",
    "        print(f\"Creating a {size} shirt with a different message.\")\n",
    "        \n",
    "make_shirt()\n",
    "make_shirt(size = 'medium')\n",
    "make_shirt(size = 'large')\n",
    "make_shirt(size = 'medium', message = 'This one is for casual wear.')\n",
    "    "
   ]
  },
  {
   "cell_type": "markdown",
   "metadata": {},
   "source": [
    "8-5. Cities: Write a function called describe_city() that accepts the name of\n",
    "a city and its country. The function should print a simple sentence, such as\n",
    "Reykjavik is in Iceland. Give the parameter for the country a default value.\n",
    "Call your function for three different cities, at least one of which is not in the\n",
    "default country."
   ]
  },
  {
   "cell_type": "code",
   "execution_count": 45,
   "metadata": {},
   "outputs": [
    {
     "name": "stdout",
     "output_type": "stream",
     "text": [
      "London is in England.\n",
      "York is in England.\n",
      "Glasgow is in Scotland.\n"
     ]
    }
   ],
   "source": [
    "def describe_city(city=\"London\", country=\"England\"):\n",
    "    print(f\"{city} is in {country}.\")\n",
    "\n",
    "describe_city()\n",
    "describe_city('York')\n",
    "describe_city(city = 'Glasgow', country = 'Scotland')"
   ]
  },
  {
   "cell_type": "markdown",
   "metadata": {},
   "source": [
    "### Exercises End"
   ]
  },
  {
   "cell_type": "code",
   "execution_count": 1,
   "metadata": {},
   "outputs": [
    {
     "name": "stdout",
     "output_type": "stream",
     "text": [
      "Jimi Hendrix\n"
     ]
    }
   ],
   "source": [
    "# Returning a Simple Value\n",
    "def get_formatted_name(first_name, last_name):\n",
    "    \"\"\"Return a full name, neatly formatted.\"\"\"\n",
    "    full_name = f\"{first_name} {last_name}\"\n",
    "    return full_name.title()\n",
    "\n",
    "musician = get_formatted_name('jimi', 'hendrix')\n",
    "print(musician)\n"
   ]
  },
  {
   "cell_type": "code",
   "execution_count": null,
   "metadata": {},
   "outputs": [],
   "source": []
  }
 ],
 "metadata": {
  "kernelspec": {
   "display_name": "Python 3",
   "language": "python",
   "name": "python3"
  },
  "language_info": {
   "codemirror_mode": {
    "name": "ipython",
    "version": 3
   },
   "file_extension": ".py",
   "mimetype": "text/x-python",
   "name": "python",
   "nbconvert_exporter": "python",
   "pygments_lexer": "ipython3",
   "version": "3.11.5"
  },
  "orig_nbformat": 4
 },
 "nbformat": 4,
 "nbformat_minor": 2
}
