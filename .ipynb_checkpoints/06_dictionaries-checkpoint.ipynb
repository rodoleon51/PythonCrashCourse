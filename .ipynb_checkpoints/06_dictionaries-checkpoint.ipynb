{
 "cells": [
  {
   "cell_type": "code",
   "execution_count": 22,
   "id": "16c59762-d341-4a97-8ada-9ce1a6b6aa4e",
   "metadata": {
    "tags": []
   },
   "outputs": [
    {
     "name": "stdout",
     "output_type": "stream",
     "text": [
      "green\n",
      "5\n"
     ]
    }
   ],
   "source": [
    "# Accessing values\n",
    "alien_0 = {'color': 'green', 'points': 5}\n",
    "\n",
    "print(alien_0['color'])\n",
    "print(alien_0['points'])"
   ]
  },
  {
   "cell_type": "code",
   "execution_count": 23,
   "id": "e75d2abf-664b-4aec-82a6-9e357472bc71",
   "metadata": {
    "tags": []
   },
   "outputs": [
    {
     "name": "stdout",
     "output_type": "stream",
     "text": [
      "You just earned 5 points!\n"
     ]
    }
   ],
   "source": [
    "alien_0 = {'color': 'green', 'points': 5}\n",
    "\n",
    "new_points = alien_0['points']\n",
    "print(f\"You just earned {new_points} points!\")"
   ]
  },
  {
   "cell_type": "code",
   "execution_count": 24,
   "id": "cf1e61fb-0a62-42af-b63a-a911f467d5b1",
   "metadata": {
    "tags": []
   },
   "outputs": [
    {
     "name": "stdout",
     "output_type": "stream",
     "text": [
      "Before {'color': 'green', 'points': 5}\n",
      "After {'color': 'green', 'points': 5, 'x_position': 0, 'y_position': 25}\n"
     ]
    }
   ],
   "source": [
    "# Adding new key-value pairs\n",
    "print(\"Before\", alien_0)\n",
    "\n",
    "alien_0['x_position'] = 0\n",
    "alien_0['y_position'] = 25\n",
    "print(\"After\", alien_0)"
   ]
  },
  {
   "cell_type": "code",
   "execution_count": 25,
   "id": "977345fe-ea5f-4dbb-b84b-84e9f94fd477",
   "metadata": {
    "tags": []
   },
   "outputs": [
    {
     "name": "stdout",
     "output_type": "stream",
     "text": [
      "{'color': 'green', 'points': 5}\n"
     ]
    }
   ],
   "source": [
    "# Start with an empty dictionary\n",
    "alien_0 = {}\n",
    "alien_0['color'] = 'green'\n",
    "alien_0['points'] = 5\n",
    "print(alien_0)"
   ]
  },
  {
   "cell_type": "code",
   "execution_count": 26,
   "id": "9b356470-d8d6-49ac-9eae-00ba1b7f701f",
   "metadata": {
    "tags": []
   },
   "outputs": [
    {
     "name": "stdout",
     "output_type": "stream",
     "text": [
      "The alien is green.\n",
      "The alien is now yellow.\n"
     ]
    }
   ],
   "source": [
    "# Modify Values\n",
    "alien_0 = {'color': 'green'}\n",
    "print(f\"The alien is {alien_0['color']}.\")\n",
    "\n",
    "alien_0['color'] = 'yellow'\n",
    "print(f\"The alien is now {alien_0['color']}.\")"
   ]
  },
  {
   "cell_type": "code",
   "execution_count": 27,
   "id": "093f3df9-66c4-41c7-8426-2e880f7e0712",
   "metadata": {
    "tags": []
   },
   "outputs": [
    {
     "name": "stdout",
     "output_type": "stream",
     "text": [
      "Original position: 0\n",
      "New position: 2\n"
     ]
    }
   ],
   "source": [
    "alien_0 = {'x_position': 0, 'y_position': 25, 'speed': 'medium'}\n",
    "print(f\"Original position: {alien_0['x_position']}\")\n",
    "# Move the alien to the right.\n",
    "# Determine how far to move the alien based on its current speed.\n",
    "if alien_0['speed'] == 'slow':\n",
    "    x_increment = 1\n",
    "elif alien_0['speed'] == 'medium':\n",
    "    x_increment = 2\n",
    "else:\n",
    "# This must be a fast alien.\n",
    "    x_increment = 3\n",
    "# The new position is the old position plus the increment.\n",
    "alien_0['x_position'] = alien_0['x_position'] + x_increment\n",
    "print(f\"New position: {alien_0['x_position']}\")"
   ]
  },
  {
   "cell_type": "code",
   "execution_count": 28,
   "id": "f0740d5b-424f-4945-8064-912a2a4465c9",
   "metadata": {
    "tags": []
   },
   "outputs": [
    {
     "name": "stdout",
     "output_type": "stream",
     "text": [
      "{'color': 'green', 'points': 5}\n",
      "{'color': 'green'}\n"
     ]
    }
   ],
   "source": [
    "# Remove key-value pairs (permanently)\n",
    "alien_0 = {'color': 'green', 'points': 5}\n",
    "print(alien_0)\n",
    "\n",
    "del alien_0['points']\n",
    "print(alien_0)"
   ]
  },
  {
   "cell_type": "code",
   "execution_count": 29,
   "id": "151732a9-0859-4808-afa7-b200ee2ba46e",
   "metadata": {
    "tags": []
   },
   "outputs": [
    {
     "name": "stdout",
     "output_type": "stream",
     "text": [
      "{'jen': 'python', 'sarah': 'c', 'edward': 'rust', 'phil': 'python'}\n"
     ]
    }
   ],
   "source": [
    "favorite_languages = {\n",
    "    'jen': 'python',\n",
    "    'sarah': 'c',\n",
    "    'edward': 'rust',\n",
    "    'phil': 'python',\n",
    "    }\n",
    "\n",
    "print(favorite_languages)"
   ]
  },
  {
   "cell_type": "code",
   "execution_count": 30,
   "id": "be70459b-7784-480f-a384-46e95a0b7344",
   "metadata": {
    "tags": []
   },
   "outputs": [
    {
     "name": "stdout",
     "output_type": "stream",
     "text": [
      "Sarah's favorite language is C.\n",
      "Sarah's favorite language is C.\n"
     ]
    }
   ],
   "source": [
    "language = favorite_languages['sarah'].title()\n",
    "print(f\"Sarah's favorite language is {language}.\")\n",
    "print(f\"Sarah's favorite language is {favorite_languages['sarah'].title()}.\")"
   ]
  },
  {
   "cell_type": "code",
   "execution_count": 31,
   "id": "001eb46b-0260-4f8c-bf46-599974ce957f",
   "metadata": {
    "tags": []
   },
   "outputs": [
    {
     "ename": "KeyError",
     "evalue": "'points'",
     "output_type": "error",
     "traceback": [
      "\u001b[1;31m---------------------------------------------------------------------------\u001b[0m",
      "\u001b[1;31mKeyError\u001b[0m                                  Traceback (most recent call last)",
      "Cell \u001b[1;32mIn[31], line 3\u001b[0m\n\u001b[0;32m      1\u001b[0m \u001b[38;5;66;03m# Using get()\u001b[39;00m\n\u001b[0;32m      2\u001b[0m alien_0 \u001b[38;5;241m=\u001b[39m {\u001b[38;5;124m'\u001b[39m\u001b[38;5;124mcolor\u001b[39m\u001b[38;5;124m'\u001b[39m: \u001b[38;5;124m'\u001b[39m\u001b[38;5;124mgreen\u001b[39m\u001b[38;5;124m'\u001b[39m, \u001b[38;5;124m'\u001b[39m\u001b[38;5;124mspeed\u001b[39m\u001b[38;5;124m'\u001b[39m: \u001b[38;5;124m'\u001b[39m\u001b[38;5;124mslow\u001b[39m\u001b[38;5;124m'\u001b[39m}\n\u001b[1;32m----> 3\u001b[0m \u001b[38;5;28mprint\u001b[39m(\u001b[43malien_0\u001b[49m\u001b[43m[\u001b[49m\u001b[38;5;124;43m'\u001b[39;49m\u001b[38;5;124;43mpoints\u001b[39;49m\u001b[38;5;124;43m'\u001b[39;49m\u001b[43m]\u001b[49m)\n",
      "\u001b[1;31mKeyError\u001b[0m: 'points'"
     ]
    }
   ],
   "source": [
    "# Using get()\n",
    "alien_0 = {'color': 'green', 'speed': 'slow'}\n",
    "print(alien_0['points'])\n",
    "\n",
    "#Will return error because alien_0 has no 'points' key-value."
   ]
  },
  {
   "cell_type": "code",
   "execution_count": 32,
   "id": "0b9f7548-bf1a-493f-96a4-26b71ccc6b66",
   "metadata": {
    "tags": []
   },
   "outputs": [
    {
     "name": "stdout",
     "output_type": "stream",
     "text": [
      "Native default: None\n",
      "Coded default: No point value assigned.\n"
     ]
    }
   ],
   "source": [
    "# get() prints a default when the requested value does not exist\n",
    "\n",
    "alien_0 = {'color': 'green', 'speed': 'slow'}\n",
    "\n",
    "# Native default answer\n",
    "point_value = alien_0.get('points')\n",
    "print('Native default:', point_value)\n",
    "\n",
    "# Coded default answer\n",
    "point_value = alien_0.get('points', 'No point value assigned.')\n",
    "print('Coded default:', point_value)"
   ]
  },
  {
   "cell_type": "code",
   "execution_count": 33,
   "id": "b9342085-fc8c-4b95-a6c7-f2fcc9fd7a10",
   "metadata": {
    "tags": []
   },
   "outputs": [
    {
     "name": "stdout",
     "output_type": "stream",
     "text": [
      "green\n"
     ]
    }
   ],
   "source": [
    "# get() can be used instead of the square brackets.\n",
    "alien_0 = {'color': 'green', 'speed': 'slow'}\n",
    "\n",
    "point_value = alien_0.get('color', 'No point value assigned.')\n",
    "print(point_value)"
   ]
  },
  {
   "cell_type": "markdown",
   "id": "3c0bd9c7-24a1-4c1c-93bf-d2e8562b3a66",
   "metadata": {},
   "source": [
    "### Exercises"
   ]
  },
  {
   "cell_type": "markdown",
   "id": "a92f4e7d-9e7b-4ebf-861e-1ef09c265b13",
   "metadata": {
    "tags": []
   },
   "source": [
    "6-1. Person: Use a dictionary to store information about a person you\n",
    "know. Store their first name, last name, age, and the city in which they live.\n",
    "You should have keys such as first_name, last_name, age, and city. Print each\n",
    "piece of information stored in your dictionary."
   ]
  },
  {
   "cell_type": "code",
   "execution_count": 35,
   "id": "7fd1e71c",
   "metadata": {
    "tags": []
   },
   "outputs": [
    {
     "name": "stdout",
     "output_type": "stream",
     "text": [
      "Santiago\n"
     ]
    }
   ],
   "source": [
    "nieto1 = {'first_name' : 'Santiago', 'last_name' : 'Vásquez', 'location' : 'Miraflores'}\n",
    "print(nieto1['first_name'])"
   ]
  },
  {
   "cell_type": "code",
   "execution_count": 36,
   "id": "03e66555-d329-4bc8-beca-29f78b98afd2",
   "metadata": {
    "tags": []
   },
   "outputs": [
    {
     "name": "stdout",
     "output_type": "stream",
     "text": [
      "Santiago\n"
     ]
    }
   ],
   "source": [
    "nieto1.get('first_name')\n",
    "print(nieto1.get('first_name'))"
   ]
  },
  {
   "cell_type": "code",
   "execution_count": 37,
   "id": "2691338d-65a1-44cb-929b-915e4afe2e7b",
   "metadata": {
    "tags": []
   },
   "outputs": [
    {
     "name": "stdout",
     "output_type": "stream",
     "text": [
      "Santiago\n"
     ]
    }
   ],
   "source": [
    "nieto = nieto1.get('first_name')\n",
    "print(nieto)"
   ]
  },
  {
   "cell_type": "code",
   "execution_count": 38,
   "id": "23844a39-0eb7-439f-b1c4-2dc47e0ec1c1",
   "metadata": {
    "tags": []
   },
   "outputs": [
    {
     "name": "stdout",
     "output_type": "stream",
     "text": [
      "Santiago\n",
      "Vásquez\n",
      "Miraflores\n"
     ]
    }
   ],
   "source": [
    "print(nieto1['first_name'])\n",
    "print(nieto1['last_name'])\n",
    "print(nieto1['location'])"
   ]
  },
  {
   "cell_type": "markdown",
   "id": "3d5c7a38-b3f5-4830-96bb-31ec5bba2ee2",
   "metadata": {},
   "source": [
    "6-2. Favorite Numbers: Use a dictionary to store people’s favorite\n",
    "numbers. Think of five names, and use them as keys in your dictionary.\n",
    "Think of a favorite number for each person, and store each as a value in\n",
    "your dictionary. Print each person’s name and their favorite number. For\n",
    "even more fun, poll a few friends and get some actual data for your\n",
    "program."
   ]
  },
  {
   "cell_type": "code",
   "execution_count": 39,
   "id": "91c8a192-adfd-44b0-b121-0a7296589c9d",
   "metadata": {
    "tags": []
   },
   "outputs": [
    {
     "name": "stdout",
     "output_type": "stream",
     "text": [
      "12\n",
      "27\n",
      "17\n",
      "23\n"
     ]
    }
   ],
   "source": [
    "numbers ={\n",
    "    'Santiago': 12,\n",
    "    'Joaquín': 27,\n",
    "    'Ian': 17,\n",
    "    'Emilia': 23,\n",
    "    }\n",
    "\n",
    "print(numbers['Santiago'])\n",
    "print(numbers['Joaquín'])\n",
    "print(numbers['Ian'])\n",
    "print(numbers['Emilia'])"
   ]
  },
  {
   "cell_type": "code",
   "execution_count": 40,
   "id": "c5b0d2bc-5a73-4fdd-8417-3ccc3d26420d",
   "metadata": {
    "tags": []
   },
   "outputs": [
    {
     "name": "stdout",
     "output_type": "stream",
     "text": [
      "Santiago = 12\n",
      "Joaquín = 27\n",
      "Ian = 17\n",
      "Emilia = 23\n"
     ]
    }
   ],
   "source": [
    "for name in numbers:\n",
    "    print(f\"{name} = {numbers[name]}\")"
   ]
  },
  {
   "cell_type": "markdown",
   "id": "05db36e5-416d-4060-b898-d3bae3b5086b",
   "metadata": {},
   "source": [
    "6-3. Glosssary: "
   ]
  },
  {
   "cell_type": "code",
   "execution_count": null,
   "id": "24b65352-9083-402d-acd2-4f23f2218524",
   "metadata": {
    "tags": []
   },
   "outputs": [],
   "source": [
    "terms = {\n",
    "'list':'[] A collection of items in a particular order.',\n",
    "'tuple':'() Its contents can not be changed.',\n",
    "'dictionary':'{} Stores key:value pairs.',\n",
    "'set':'{} Extract unique values.',\n",
    "'get':'Can be used instead of the square brackets.'\n",
    "}\n",
    "\n",
    "for term, text in terms.items():\n",
    "    print(term.title(), ':', text)"
   ]
  },
  {
   "cell_type": "markdown",
   "id": "ad3b942b",
   "metadata": {},
   "source": [
    "### Looping through a dictionary"
   ]
  },
  {
   "cell_type": "code",
   "execution_count": null,
   "id": "0f18fbc5-4f5b-4857-95ff-e3264db01510",
   "metadata": {
    "tags": []
   },
   "outputs": [],
   "source": [
    "user_0 = {\n",
    "    'username': 'efermi',\n",
    "    'first': 'enrico',\n",
    "    'last': 'fermi',\n",
    "    }\n",
    "\n",
    "for key, value in user_0.items():   # items() returns a sequence of key-value pairs\n",
    "    print(f\"\\nKey: {key}\")\n",
    "    print(f\"Value: {value}\")"
   ]
  },
  {
   "cell_type": "code",
   "execution_count": null,
   "id": "19801205-68b2-4685-9d6f-1132d7c08a95",
   "metadata": {
    "tags": []
   },
   "outputs": [],
   "source": [
    "favorite_languages = {\n",
    "    'jen': 'python',\n",
    "    'sarah': 'c',\n",
    "    'edward': 'rust',\n",
    "    'phil': 'python',\n",
    "    }\n",
    "\n",
    "# Print only the keys\n",
    "for name in favorite_languages.keys():\n",
    "    print(name.title())\n"
   ]
  },
  {
   "cell_type": "code",
   "execution_count": null,
   "id": "7f0fc14d-4ef5-4d49-80f2-077832333ed2",
   "metadata": {
    "tags": []
   },
   "outputs": [],
   "source": [
    "friends = ['phil', 'sarah']\n",
    "for name in favorite_languages.keys():\n",
    "    print(f\"Hi {name.title()}.\")\n",
    "    if name in friends:\n",
    "        language = favorite_languages[name].title()\n",
    "        print(f\"\\t{name.title()}, I see you love {language}!\")"
   ]
  },
  {
   "cell_type": "code",
   "execution_count": null,
   "id": "92d4673f-499b-40b7-b558-f8e27d703b23",
   "metadata": {
    "tags": []
   },
   "outputs": [],
   "source": [
    "friends = ['phil', 'sarah']\n",
    "for name in favorite_languages.keys():\n",
    "    if name not in friends:\n",
    "        print(f\"Hi {name.title()}!\")\n",
    "    if name in friends:\n",
    "        language = favorite_languages[name].title()\n",
    "        print(f\"HI {name.title()}. I see you love {language}!\")"
   ]
  },
  {
   "cell_type": "code",
   "execution_count": null,
   "id": "353036de-cde8-4a0c-8546-68d63a0cabd0",
   "metadata": {
    "tags": []
   },
   "outputs": [],
   "source": [
    "# Looping Through a Dictionary’s Keys in a Particular Order\n",
    "for name in sorted(favorite_languages.keys()):\n",
    "    print(f\"{name.title()}, thank you for taking the poll.\")"
   ]
  },
  {
   "cell_type": "code",
   "execution_count": null,
   "id": "40402b67-a341-4b78-976d-867becf2878f",
   "metadata": {
    "tags": []
   },
   "outputs": [],
   "source": [
    "# Looping through All Values in a Dictionary#\n",
    "# print only the values\n",
    "print(\"The following languages have been mentioned:\")\n",
    "for language in favorite_languages.values():\n",
    "    print(language.title())"
   ]
  },
  {
   "cell_type": "code",
   "execution_count": null,
   "id": "ecc4915f-295a-4e3d-8e76-58acd2fea283",
   "metadata": {
    "tags": []
   },
   "outputs": [],
   "source": [
    "# To see only unique values use set()\n",
    "print(\"The following languages have been mentioned:\")\n",
    "for language in set(favorite_languages.values()):\n",
    "    print(language.title())"
   ]
  },
  {
   "cell_type": "markdown",
   "id": "db8224f8",
   "metadata": {},
   "source": [
    "### Exercises 2"
   ]
  },
  {
   "cell_type": "markdown",
   "id": "0d65aea8",
   "metadata": {},
   "source": [
    "6-4. Glossary 2: Now that you know how to loop through a dictionary,\n",
    "clean up the code from Exercise 6-3 (page 99) by replacing your series of\n",
    "print() calls with a loop that runs through the dictionary’s keys and values.\n",
    "When you’re sure that your loop works, add five more Python terms to your\n",
    "glossary. When you run your program again, these new words and meanings\n",
    "should automatically be included in the output."
   ]
  },
  {
   "cell_type": "code",
   "execution_count": null,
   "id": "130cf7bd",
   "metadata": {},
   "outputs": [],
   "source": [
    "terms = {\n",
    "'list':'A collection of items in a particular order.',\n",
    "'tuple':'Its contents can not be changed.',\n",
    "'dictionary':'Stores key:value pairs.',\n",
    "'set':'Extract unique values.',\n",
    "'get':'Can be used instead of the square brackets.'\n",
    "}\n",
    "\n",
    "for term, text in terms.items():\n",
    "    print(term.title(), ':', text)"
   ]
  },
  {
   "cell_type": "code",
   "execution_count": null,
   "id": "957f8eeb",
   "metadata": {},
   "outputs": [],
   "source": [
    "terms = {\n",
    "'list':'A collection of items in a particular order.',\n",
    "'tuple':'Its contents can not be changed.',\n",
    "'dictionary':'Stores key:value pairs.',\n",
    "'set':'Extract unique values.',\n",
    "'get':'Can be used instead of the square brackets.',\n",
    "'input':'Prompt the user to enter data.',\n",
    "'functions':'Display information and other functions designed to process data and return a value or set of values.',\n",
    "'classes':'When you create individual objects from the class, each object is automatically equipped with the general behavior.'\n",
    "}\n",
    "\n",
    "for term, text in terms.items():\n",
    "    print(term.title(), ':', text)"
   ]
  },
  {
   "cell_type": "markdown",
   "id": "ec9ecd71",
   "metadata": {},
   "source": [
    "6-5. Rivers: Make a dictionary containing three major rivers and the\n",
    "country each river runs through. One key-value pair might be 'nile': 'egypt'.\n",
    "Use a loop to print a sentence about each river, such as The Nile runs\n",
    "through Egypt.\n",
    "Use a loop to print the name of each river included in the dictionary.\n",
    "Use a loop to print the name of each country included in the dictionary."
   ]
  },
  {
   "cell_type": "code",
   "execution_count": null,
   "id": "3af2d3d8",
   "metadata": {},
   "outputs": [],
   "source": [
    "rivers = {'nile': 'egypt', 'marañón': 'peru', 'baker':'chile'}\n",
    "print('Rivers:')\n",
    "for river, country in rivers.items():\n",
    "    print(river.title())\n",
    "print(\"\\n\")\n",
    "print(\"Countries:\")    \n",
    "for river, country in rivers.items():    \n",
    "    print(country.title())\n",
    "print(\"\\n\")\n",
    "print(\"Countries and Rivers:\")    \n",
    "for river, country in rivers.items():\n",
    "    print('River:', river.title(), \"\\b,\", 'Country:', country.title())      "
   ]
  },
  {
   "cell_type": "markdown",
   "id": "b417053b",
   "metadata": {},
   "source": [
    "6-6. Polling: Use the code in favorite_languages.py (page 96).\n",
    "Make a list of people who should take the favorite languages poll. Include\n",
    "some names that are already in the dictionary and some that are not.\n",
    "Loop through the list of people who should take the poll. If they have already\n",
    "taken the poll, print a message thanking them for responding. If they have\n",
    "not yet taken the poll, print a message inviting them to take the poll."
   ]
  },
  {
   "cell_type": "markdown",
   "id": "52f19595-36f0-436a-8ad6-e6e544282a8e",
   "metadata": {
    "tags": []
   },
   "source": [
    "### Nesting"
   ]
  },
  {
   "cell_type": "code",
   "execution_count": null,
   "id": "12ff3564-4db0-4be7-86c9-e4a2e4e3576a",
   "metadata": {
    "tags": []
   },
   "outputs": [],
   "source": [
    "# List of dictionaries\n",
    "alien_0 = {'color': 'green', 'points': 5}\n",
    "alien_1 = {'color': 'yellow', 'points': 10}\n",
    "alien_2 = {'color': 'red', 'points': 15}\n",
    "aliens = [alien_0, alien_1, alien_2]\n",
    "\n",
    "for alien in aliens:\n",
    "    print(alien)"
   ]
  },
  {
   "cell_type": "code",
   "execution_count": null,
   "id": "d16e5fc4-d3b8-4e8f-8a6f-3f64f4402700",
   "metadata": {
    "tags": []
   },
   "outputs": [],
   "source": [
    "# Make an empty list for storing aliens.\n",
    "aliens = []\n",
    "# Make 30 green aliens.\n",
    "for alien_number in range(30):\n",
    "    new_alien = {'color': 'green', 'points': 5, 'speed': 'slow'}\n",
    "    aliens.append(new_alien)\n",
    "\n",
    "# Show the first 5 aliens.\n",
    "for alien in aliens[:5]:\n",
    "     print(alien)\n",
    "print(\"...\")\n",
    "# Show how many aliens have been created.\n",
    "print(f\"Total number of aliens: {len(aliens)}\")"
   ]
  },
  {
   "cell_type": "code",
   "execution_count": null,
   "id": "9968fbc9-6c1d-4eb4-a8ff-984f2ff1cd4a",
   "metadata": {},
   "outputs": [],
   "source": [
    "# A list in a Dictionary\n",
    "# Store information about a pizza being ordered.\n",
    "pizza = {\n",
    "    'crust': 'thick',\n",
    "    'toppings': ['mushrooms', 'extra cheese'],\n",
    " }\n",
    "# Summarize the order.\n",
    "print(f\"You ordered a {pizza['crust']}-crust pizza \" \"with the following toppings:\")\n",
    "for topping in pizza['toppings']:\n",
    "    print(f\"\\t{topping}\")"
   ]
  },
  {
   "cell_type": "code",
   "execution_count": null,
   "id": "2c059378-b276-48dc-9fb8-f4cf3e684eb1",
   "metadata": {
    "tags": []
   },
   "outputs": [],
   "source": [
    "favorite_languages = {\n",
    "    'jen': ['python', 'rust'],\n",
    "    'sarah': ['c'],\n",
    "    'edward': ['rust', 'go'],\n",
    "    'phil': ['python', 'haskell'],\n",
    "    }\n",
    "\n",
    "for name, languages in favorite_languages.items():\n",
    "    print(f\"\\n{name.title()}'s favorite languages are:\")\n",
    "    for language in languages:\n",
    "        print(f\"\\t{language.title()}\")"
   ]
  },
  {
   "cell_type": "code",
   "execution_count": null,
   "id": "2eaeaf83-f6e1-429e-ad22-911f8b06b1dd",
   "metadata": {
    "tags": []
   },
   "outputs": [],
   "source": [
    "# A Dictionary in a Dictionary\n",
    "users = {\n",
    "    'aeinstein': {\n",
    "        'first': 'albert',\n",
    "        'last': 'einstein',\n",
    "        'location': 'princeton',\n",
    "     },\n",
    "    'mcurie': {\n",
    "        'first': 'marie',\n",
    "        'last': 'curie',\n",
    "        'location': 'paris',\n",
    "         },\n",
    "     }\n",
    "for username, user_info in users.items():\n",
    "    print(f\"\\nUsername: {username}\")\n",
    "    full_name = f\"{user_info['first']} {user_info['last']}\"\n",
    "    location = user_info['location']\n",
    "    print(f\"\\tFull name: {full_name.title()}\")\n",
    "    print(f\"\\tLocation: {location.title()}\")"
   ]
  },
  {
   "cell_type": "markdown",
   "id": "f6bbbde4-1ae2-463c-94da-9f5f6c07129b",
   "metadata": {},
   "source": [
    "### Exercises"
   ]
  },
  {
   "cell_type": "markdown",
   "id": "4adab84b-18b7-43ee-9705-2f20212ffaff",
   "metadata": {},
   "source": [
    "6-7. People: Start with the program you wrote for Exercise 6-1 (page 98).\n",
    "Make two new dictionaries representing different people, and store all three\n",
    "dictionaries in a list called people. Loop through your list of people. As you\n",
    "loop through the list, print everything you know about each person."
   ]
  },
  {
   "cell_type": "code",
   "execution_count": null,
   "id": "d13d57a9-1674-4dfa-8bb9-9205b258fe49",
   "metadata": {
    "tags": []
   },
   "outputs": [],
   "source": [
    "people = [\n",
    "    {'svasquez': {'first_name' : 'Santiago', 'last_name' : 'Vásquez', 'location' : 'Miraflores'}},\n",
    "    {'jmavila': {'first_name' : 'Joaquín', 'last_name' : 'Mavila', 'location' : 'Surco'}},\n",
    "    {'epeñav': {'first_name' : 'Emilia', 'last_name' : 'Peña-Vásquez', 'location' : 'Surco'}},\n",
    "    ]\n",
    "\n",
    "for nieto in people:\n",
    "    for user, info in nieto.items():\n",
    "        print(f\"Nieto:{user}\")\n",
    "        full_name = f\"{info['first_name']} {info['last_name']}\"\n",
    "        print(f\"\\tFull name: {full_name.title()}\")\n",
    "        print(f\"\\tLocation:{'location'}\")"
   ]
  },
  {
   "cell_type": "markdown",
   "id": "e1371ec1-4b8b-455e-93fa-7a5de834621a",
   "metadata": {},
   "source": [
    "6-8. Pets: Make several dictionaries, where each dictionary represents a\n",
    "different pet. In each dictionary, include the kind of animal and the owner’s\n",
    "name. Store these dictionaries in a list called pets. Next, loop through your\n",
    "list and as you do, print everything you know about each pet."
   ]
  },
  {
   "cell_type": "code",
   "execution_count": null,
   "id": "102e82c8-8d06-468b-8360-b0c14e756bd4",
   "metadata": {
    "tags": []
   },
   "outputs": [],
   "source": [
    "pets = [\n",
    "    {'rebelde': {'raza':'doberman', 'nom_dueño': 'Roberto', 'ape_dueño': 'Revilla'}},\n",
    "    {'camille': {'raza':'hamster', 'nom_dueño': 'Carla', 'ape_dueño': 'Jiménez'}},\n",
    "    {'pebbles': {'raza':'cacatúa', 'nom_dueño': 'Pedro', 'ape_dueño': 'Picapiedra'}}\n",
    "    ]\n",
    "\n",
    "for pet in pets:\n",
    "    for pet_name, data in pet.items():\n",
    "        print(f\"Pet:{pet_name.title()}\")\n",
    "        raza = f\"{data['raza']}\"\n",
    "        dueño = f\"{data['nom_dueño']} {data['ape_dueño']}\"\n",
    "        print(f\"\\tRaza:{raza.title()}\")\n",
    "        print(f\"\\tDueño:{dueño.title()}\")"
   ]
  },
  {
   "cell_type": "markdown",
   "id": "16107edd-af56-46c3-a73a-0ad4c93ad91a",
   "metadata": {},
   "source": [
    "6-9. Favorite Places: Make a dictionary called favorite_places. Think of\n",
    "three names to use as keys in the dictionary, and store one to three favorite\n",
    "places for each person. To make this exercise a bit more interesting, ask\n",
    "some friends to name a few of their favorite places. Loop through the\n",
    "dictionary, and print each person’s name and their favorite places."
   ]
  },
  {
   "cell_type": "code",
   "execution_count": null,
   "id": "c63f8c0d",
   "metadata": {},
   "outputs": [],
   "source": [
    "favorite_places = {\n",
    "    'Carlos':['Cuzco', 'Tarapoto', 'Ayacucho'],\n",
    "    'Juana':['Huancayo', 'Arequipa', 'Puno'],\n",
    "    'Marina':['Trujillo', 'Lambayeque', 'Huaraz']\n",
    "}"
   ]
  },
  {
   "cell_type": "code",
   "execution_count": null,
   "id": "0ec07dbd-96b8-4650-bb06-0f42f5dbe657",
   "metadata": {},
   "outputs": [],
   "source": [
    "print(\"Option 1\")\n",
    "for name, places in favorite_places.items():\n",
    "    print(f\"\\n{name.title()}'s favorite places are:\")\n",
    "    for place in places:\n",
    "        print(f\"\\t{place.title()}\")"
   ]
  },
  {
   "cell_type": "code",
   "execution_count": null,
   "id": "b491cb84",
   "metadata": {},
   "outputs": [],
   "source": [
    "print(\"Option 2\")\n",
    "for name, places in favorite_places.items():\n",
    "    print(f\"\\n{name.title()}'s favorite places are:\")\n",
    "    for place in places:\n",
    "        print(f\"\\t{place.title()}\", end = ', ')"
   ]
  },
  {
   "cell_type": "code",
   "execution_count": null,
   "id": "914bfbc9",
   "metadata": {},
   "outputs": [],
   "source": [
    "print(\"Option 3\")       \n",
    "for name, places in favorite_places.items():\n",
    "    print(f\"\\n{name.title()}'s favorite places are:\",  end = ' ')\n",
    "    for place in places:\n",
    "        print(f\"{place.title()}\", end = ', ')"
   ]
  },
  {
   "cell_type": "markdown",
   "id": "b8a8812d-a587-44cd-8518-38ed08943341",
   "metadata": {},
   "source": [
    "6-10. Favorite Numbers: Modify your program from Exercise 6-2 (page\n",
    "98) so each person can have more than one favorite number. Then print\n",
    "each person’s name along with their favorite numbers."
   ]
  },
  {
   "cell_type": "code",
   "execution_count": null,
   "id": "a9b34a13-a993-470c-8685-85b0b313664d",
   "metadata": {},
   "outputs": [],
   "source": []
  },
  {
   "cell_type": "markdown",
   "id": "38ef2ad4-ac8e-4acf-9ad4-8c3f00bda165",
   "metadata": {},
   "source": [
    "6-11. Cities: Make a dictionary called cities. Use the names of three cities\n",
    "as keys in your dictionary. Create a dictionary of information about each city\n",
    "and include the country that the city is in, its approximate population, and\n",
    "one fact about that city. The keys for each city’s dictionary should be\n",
    "something like country, population, and fact. Print the name of each city and\n",
    "all of the information you have stored about it."
   ]
  },
  {
   "cell_type": "code",
   "execution_count": null,
   "id": "c23fff70-69bf-4866-830d-9a60c61c9508",
   "metadata": {},
   "outputs": [],
   "source": []
  },
  {
   "cell_type": "markdown",
   "id": "c1f6fa14-3874-4960-8455-03215398fd32",
   "metadata": {
    "tags": []
   },
   "source": [
    "6-12. Extensions: We´re now working with examples that are complex\n",
    "enough that they can be extended in any number of ways. Use one of the\n",
    "example programs from this chapter, and extend it by adding new keys and\n",
    "values, changing the context of the program, or improving the formatting of\n",
    "the output."
   ]
  },
  {
   "cell_type": "markdown",
   "id": "611d194f-30a3-493f-a069-1d613a74b6c5",
   "metadata": {},
   "source": []
  }
 ],
 "metadata": {
  "kernelspec": {
   "display_name": "Python 3 (ipykernel)",
   "language": "python",
   "name": "python3"
  },
  "language_info": {
   "codemirror_mode": {
    "name": "ipython",
    "version": 3
   },
   "file_extension": ".py",
   "mimetype": "text/x-python",
   "name": "python",
   "nbconvert_exporter": "python",
   "pygments_lexer": "ipython3",
   "version": "3.10.13"
  }
 },
 "nbformat": 4,
 "nbformat_minor": 5
}
