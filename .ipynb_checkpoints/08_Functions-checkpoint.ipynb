{
 "cells": [
  {
   "cell_type": "code",
   "execution_count": 1,
   "metadata": {},
   "outputs": [
    {
     "name": "stdout",
     "output_type": "stream",
     "text": [
      "Hello, Jesse!\n"
     ]
    }
   ],
   "source": [
    "def greet_user(username):\n",
    "    \"\"\"Display a simple greeting.\"\"\"\n",
    "    print(f\"Hello, {username.title()}!\")\n",
    "    \n",
    "greet_user('jesse')"
   ]
  },
  {
   "cell_type": "code",
   "execution_count": 2,
   "metadata": {},
   "outputs": [
    {
     "name": "stdin",
     "output_type": "stream",
     "text": [
      "If you share your name, we can personalize the messages you see.\n",
      "What is your first name? Rodolfo\n"
     ]
    },
    {
     "name": "stdout",
     "output_type": "stream",
     "text": [
      "Hello, Rodolfo!\n"
     ]
    }
   ],
   "source": [
    "def greet_user(username):\n",
    "    \"\"\"Prompt for the username\"\"\"\n",
    "    prompt = (\"If you share your name, we can personalize the messages you see.\"\n",
    "        + \"\\nWhat is your first name?\")\n",
    "    username = input(prompt)\n",
    "\n",
    "    \"\"\"Display a simple greeting.\"\"\"\n",
    "    print(f\"Hello, {username.title()}!\")\n",
    "\n",
    "greet_user('username')"
   ]
  },
  {
   "cell_type": "markdown",
   "metadata": {},
   "source": [
    "### Exercises 8-1 to 8_5"
   ]
  },
  {
   "cell_type": "markdown",
   "metadata": {},
   "source": [
    "8-1. Message: Write a function called display_message() that prints one\n",
    "sentence telling everyone what you are learning about in this chapter. Call\n",
    "the function, and make sure the message displays correctly."
   ]
  },
  {
   "cell_type": "code",
   "execution_count": 3,
   "metadata": {},
   "outputs": [
    {
     "name": "stdout",
     "output_type": "stream",
     "text": [
      "\n",
      "\n"
     ]
    },
    {
     "name": "stdin",
     "output_type": "stream",
     "text": [
      "Enter the message you want to display:\n",
      " Hello everyone! In chapter 8 I am learning about functions in Python.\n"
     ]
    }
   ],
   "source": [
    "# \"Hello everyone! In chapter 8 I am learning about functions in Python.\"\n",
    "\n",
    "def display_message(message):\n",
    "    prompt = \"Enter the message you want to display:\\n\"\n",
    "    message = input(prompt)\n",
    "    #print(message)\n",
    "print(\"\\n\")    \n",
    "display_message('message')"
   ]
  },
  {
   "cell_type": "markdown",
   "metadata": {},
   "source": [
    "8-2. Favorite Book: Write a function called favorite_book() that accepts one\n",
    "parameter, title. The function should print a message, such as One of my\n",
    "favorite books is Alice in Wonderland. Call the function, making sure to\n",
    "include a book title as an argument in the function call.\n"
   ]
  },
  {
   "cell_type": "code",
   "execution_count": 6,
   "metadata": {},
   "outputs": [
    {
     "name": "stdin",
     "output_type": "stream",
     "text": [
      "Enter the title of your favorite book. Principia Matematica\n"
     ]
    },
    {
     "name": "stdout",
     "output_type": "stream",
     "text": [
      "One of my favorite books is Principia Matematica.\n"
     ]
    }
   ],
   "source": [
    "def favorite_book(book):\n",
    "    prompt = \"Enter the title of your favorite book.\"\n",
    "    book = input(prompt)\n",
    "    print(f\"One of my favorite books is {book.title()}.\" )\n",
    "    \n",
    "favorite_book('Principia Matematica')"
   ]
  },
  {
   "cell_type": "code",
   "execution_count": null,
   "metadata": {},
   "outputs": [],
   "source": []
  },
  {
   "cell_type": "code",
   "execution_count": null,
   "metadata": {},
   "outputs": [],
   "source": [
    "def describe_pet(animal_type, pet_name):\n",
    "    \"\"\"Display information about a pet.\"\"\"\n",
    "    print(f\"\\nI have a {animal_type}.\")\n",
    "    print(f\"My {animal_type}'s name is {pet_name.title()}.\")\n",
    "\n",
    "describe_pet('hamster', 'harry')"
   ]
  },
  {
   "cell_type": "code",
   "execution_count": 7,
   "metadata": {},
   "outputs": [
    {
     "name": "stdin",
     "output_type": "stream",
     "text": [
      "Enter the animal type of your pet. parrot\n",
      "Now enter the name of your pet. Pepita\n"
     ]
    },
    {
     "name": "stdout",
     "output_type": "stream",
     "text": [
      "\n",
      "I have a parrot.\n",
      "My parrot's name is Pepita.\n"
     ]
    },
    {
     "name": "stdin",
     "output_type": "stream",
     "text": [
      "Enter the animal type of your pet. dog\n",
      "Now enter the name of your pet. Rebelde\n"
     ]
    },
    {
     "name": "stdout",
     "output_type": "stream",
     "text": [
      "\n",
      "I have a dog.\n",
      "My dog's name is Rebelde.\n"
     ]
    },
    {
     "name": "stdin",
     "output_type": "stream",
     "text": [
      "Enter the animal type of your pet. cat\n",
      "Now enter the name of your pet. Cookie\n"
     ]
    },
    {
     "name": "stdout",
     "output_type": "stream",
     "text": [
      "\n",
      "I have a cat.\n",
      "My cat's name is Cookie.\n"
     ]
    }
   ],
   "source": [
    "# Positional arguments\n",
    "def describe_pet(animal_type, pet_name):\n",
    "    prompt = \"Enter the animal type of your pet.\"\n",
    "    animal_type = input(prompt)\n",
    "    prompt = \"Now enter the name of your pet.\"\n",
    "    pet_name = input(prompt)\n",
    "    \n",
    "    \"\"\"Display information about a pet.\"\"\"\n",
    "    print(f\"\\nI have a {animal_type}.\")\n",
    "    print(f\"My {animal_type}'s name is {pet_name.title()}.\")\n",
    "    \n",
    "describe_pet('animal', 'name')\n",
    "describe_pet('animal_type', 'pet_name')\n",
    "describe_pet('1', '2')"
   ]
  },
  {
   "cell_type": "markdown",
   "metadata": {},
   "source": [
    "8-3. T-Shirt: Write a function called make_shirt() that accepts a size and the\n",
    "text of a message that should be printed on the shirt. The function should\n",
    "print a sentence summarizing the size of the shirt and the message printed\n",
    "on it.\n",
    "Call the function once using positional arguments to make a shirt. Call the\n",
    "function a second time using keyword arguments."
   ]
  },
  {
   "cell_type": "code",
   "execution_count": 8,
   "metadata": {},
   "outputs": [
    {
     "name": "stdin",
     "output_type": "stream",
     "text": [
      "Enter the size of the shirt. large\n",
      "Now enter the description. Happy Angler\n"
     ]
    },
    {
     "name": "stdout",
     "output_type": "stream",
     "text": [
      "Size = \"LARGE\". Happy Angler\n"
     ]
    }
   ],
   "source": [
    "def make_shirt(size, text):\n",
    "    prompt = \"Enter the size of the shirt.\"\n",
    "    size = input(prompt)\n",
    "    prompt = \"Now enter the description.\"\n",
    "    text = input(prompt)\n",
    "    \n",
    "    print(f\"Size = \\\"{size.upper()}\\\". {text}\")\n",
    "    \n",
    "make_shirt('size', 'text')"
   ]
  },
  {
   "cell_type": "code",
   "execution_count": 9,
   "metadata": {},
   "outputs": [
    {
     "name": "stdin",
     "output_type": "stream",
     "text": [
      "Enter the size of the shirt. large\n",
      "Now enter the description. Happy Patagonian Angler\n"
     ]
    },
    {
     "name": "stdout",
     "output_type": "stream",
     "text": [
      "Size = \"LARGE\". Happy Patagonian Angler\n"
     ]
    }
   ],
   "source": [
    "def make_shirt(size, text):\n",
    "    prompt = \"Enter the size of the shirt.\"\n",
    "    size = input(prompt)\n",
    "    prompt = \"Now enter the description.\"\n",
    "    text = input(prompt)\n",
    "    \n",
    "    print(f\"Size = \\\"{size.upper()}\\\". {text}\")\n",
    "    \n",
    "make_shirt(text = 'text', size = 'size')"
   ]
  },
  {
   "cell_type": "markdown",
   "metadata": {},
   "source": [
    "8-4. Large Shirts: Modify the make_shirt() function so that shirts are large\n",
    "by default with a message that reads I love Python. Make a large shirt and a\n",
    "medium shirt with the default message, and a shirt of any size with a\n",
    "different message."
   ]
  },
  {
   "cell_type": "code",
   "execution_count": 10,
   "metadata": {},
   "outputs": [
    {
     "name": "stdout",
     "output_type": "stream",
     "text": [
      "Creating a large shirt with the message 'I love Python'.\n",
      "Creating a medium shirt with the message 'I love Python'.\n",
      "Creating a large shirt with the message 'I love Python'.\n",
      "Creating a medium shirt with the message 'This one is for casual wear.'.\n"
     ]
    }
   ],
   "source": [
    "def make_shirt(size=\"large\", message=\"I love Python\"):\n",
    "    \"\"\"Create a shirt of any size with a message.\"\"\"\n",
    "    if size in[\"large\", \"medium\"]:\n",
    "        print(f\"Creating a {size} shirt with the message '{message}'.\")\n",
    "    else:\n",
    "        print(f\"Creating a {size} shirt with a different message.\")\n",
    "        \n",
    "make_shirt()\n",
    "make_shirt(size = 'medium')\n",
    "make_shirt(size = 'large')\n",
    "make_shirt(size = 'medium', message = 'This one is for casual wear.')\n",
    "    "
   ]
  },
  {
   "cell_type": "markdown",
   "metadata": {},
   "source": [
    "8-5. Cities: Write a function called describe_city() that accepts the name of\n",
    "a city and its country. The function should print a simple sentence, such as\n",
    "Reykjavik is in Iceland. Give the parameter for the country a default value.\n",
    "Call your function for three different cities, at least one of which is not in the\n",
    "default country."
   ]
  },
  {
   "cell_type": "code",
   "execution_count": 11,
   "metadata": {},
   "outputs": [
    {
     "name": "stdout",
     "output_type": "stream",
     "text": [
      "London is in England.\n",
      "York is in England.\n",
      "Glasgow is in Scotland.\n"
     ]
    }
   ],
   "source": [
    "def describe_city(city=\"London\", country=\"England\"):\n",
    "    print(f\"{city} is in {country}.\")\n",
    "\n",
    "describe_city()\n",
    "describe_city('York')\n",
    "describe_city(city = 'Glasgow', country = 'Scotland')"
   ]
  },
  {
   "cell_type": "markdown",
   "metadata": {},
   "source": [
    "### Exercises End"
   ]
  },
  {
   "cell_type": "code",
   "execution_count": 21,
   "metadata": {},
   "outputs": [
    {
     "name": "stdout",
     "output_type": "stream",
     "text": [
      "Jimi Hendrix\n"
     ]
    }
   ],
   "source": [
    "# Returning a Simple Value\n",
    "def get_formatted_name(first_name, last_name):\n",
    "    \"\"\"Return a full name, neatly formatted.\"\"\"\n",
    "    full_name = f\"{first_name} {last_name}\"\n",
    "    return full_name.title()\n",
    "\n",
    "musician = get_formatted_name('jimi', 'hendrix')\n",
    "print(musician)"
   ]
  },
  {
   "cell_type": "code",
   "execution_count": 24,
   "metadata": {},
   "outputs": [
    {
     "name": "stdout",
     "output_type": "stream",
     "text": [
      "John Lee Hooker\n"
     ]
    }
   ],
   "source": [
    "# Optional argument A\n",
    "def get_formatted_name(first_name, middle_name, last_name):\n",
    "    \"\"\"Return a full name, neatly formatted.\"\"\"\n",
    "    full_name = f\"{first_name} {middle_name} {last_name}\"\n",
    "    return full_name.title()\n",
    "\n",
    "musician = get_formatted_name('john', 'lee', 'hooker')\n",
    "print(musician)"
   ]
  },
  {
   "cell_type": "code",
   "execution_count": 27,
   "metadata": {},
   "outputs": [
    {
     "name": "stdout",
     "output_type": "stream",
     "text": [
      "Jimi Hendrix\n",
      "John Hooker Lee\n"
     ]
    }
   ],
   "source": [
    "def get_formatted_name(first_name, last_name, middle_name = ''):\n",
    "    \"\"\"Return a full name, neatly formatted.\"\"\"\n",
    "    if middle_name:\n",
    "        full_name = f\"{first_name} {middle_name} {last_name}\"\n",
    "    else:\n",
    "        full_name = f\"{first_name} {last_name}\"\n",
    "    return full_name.title()\n",
    "\n",
    "musician = get_formatted_name('jimi', 'hendrix')\n",
    "print(musician)\n",
    "\n",
    "musician = get_formatted_name('john', 'lee', 'hooker')\n",
    "print(musician)"
   ]
  },
  {
   "cell_type": "code",
   "execution_count": 28,
   "metadata": {},
   "outputs": [
    {
     "name": "stdout",
     "output_type": "stream",
     "text": [
      "{'first': 'jimi', 'last': 'hendrix'}\n"
     ]
    }
   ],
   "source": [
    "def build_person(first_name, last_name):\n",
    "    \"\"\"Return a a dictionary or information about a person.\"\"\"\n",
    "    person = {'first': first_name, 'last': last_name}\n",
    "    return person\n",
    "\n",
    "musician = build_person('jimi', 'hendrix')\n",
    "print(musician)"
   ]
  },
  {
   "cell_type": "code",
   "execution_count": 30,
   "metadata": {},
   "outputs": [
    {
     "name": "stdout",
     "output_type": "stream",
     "text": [
      "{'first': 'jimi', 'last': 'hendrix', 'age': 27}\n"
     ]
    }
   ],
   "source": [
    "# Extend a function\n",
    "def build_person(first_name, last_name, age = None):\n",
    "    \"\"\"Return a a dictionary or information about a person.\"\"\"\n",
    "    person = {'first': first_name, 'last': last_name}\n",
    "    if age:\n",
    "        person['age'] = age\n",
    "    return person\n",
    "\n",
    "musician = build_person('jimi', 'hendrix', age = 27)\n",
    "print(musician)"
   ]
  },
  {
   "cell_type": "code",
   "execution_count": 54,
   "metadata": {},
   "outputs": [
    {
     "name": "stdout",
     "output_type": "stream",
     "text": [
      "\n",
      "Please tell me your name:\n",
      "(Enter 'q' at any time to quit)\n"
     ]
    },
    {
     "name": "stdin",
     "output_type": "stream",
     "text": [
      "First name:  Rodolfo\n",
      "Last name:  leon\n"
     ]
    },
    {
     "name": "stdout",
     "output_type": "stream",
     "text": [
      "\n",
      "Hello, Rodolfo Leon\n",
      "\n",
      "Please tell me your name:\n",
      "(Enter 'q' at any time to quit)\n"
     ]
    },
    {
     "name": "stdin",
     "output_type": "stream",
     "text": [
      "First name:  q\n"
     ]
    }
   ],
   "source": [
    "def get_formatted_name(first_name, last_name):\n",
    "    \"\"\"Return a full name, neatly formatted.\"\"\"\n",
    "    full_name = f\"{first_name} {last_name}\"\n",
    "    return full_name.title()\n",
    "\n",
    "while True:\n",
    "    print(\"\\nPlease tell me your name:\")\n",
    "    print(\"(Enter 'q' at any time to quit)\")\n",
    "\n",
    "    f_name = input(\"First name: \")\n",
    "    if f_name == 'q':\n",
    "        break\n",
    "       \n",
    "    l_name = input(\"Last name: \")\n",
    "    if l_name == 'q':\n",
    "        break\n",
    "\n",
    "    formatted_name = get_formatted_name(f_name, l_name)\n",
    "    print(f\"\\nHello, {formatted_name}\")"
   ]
  },
  {
   "cell_type": "markdown",
   "metadata": {},
   "source": [
    "### Exercises"
   ]
  },
  {
   "cell_type": "markdown",
   "metadata": {},
   "source": [
    "8-6. City Names: Write a function called city_country() that takes in the name of a city and its country. The function should return a string formatted like \"Santiago, Chile\".\n",
    " "
   ]
  },
  {
   "cell_type": "code",
   "execution_count": 48,
   "metadata": {},
   "outputs": [
    {
     "name": "stdout",
     "output_type": "stream",
     "text": [
      "Santiago, Chile\n",
      "Lima, Peru\n",
      "Bogotá, Colombia\n"
     ]
    }
   ],
   "source": [
    "def city_country(city_name, country_name):\n",
    "    \"\"\"Return a location, neatly formatted.\"\"\"\n",
    "    location = f\"{city_name}, {country_name}\"\n",
    "    return location.title()\n",
    "\n",
    "location = city_country('santiago', 'chile')\n",
    "print(location)\n",
    "location = city_country('lima', 'peru')\n",
    "print(location)\n",
    "location = city_country('bogotá', 'colombia')\n",
    "print(location)"
   ]
  },
  {
   "cell_type": "code",
   "execution_count": 57,
   "metadata": {},
   "outputs": [
    {
     "name": "stdout",
     "output_type": "stream",
     "text": [
      "Enter the city and country:\n",
      "(Enter 'q' to quit)\n"
     ]
    },
    {
     "name": "stdin",
     "output_type": "stream",
     "text": [
      "City:  lima\n",
      "Country:  peru\n"
     ]
    },
    {
     "name": "stdout",
     "output_type": "stream",
     "text": [
      "Lima, Peru \n",
      "\n"
     ]
    },
    {
     "name": "stdin",
     "output_type": "stream",
     "text": [
      "City:  santiago\n",
      "Country:  chile\n"
     ]
    },
    {
     "name": "stdout",
     "output_type": "stream",
     "text": [
      "Santiago, Chile \n",
      "\n"
     ]
    },
    {
     "name": "stdin",
     "output_type": "stream",
     "text": [
      "City:  caracas\n",
      "Country:  venezuela\n"
     ]
    },
    {
     "name": "stdout",
     "output_type": "stream",
     "text": [
      "Caracas, Venezuela \n",
      "\n"
     ]
    },
    {
     "name": "stdin",
     "output_type": "stream",
     "text": [
      "City:  q\n"
     ]
    }
   ],
   "source": [
    "def city_country(city_name, country_name):\n",
    "    \"\"\"Return a location, neatly formatted.\"\"\"\n",
    "    location = f\"{city_name}, {country_name}\"\n",
    "    return location.title()\n",
    "    \n",
    "print(\"Enter the city and country:\")\n",
    "print(\"(Enter 'q' to quit)\")\n",
    "while True:\n",
    "    city_name = input(\"City: \")\n",
    "    if city_name == 'q':\n",
    "        break\n",
    "       \n",
    "    country_name = input(\"Country: \")\n",
    "    if country_name == 'q':\n",
    "        break\n",
    "\n",
    "    location = city_country(city_name, country_name)\n",
    "    print(location.title(), \"\\n\")\n"
   ]
  },
  {
   "cell_type": "markdown",
   "metadata": {},
   "source": [
    "8-7. Album: Write a function called make_album() that builds a dictionary describing a music album. The function hould take in an artist name and an album title, and it should return a dictionary containing these two pieces of information. Use the function to make three dictionaries representing different albums. Print each return value to how that the dictionaries are storing the album information correctly.\n",
    "Use None to add an optional parameter to make_album() that allows you to \n",
    "store the number of songs on an album. If the calling line includes a valu \r\n",
    "for the number of songs, add that value to the album’s dictionary. Make  t\r\n",
    "least one new function call that includes the number of songs on an album."
   ]
  },
  {
   "cell_type": "code",
   "execution_count": null,
   "metadata": {},
   "outputs": [],
   "source": []
  },
  {
   "cell_type": "markdown",
   "metadata": {},
   "source": [
    "8-8. User Albums: Start with your program from Exercise 8-7. Write a while loop that allows users to enter an album’s artist and title. Once you have that information, call make_album() with the user’s input and print the dictionary that’s created. Be sure to include a quit value in the while loop."
   ]
  },
  {
   "cell_type": "code",
   "execution_count": null,
   "metadata": {},
   "outputs": [],
   "source": []
  },
  {
   "cell_type": "code",
   "execution_count": null,
   "metadata": {},
   "outputs": [],
   "source": []
  }
 ],
 "metadata": {
  "kernelspec": {
   "display_name": "Python 3 (ipykernel)",
   "language": "python",
   "name": "python3"
  },
  "language_info": {
   "codemirror_mode": {
    "name": "ipython",
    "version": 3
   },
   "file_extension": ".py",
   "mimetype": "text/x-python",
   "name": "python",
   "nbconvert_exporter": "python",
   "pygments_lexer": "ipython3",
   "version": "3.10.13"
  }
 },
 "nbformat": 4,
 "nbformat_minor": 4
}
