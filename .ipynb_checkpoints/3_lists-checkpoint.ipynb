{
 "cells": [
  {
   "cell_type": "markdown",
   "id": "81b521cd-a39f-4111-ac7f-f183a8df2331",
   "metadata": {},
   "source": [
    "#### bicycles.py"
   ]
  },
  {
   "cell_type": "code",
   "execution_count": 1,
   "id": "9f2247f3-8bd5-4ba7-9067-3bfa0034a7ab",
   "metadata": {},
   "outputs": [
    {
     "name": "stdout",
     "output_type": "stream",
     "text": [
      "['trek', 'cannondale', 'redline', 'specialized']\n"
     ]
    }
   ],
   "source": [
    "bicycles = ['trek', 'cannondale', 'redline', 'specialized']\n",
    "print(bicycles)"
   ]
  },
  {
   "cell_type": "code",
   "execution_count": 2,
   "id": "0e4e9c08-2d70-4819-9d75-99ad085e9470",
   "metadata": {},
   "outputs": [
    {
     "name": "stdout",
     "output_type": "stream",
     "text": [
      "trek\n",
      "Trek\n"
     ]
    }
   ],
   "source": [
    "print(bicycles[0])\n",
    "print(bicycles[0].title())"
   ]
  },
  {
   "cell_type": "code",
   "execution_count": 3,
   "id": "c5eff8c4-680f-40b3-8151-66686fc12179",
   "metadata": {},
   "outputs": [
    {
     "name": "stdout",
     "output_type": "stream",
     "text": [
      "\n",
      "Second and fourth elements\n",
      "cannondale\n",
      "specialized\n"
     ]
    }
   ],
   "source": [
    "print(\"\\nSecond and fourth elements\")\n",
    "print(bicycles[1])\n",
    "print(bicycles[3])"
   ]
  },
  {
   "cell_type": "code",
   "execution_count": 4,
   "id": "a36e5842-9736-4d0d-928f-b25c3aad1854",
   "metadata": {},
   "outputs": [
    {
     "name": "stdout",
     "output_type": "stream",
     "text": [
      "\n",
      "Last element\n",
      "specialized\n"
     ]
    }
   ],
   "source": [
    "print(\"\\nLast element\")\n",
    "print(bicycles[-1])"
   ]
  },
  {
   "cell_type": "code",
   "execution_count": 5,
   "id": "e7ef430a-93c7-41a7-af53-6054578ee08c",
   "metadata": {},
   "outputs": [
    {
     "name": "stdout",
     "output_type": "stream",
     "text": [
      "\n",
      "My first bicycle was a Trek.\n"
     ]
    }
   ],
   "source": [
    "# Using values from a list\n",
    "message = \"\\nMy first bicycle was a \" + bicycles[0].title() + \".\"\n",
    "print(message)"
   ]
  },
  {
   "cell_type": "code",
   "execution_count": null,
   "id": "eac59c30-deb9-4305-8352-bcb7974c7fa6",
   "metadata": {},
   "outputs": [],
   "source": []
  },
  {
   "cell_type": "markdown",
   "id": "4709eb91-04c9-49e1-a2c2-e1c8ba902ffd",
   "metadata": {},
   "source": [
    "### Exercises "
   ]
  },
  {
   "cell_type": "markdown",
   "id": "4525efae-6f76-4194-a13e-d63b01d5a1d5",
   "metadata": {},
   "source": [
    "3-1. Names: Store the names of a few of your friends in a list called names. Print\n",
    "each person’s name by accessing each element in the list, one at a time."
   ]
  },
  {
   "cell_type": "code",
   "execution_count": 1,
   "id": "f9ae4027-52ea-43df-94b2-b2a87698fd61",
   "metadata": {},
   "outputs": [
    {
     "name": "stdout",
     "output_type": "stream",
     "text": [
      "Carlos\n",
      "Daniela\n",
      "Enrique\n",
      "Carlos\n",
      "Daniela\n",
      "Enrique\n"
     ]
    }
   ],
   "source": [
    "names = ['Carlos', 'Daniela', 'Enrique']\n",
    "# Basic method\n",
    "print(names[0])\n",
    "print(names[1])\n",
    "print(names[2])\n",
    "\n",
    "# Advanced method\n",
    "for name in names:\n",
    "    print(name)"
   ]
  },
  {
   "cell_type": "markdown",
   "id": "538800ae-2e2e-4cf0-ba62-235fd00f852e",
   "metadata": {},
   "source": [
    "3-2. Greetings: Start with the list you used in Exercise 3-1, but instead of just\n",
    "printing each person’s name, print a message to them. The text of each message\n",
    "should be the same, but each message should be personalized with the person’s name."
   ]
  },
  {
   "cell_type": "code",
   "execution_count": 2,
   "id": "e568579f-d3f9-44e7-bacb-889b82d822ac",
   "metadata": {},
   "outputs": [
    {
     "name": "stdout",
     "output_type": "stream",
     "text": [
      "Greetings, Carlos. Have a great day.\n",
      "Greetings, Daniela. Have a great day.\n",
      "Greetings, Enrique. Have a great day.\n"
     ]
    }
   ],
   "source": [
    "for name in names:\n",
    "    print(f\"Greetings, {name}. Have a great day.\")"
   ]
  },
  {
   "cell_type": "markdown",
   "id": "9897362b-367a-4388-ac69-beadf4990ef7",
   "metadata": {},
   "source": [
    "3-3. Your Own List: Think of your favorite mode of transportation, such as a\n",
    "motorcycle or a car, and make a list that stores several examples. Use your list\n",
    "to print a series of statements about these items, such as “I would like to own a\n",
    "Honda motorcycle.”"
   ]
  },
  {
   "cell_type": "code",
   "execution_count": 3,
   "id": "3dfacc05-cc75-4221-b9eb-c9230da9e6fd",
   "metadata": {},
   "outputs": [
    {
     "name": "stdout",
     "output_type": "stream",
     "text": [
      "The Honda is to expensive for me.\n",
      "The Yamaha is not my favorite.\n",
      "I do like the Suzuki.\n"
     ]
    }
   ],
   "source": [
    "motorcycles = ['honda', 'yamaha', 'suzuki']\n",
    "for motorcycle in motorcycles:\n",
    "    if motorcycle == 'honda':\n",
    "        print(f\"The {motorcycle.title()} is to expensive for me.\")\n",
    "    elif motorcycle == 'yamaha':\n",
    "        print(f\"The {motorcycle.title()} is not my favorite.\")\n",
    "    elif motorcycle == 'suzuki':\n",
    "        print(f\"I do like the {motorcycle.title()}.\")"
   ]
  },
  {
   "cell_type": "code",
   "execution_count": null,
   "id": "e4fa4e39-4ddd-45c7-a058-6272364be351",
   "metadata": {},
   "outputs": [],
   "source": []
  },
  {
   "cell_type": "code",
   "execution_count": null,
   "id": "fe72f961-b073-4f66-b56c-25beaa368379",
   "metadata": {},
   "outputs": [],
   "source": []
  },
  {
   "cell_type": "markdown",
   "id": "348475e7-b933-40ab-94f7-79aa63d0a319",
   "metadata": {},
   "source": [
    "3-4. Guest List: If you could invite anyone, living or deceased, to dinner, who\n",
    "would you invite? Make a list that includes at least three people you’d like to\n",
    "invite to dinner. Then use your list to print a message to each person, inviting\n",
    "them to dinner."
   ]
  },
  {
   "cell_type": "code",
   "execution_count": 4,
   "id": "a91f71fe-9107-4448-8810-354e488b2cc1",
   "metadata": {},
   "outputs": [
    {
     "name": "stdout",
     "output_type": "stream",
     "text": [
      "Hello, Carlos. Please come home for dinner on Friday.\n",
      "Hello, Daniela. Please come home for dinner on Friday.\n",
      "Hello, Enrique. Please come home for dinner on Friday.\n"
     ]
    }
   ],
   "source": [
    "names = ['Carlos', 'Daniela', 'Enrique']\n",
    "\n",
    "# Advanced method\n",
    "for name in names:\n",
    "    print(f\"Hello, {name}. Please come home for dinner on Friday.\")"
   ]
  },
  {
   "cell_type": "markdown",
   "id": "871b08d3-f167-45ee-9b40-e9acd06e970c",
   "metadata": {},
   "source": [
    "3-5. Changing Guest List: You just heard that one of your guests can’t make the\n",
    "dinner, so you need to send out a new set of invitations. You’ll have to think of\n",
    "someone else to invite.\n",
    "    • Start with your program from Exercise 3-4. Add a print statement at the\n",
    "      end of your program stating the name of the guest who can’t make it.\n",
    "    • Modify your list, replacing the name of the guest who can’t make it with\n",
    "      the name of the new person you are inviting.\n",
    "    • Print a second set of invitation messages, one for each person who is still\n",
    "      in your list"
   ]
  },
  {
   "cell_type": "code",
   "execution_count": 5,
   "id": "47da3c54-c4ad-47cc-a6ef-5dcc66612854",
   "metadata": {},
   "outputs": [
    {
     "name": "stdout",
     "output_type": "stream",
     "text": [
      "['Carlos', 'Daniela', 'Enrique']\n",
      "\n",
      "Daniela cannot come to dinner. I will invite Luciana.\n",
      "['Carlos', 'Luciana', 'Enrique']\n",
      "Hello, Carlos. Please come home for dinner on Friday.\n",
      "Hello, Luciana. Please come home for dinner on Friday.\n",
      "Hello, Enrique. Please come home for dinner on Friday.\n"
     ]
    }
   ],
   "source": [
    "names = ['Carlos', 'Daniela', 'Enrique']\n",
    "print(names)\n",
    "print(\"\\nDaniela cannot come to dinner. I will invite Luciana.\")\n",
    "names[1] = 'Luciana'\n",
    "print(names)\n",
    "for name in names:\n",
    "    print(f\"Hello, {name}. Please come home for dinner on Friday.\")"
   ]
  },
  {
   "cell_type": "markdown",
   "id": "58444ab4-a9e1-4507-841d-6fda98b8a36e",
   "metadata": {},
   "source": [
    "3-6. More Guests: You just found a bigger dinner table, so now more space is\n",
    "available. Think of three more guests to invite to dinner. • Start with your program from Exercise 3-4 or Exercise 3-5. Add a print\n",
    "      statement the end of your program informing people that you found a bigger dinner table. • Use insert() to add one new guest to the beginning of your list.\n",
    "• Use insert() to add one new guest to the middle of your list. • Use append() to add one new guest to the end of your list. • Print a new set of invitation messages, one for each person in your list."
   ]
  },
  {
   "cell_type": "code",
   "execution_count": 8,
   "id": "faf6b397-1eb7-4543-95ed-8590bf8ca200",
   "metadata": {},
   "outputs": [
    {
     "name": "stdout",
     "output_type": "stream",
     "text": [
      "['Rocío', 'Carlos', 'Daniela', 'Ximena', 'Enrique', 'Ronaldo']\n",
      "\n",
      "\n",
      "Hello, Rocío. Please come home for dinner on Friday.\n",
      "Hello, Carlos. Please come home for dinner on Friday.\n",
      "Hello, Daniela. Please come home for dinner on Friday.\n",
      "Hello, Ximena. Please come home for dinner on Friday.\n",
      "Hello, Enrique. Please come home for dinner on Friday.\n",
      "Hello, Ronaldo. Please come home for dinner on Friday.\n"
     ]
    }
   ],
   "source": [
    "names = ['Carlos', 'Daniela', 'Enrique']\n",
    "names.insert(0, 'Rocío')\n",
    "names.insert(3, 'Ximena')\n",
    "names.append('Ronaldo')\n",
    "print(names)\n",
    "print(\"\\n\")\n",
    "for name in names:\n",
    "    print(f\"Hello, {name}. Please come home for dinner on Friday.\")"
   ]
  },
  {
   "cell_type": "markdown",
   "id": "4e5e7dfd-bf7a-41db-9f55-8846214605e5",
   "metadata": {},
   "source": [
    "3-7. Shrinking Guest List: You just found out that your new dinner table won’t\n",
    "arrive in time for the dinner, and you have space for only two guests.\n",
    "    • Start with your program from Exercise 3-6. Add a new line that prints a\n",
    "        message saying that you can invite only two people for dinner.\n",
    "    • Use pop() to remove guests from your list one at a time until only two\n",
    "        names remain in your list. Each time you pop a name from your list, print\n",
    "        a message to that person letting them know you’re sorry you can’t invite\n",
    "        them to dinner.\n",
    "    • Print a message to each of the two people still on your list, letting them\n",
    "        know they’re still invited.\n",
    "    • Use del to remove the last two names from your list, so you have an empty\n",
    "        list. Print your list to make sure you actually have an empty list at the end\n",
    "        of your program"
   ]
  },
  {
   "cell_type": "code",
   "execution_count": 12,
   "id": "359c1cd2-dc94-41e8-ae01-337609c4396c",
   "metadata": {},
   "outputs": [
    {
     "name": "stdout",
     "output_type": "stream",
     "text": [
      "Due to logistical problems I can only invite to persons to dinner.\n",
      "['Carlos', 'Daniela', 'Enrique', 'Rocío', 'Ximena', 'Ronaldo']\n",
      "I am sorry Ronaldo, but I must cancel my invitation for dinner.\n",
      "I am sorry Ximena, but I must cancel my invitation for dinner.\n",
      "I am sorry Rocío, but I must cancel my invitation for dinner.\n",
      "I am sorry Enrique, but I must cancel my invitation for dinner.\n",
      "\n",
      "\n",
      "['Carlos', 'Daniela']\n",
      "Hello Daniela! You are still welcome for Friday's dinner.\n",
      "Hello Carlos! You are still welcome for Friday's dinner.\n"
     ]
    }
   ],
   "source": [
    "names = ['Carlos', 'Daniela', 'Enrique', 'Rocío', 'Ximena', 'Ronaldo']\n",
    "\n",
    "print(\"Due to logistical problems I can only invite to persons to dinner.\")\n",
    "print(names)\n",
    "last_name = names.pop()\n",
    "print(f\"I am sorry {last_name}, but I must cancel my invitation for dinner.\")\n",
    "last_name = names.pop()\n",
    "print(f\"I am sorry {last_name}, but I must cancel my invitation for dinner.\")\n",
    "last_name = names.pop()\n",
    "print(f\"I am sorry {last_name}, but I must cancel my invitation for dinner.\")\n",
    "last_name = names.pop()\n",
    "print(f\"I am sorry {last_name}, but I must cancel my invitation for dinner.\")\n",
    "print(\"\\n\")\n",
    "print(names)\n",
    "last_name = names.pop()\n",
    "print(f\"Hello {last_name}! You are still welcome for Friday's dinner.\")\n",
    "last_name = names.pop()\n",
    "print(f\"Hello {last_name}! You are still welcome for Friday's dinner.\")\n"
   ]
  },
  {
   "cell_type": "code",
   "execution_count": 13,
   "id": "69ce4583-3001-4600-9ab4-12988d19362b",
   "metadata": {},
   "outputs": [
    {
     "name": "stdout",
     "output_type": "stream",
     "text": [
      "I am sorry Ronaldo, but I must cancel my invitation for dinner.\n",
      "I am sorry Ximena, but I must cancel my invitation for dinner.\n",
      "I am sorry Rocío, but I must cancel my invitation for dinner.\n",
      "I am sorry Enrique, but I must cancel my invitation for dinner.\n",
      "['Carlos', 'Daniela']\n"
     ]
    }
   ],
   "source": [
    "names = ['Carlos', 'Daniela', 'Enrique', 'Rocío', 'Ximena', 'Ronaldo']\n",
    "for i in range(1, 5):\n",
    "    last_name = names.pop()\n",
    "    print(f\"I am sorry {last_name}, but I must cancel my invitation for dinner.\")\n",
    "print(names)"
   ]
  },
  {
   "cell_type": "code",
   "execution_count": null,
   "id": "516cd70f-0a83-402c-ac5f-c12347efd1bc",
   "metadata": {},
   "outputs": [],
   "source": []
  },
  {
   "cell_type": "code",
   "execution_count": 4,
   "id": "f9056caf-7583-4d21-8368-b216cd8febf4",
   "metadata": {},
   "outputs": [
    {
     "name": "stdout",
     "output_type": "stream",
     "text": [
      "['honda', 'yamaha', 'suzuki']\n"
     ]
    }
   ],
   "source": [
    "motorcycles = ['honda', 'yamaha', 'suzuki']\n",
    "print(motorcycles)"
   ]
  },
  {
   "cell_type": "code",
   "execution_count": 5,
   "id": "6fff840b-4070-4ad9-86a2-24b2517374c2",
   "metadata": {},
   "outputs": [
    {
     "name": "stdout",
     "output_type": "stream",
     "text": [
      "['ducati', 'yamaha', 'suzuki']\n",
      "['ducati', 'yamaha', 'suzuki', 'ducati']\n"
     ]
    }
   ],
   "source": [
    "motorcycles[0] = 'ducati'\n",
    "print(motorcycles)\n",
    "\n",
    "motorcycles.append('ducati')\n",
    "print(motorcycles)"
   ]
  },
  {
   "cell_type": "code",
   "execution_count": 6,
   "id": "a8ef2e05-c485-44bf-a5f0-484aa4d67373",
   "metadata": {},
   "outputs": [
    {
     "name": "stdout",
     "output_type": "stream",
     "text": [
      "Appended one by one\n",
      "['honda', 'yamaha', 'suzuki']\n"
     ]
    }
   ],
   "source": [
    "# Append one by one\n",
    "motorcycles = []\n",
    "motorcycles.append('honda')\n",
    "motorcycles.append('yamaha')\n",
    "motorcycles.append('suzuki')\n",
    "print(\"Appended one by one\")\n",
    "print(motorcycles)"
   ]
  },
  {
   "cell_type": "code",
   "execution_count": 7,
   "id": "5e507d85-855f-4cd5-bd5b-11fb0c3b0d4d",
   "metadata": {},
   "outputs": [
    {
     "name": "stdout",
     "output_type": "stream",
     "text": [
      "['ducati', 'honda', 'yamaha', 'suzuki']\n",
      "\n",
      "Inserted 'ducati' in first position\n",
      "['ducati', 'honda', 'yamaha', 'suzuki']\n"
     ]
    }
   ],
   "source": [
    "# Insert elements to a list\n",
    "motorcycles = ['honda', 'yamaha', 'suzuki']\n",
    "motorcycles.insert(0, 'ducati')\n",
    "print(motorcycles)\n",
    "print(\"\\nInserted 'ducati' in first position\")\n",
    "print(motorcycles)"
   ]
  },
  {
   "cell_type": "code",
   "execution_count": 8,
   "id": "39072d96-f71f-454d-9bc8-b5df48971600",
   "metadata": {},
   "outputs": [
    {
     "name": "stdout",
     "output_type": "stream",
     "text": [
      "['honda', 'yamaha', 'suzuki']\n",
      "Removed elements with 'del'\n",
      "['yamaha', 'suzuki']\n"
     ]
    }
   ],
   "source": [
    "# Remove elements with 'del'\n",
    "motorcycles = ['honda', 'yamaha', 'suzuki']\n",
    "print(motorcycles)\n",
    "\n",
    "print(\"Removed elements with 'del'\")\n",
    "del motorcycles[0]\n",
    "print(motorcycles)\n"
   ]
  },
  {
   "cell_type": "code",
   "execution_count": 9,
   "id": "7bc5d136-92c4-4aa8-a588-703e57b02108",
   "metadata": {},
   "outputs": [
    {
     "name": "stdout",
     "output_type": "stream",
     "text": [
      "['honda', 'yamaha', 'suzuki']\n",
      "['honda', 'yamaha']\n",
      "popped_motorcycle\n",
      " suzuki\n",
      "\n",
      "The last motorcycle I owned was a Suzuki.\n",
      "The first motorcycle I owned was a Honda.\n"
     ]
    }
   ],
   "source": [
    "# Remove elements with 'pop'\n",
    "motorcycles = ['honda', 'yamaha', 'suzuki']\n",
    "print(motorcycles)\n",
    "popped_motorcycle = motorcycles.pop()\n",
    "print(motorcycles)\n",
    "print(\"popped_motorcycle\\n\", popped_motorcycle)\n",
    "\n",
    "motorcycles = ['honda', 'yamaha', 'suzuki']\n",
    "last_owned = motorcycles.pop()\n",
    "print(\"\\nThe last motorcycle I owned was a \" + last_owned.title() + \".\")\n",
    "\n",
    "first_owned = motorcycles.pop(0)\n",
    "print('The first motorcycle I owned was a ' + first_owned.title() + '.')"
   ]
  },
  {
   "cell_type": "code",
   "execution_count": 10,
   "id": "b94e92c1-ac4c-4e71-8525-03bb2c7f0ab6",
   "metadata": {},
   "outputs": [
    {
     "name": "stdout",
     "output_type": "stream",
     "text": [
      "\n",
      "Remove 'ducati' by value\n",
      "['honda', 'yamaha', 'suzuki', 'ducati']\n",
      "['honda', 'yamaha', 'suzuki']\n"
     ]
    }
   ],
   "source": [
    "# Remove item by value\n",
    "motorcycles = ['honda', 'yamaha', 'suzuki', 'ducati']\n",
    "print(\"\\nRemove 'ducati' by value\")\n",
    "print(motorcycles)\n",
    "motorcycles.remove('ducati')\n",
    "\n",
    "print(motorcycles)"
   ]
  },
  {
   "cell_type": "code",
   "execution_count": 4,
   "id": "e413d685-9103-41e7-b35c-9dd8e52a32fc",
   "metadata": {},
   "outputs": [
    {
     "name": "stdout",
     "output_type": "stream",
     "text": [
      "['audi', 'bmw', 'subaru', 'toyota']\n"
     ]
    }
   ],
   "source": [
    "# Sort - permanent\n",
    "cars = [\"bmw\", \"audi\", \"toyota\", \"subaru\"]\n",
    "cars.sort()\n",
    "print(cars)"
   ]
  },
  {
   "cell_type": "code",
   "execution_count": 2,
   "id": "1165e3cf-7cca-4699-9940-f8b3fff4f6e5",
   "metadata": {},
   "outputs": [
    {
     "name": "stdout",
     "output_type": "stream",
     "text": [
      "['toyota', 'subaru', 'bmw', 'audi']\n"
     ]
    }
   ],
   "source": [
    "cars.sort(reverse=True)\n",
    "print(cars)"
   ]
  },
  {
   "cell_type": "code",
   "execution_count": 3,
   "id": "2d959cbc-f03a-48df-b7e4-11883cf6388a",
   "metadata": {},
   "outputs": [
    {
     "name": "stdout",
     "output_type": "stream",
     "text": [
      "Here is the original list:\n",
      "['toyota', 'subaru', 'bmw', 'audi']\n",
      "\n",
      "Here is the sorted list:\n",
      "['audi', 'bmw', 'subaru', 'toyota']\n",
      "\n",
      "Here is the original list again:\n",
      "['toyota', 'subaru', 'bmw', 'audi']\n"
     ]
    }
   ],
   "source": [
    "# Sort - temporary\n",
    "print(\"Here is the original list:\")\n",
    "print(cars)\n",
    "print(\"\\nHere is the sorted list:\")\n",
    "print(sorted(cars))\n",
    "print(\"\\nHere is the original list again:\")\n",
    "print(cars)"
   ]
  },
  {
   "cell_type": "code",
   "execution_count": 6,
   "id": "27a2c9be-fc2e-4552-9509-ca14d10e2666",
   "metadata": {},
   "outputs": [
    {
     "name": "stdout",
     "output_type": "stream",
     "text": [
      "Here is the original list:\n",
      "['toyota', 'subaru', 'bmw', 'audi']\n",
      "\n",
      "Here is the reversed list:\n",
      "['audi', 'bmw', 'subaru', 'toyota']\n"
     ]
    }
   ],
   "source": [
    "print(\"Here is the original list:\")\n",
    "print(cars)\n",
    "cars.reverse()\n",
    "print(\"\\nHere is the reversed list:\")\n",
    "print(cars)"
   ]
  },
  {
   "cell_type": "code",
   "execution_count": 7,
   "id": "fb0bd889-ca17-4666-874d-3528651e429f",
   "metadata": {},
   "outputs": [
    {
     "data": {
      "text/plain": [
       "4"
      ]
     },
     "execution_count": 7,
     "metadata": {},
     "output_type": "execute_result"
    }
   ],
   "source": [
    "cars = [\"bmw\", \"audi\", \"toyota\", \"subaru\"]\n",
    "len(cars)"
   ]
  },
  {
   "cell_type": "markdown",
   "id": "434c3976-b56d-40be-87bd-abd318011b10",
   "metadata": {},
   "source": [
    "3-8. Seeing the World: Think of at least five places in the world you’d like to \n",
    "visit.\n",
    "•\t Store the locations in a list. Make sure the list is not in alphabetical order.\n",
    "•\t Print your list in its original order. Don’t worry about printing the list neatly, \n",
    "just print it as a raw Python list.\n",
    "•\t Use sorted() to print your list in alphabetical order without modifying the \n",
    "actual list.\n",
    "•\t Show that your list is still in its original order by printing it.\n",
    "•\t Use sorted() to print your list in reverse alphabetical order without changing the order of the original list.\n",
    "•\t Show that your list is still in its original order by printing it again.\n",
    "•\t Use reverse() to change the order of your list. Print the list to show that its \n",
    "order has changed.\n",
    "•\t Use reverse() to change the order of your list again. Print the list to show \n",
    "it’s back to its original order.\n",
    "•\t Use sort() to change your list so it’s stored in alphabetical order. Print the \n",
    "list to show that its order has been changed.\n",
    "•\t Use sort() to change your list so it’s stored in reverse alphabetical order.\n",
    "Print the list to show that its order has changed."
   ]
  },
  {
   "cell_type": "code",
   "execution_count": 16,
   "id": "c6afe116-cf45-4e0c-9a5b-31f3a90f2197",
   "metadata": {},
   "outputs": [
    {
     "name": "stdout",
     "output_type": "stream",
     "text": [
      "['Paris', 'Prague', 'Moscow', 'Kabul', 'Boston', 'Montana', 'Hiroshima', 'Sidney']\n"
     ]
    }
   ],
   "source": [
    "places = ['Paris', 'Prague', 'Moscow', 'Kabul', 'Boston', 'Montana', 'Hiroshima', 'Sidney']\n",
    "print(places)"
   ]
  },
  {
   "cell_type": "markdown",
   "id": "2ce12ced-89b4-44b9-9957-a228deee560f",
   "metadata": {},
   "source": [
    "### Organizing a List"
   ]
  },
  {
   "cell_type": "code",
   "execution_count": 17,
   "id": "fd9dfeba-90d9-468d-9a47-2d0f3724e653",
   "metadata": {},
   "outputs": [
    {
     "name": "stdout",
     "output_type": "stream",
     "text": [
      "['Boston', 'Hiroshima', 'Kabul', 'Montana', 'Moscow', 'Paris', 'Prague', 'Sidney']\n"
     ]
    }
   ],
   "source": [
    "# A) Sort in alphabetical order\n",
    "places.sort()\n",
    "print(places)"
   ]
  },
  {
   "cell_type": "code",
   "execution_count": 19,
   "id": "7382e491-cb50-41c3-a9a9-26288b7f3563",
   "metadata": {},
   "outputs": [
    {
     "name": "stdout",
     "output_type": "stream",
     "text": [
      "['Paris', 'Prague', 'Moscow', 'Kabul', 'Boston', 'Montana', 'Hiroshima', 'Sidney']\n",
      "['Boston', 'Hiroshima', 'Kabul', 'Montana', 'Moscow', 'Paris', 'Prague', 'Sidney']\n",
      "['Paris', 'Prague', 'Moscow', 'Kabul', 'Boston', 'Montana', 'Hiroshima', 'Sidney']\n"
     ]
    }
   ],
   "source": [
    "# B) Sort without changing original list\n",
    "places = ['Paris', 'Prague', 'Moscow', 'Kabul', 'Boston', 'Montana', 'Hiroshima', 'Sidney']\n",
    "print(places)\n",
    "print(sorted(places))\n",
    "print(places)"
   ]
  },
  {
   "cell_type": "code",
   "execution_count": 22,
   "id": "84de295e-d832-4bb3-9b24-25c9f62dd1bc",
   "metadata": {},
   "outputs": [
    {
     "name": "stdout",
     "output_type": "stream",
     "text": [
      "['Sidney', 'Hiroshima', 'Montana', 'Boston', 'Kabul', 'Moscow', 'Prague', 'Paris']\n"
     ]
    }
   ],
   "source": [
    "# C) Reverse the order\n",
    "places = ['Paris', 'Prague', 'Moscow', 'Kabul', 'Boston', 'Montana', 'Hiroshima', 'Sidney']\n",
    "places.reverse()\n",
    "print(places)"
   ]
  },
  {
   "cell_type": "code",
   "execution_count": 23,
   "id": "228acbb3-ae1f-4b94-af0b-7e5a7c8fb31f",
   "metadata": {},
   "outputs": [
    {
     "name": "stdout",
     "output_type": "stream",
     "text": [
      "['Paris', 'Prague', 'Moscow', 'Kabul', 'Boston', 'Montana', 'Hiroshima', 'Sidney']\n"
     ]
    }
   ],
   "source": [
    "# D) Reverse again\n",
    "places.reverse()\n",
    "print(places)"
   ]
  },
  {
   "cell_type": "code",
   "execution_count": 24,
   "id": "1b5b051c-cd69-44b1-8740-706e09c90974",
   "metadata": {},
   "outputs": [
    {
     "name": "stdout",
     "output_type": "stream",
     "text": [
      "['Boston', 'Hiroshima', 'Kabul', 'Montana', 'Moscow', 'Paris', 'Prague', 'Sidney']\n"
     ]
    }
   ],
   "source": [
    "# E) Sort alphabetically\n",
    "places.sort()\n",
    "print(places)"
   ]
  },
  {
   "cell_type": "code",
   "execution_count": 25,
   "id": "d4cffff0-1d3d-41a2-8dfd-5d1dceb99951",
   "metadata": {},
   "outputs": [
    {
     "name": "stdout",
     "output_type": "stream",
     "text": [
      "['Sidney', 'Prague', 'Paris', 'Moscow', 'Montana', 'Kabul', 'Hiroshima', 'Boston']\n"
     ]
    }
   ],
   "source": [
    "# F) Save reversed\n",
    "places.reverse()\n",
    "print(places)"
   ]
  },
  {
   "cell_type": "markdown",
   "id": "fed064d4-76ed-405a-bf67-fe6901a9821f",
   "metadata": {},
   "source": [
    "3-9. Dinner Guests: Working with one of the programs from Exercises 3-4 \n",
    "through 3-7 (page 46), use len() to print a message indicating the number \n",
    "of people you are inviting to dinner."
   ]
  },
  {
   "cell_type": "code",
   "execution_count": 14,
   "id": "b580cf8a-e63e-4bb0-bf4d-240b2ce99d12",
   "metadata": {},
   "outputs": [
    {
     "name": "stdout",
     "output_type": "stream",
     "text": [
      "There will be 6 persons for dinner on Friday.\n"
     ]
    }
   ],
   "source": [
    "names = ['Carlos', 'Daniela', 'Enrique', 'Rocío', 'Ximena', 'Ronaldo']\n",
    "print(f\"There will be {len(names)} persons for dinner on Friday.\")"
   ]
  },
  {
   "cell_type": "code",
   "execution_count": null,
   "id": "b8ca856c-897b-4b85-9c62-710e08a5c24c",
   "metadata": {},
   "outputs": [],
   "source": []
  },
  {
   "cell_type": "markdown",
   "id": "41ce387b-b904-4802-be7b-4d885e0cf9d8",
   "metadata": {},
   "source": [
    "3-10. Every Function: Think of something you could store in a list. For example, you could make a list of mountains, rivers, countries, cities, languages, or anything else you’d like. Write a program that creates a list containing these items and then uses each function introduced in this chapter at least once."
   ]
  },
  {
   "cell_type": "code",
   "execution_count": 5,
   "id": "d9deb362-cdc0-445b-b89e-da34d99b3fd5",
   "metadata": {},
   "outputs": [
    {
     "name": "stdout",
     "output_type": "stream",
     "text": [
      "['Baker', 'Rahue', 'Cochrane', 'Aluminé', 'Grande', 'Maullín']\n",
      "['Aluminé', 'Baker', 'Cochrane', 'Grande', 'Maullín', 'Rahue']\n"
     ]
    }
   ],
   "source": [
    "rivers = ['Baker', 'Rahue', 'Cochrane', 'Aluminé', 'Grande', 'Maullín']\n",
    "print(rivers)\n",
    "rivers.sort()\n",
    "print(rivers)\n"
   ]
  },
  {
   "cell_type": "code",
   "execution_count": 7,
   "id": "5e673e4b-b9d1-4c76-9944-b550db523dd7",
   "metadata": {},
   "outputs": [
    {
     "name": "stdout",
     "output_type": "stream",
     "text": [
      "['Rahue', 'Maullín', 'Grande', 'Cochrane', 'Baker', 'Aluminé']\n"
     ]
    }
   ],
   "source": [
    "rivers.sort(reverse = True)\n",
    "print(rivers)"
   ]
  },
  {
   "cell_type": "code",
   "execution_count": 8,
   "id": "fd6ebd76-a137-4012-b71a-9823d70be118",
   "metadata": {},
   "outputs": [
    {
     "name": "stdout",
     "output_type": "stream",
     "text": [
      "['Aluminé', 'Baker', 'Cochrane', 'Grande', 'Maullín', 'Rahue']\n"
     ]
    }
   ],
   "source": [
    "print(sorted(rivers))"
   ]
  },
  {
   "cell_type": "code",
   "execution_count": 12,
   "id": "0b7c92db-8c87-4fa5-b6e9-402288ae4bb4",
   "metadata": {},
   "outputs": [
    {
     "name": "stdout",
     "output_type": "stream",
     "text": [
      "['Maullín', 'Grande', 'Aluminé', 'Cochrane', 'Rahue', 'Baker']\n"
     ]
    }
   ],
   "source": [
    "rivers = ['Baker', 'Rahue', 'Cochrane', 'Aluminé', 'Grande', 'Maullín']\n",
    "rivers.reverse()\n",
    "print(rivers)"
   ]
  }
 ],
 "metadata": {
  "kernelspec": {
   "display_name": "Python 3 (ipykernel)",
   "language": "python",
   "name": "python3"
  },
  "language_info": {
   "codemirror_mode": {
    "name": "ipython",
    "version": 3
   },
   "file_extension": ".py",
   "mimetype": "text/x-python",
   "name": "python",
   "nbconvert_exporter": "python",
   "pygments_lexer": "ipython3",
   "version": "3.10.12"
  }
 },
 "nbformat": 4,
 "nbformat_minor": 5
}
