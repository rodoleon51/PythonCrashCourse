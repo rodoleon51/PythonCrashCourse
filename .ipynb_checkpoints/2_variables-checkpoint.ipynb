{
 "cells": [
  {
   "cell_type": "markdown",
   "id": "75efd84b-3061-4bd5-8516-861cabe42e35",
   "metadata": {
    "tags": []
   },
   "source": [
    "### Variables"
   ]
  },
  {
   "cell_type": "markdown",
   "id": "a39b7bbd-e102-498b-9826-b3b26a41ad8e",
   "metadata": {},
   "source": [
    "#### name.py"
   ]
  },
  {
   "cell_type": "code",
   "execution_count": 1,
   "id": "5690a957-2c09-4ab1-8b55-8a0113e3243e",
   "metadata": {},
   "outputs": [
    {
     "name": "stdout",
     "output_type": "stream",
     "text": [
      "Ada Lovelace\n"
     ]
    }
   ],
   "source": [
    "name = \"ada lovelace\"\n",
    "print(name.title())"
   ]
  },
  {
   "cell_type": "code",
   "execution_count": 2,
   "id": "f52f15e6-078f-4ff2-965a-95a8ef125293",
   "metadata": {},
   "outputs": [
    {
     "name": "stdout",
     "output_type": "stream",
     "text": [
      "ADA LOVELACE\n",
      "ada lovelace\n"
     ]
    }
   ],
   "source": [
    "name = \"Ada Lovelace\"\n",
    "print(name.upper())\n",
    "print(name.lower())\n"
   ]
  },
  {
   "cell_type": "markdown",
   "id": "94c38581-15e3-43de-bcca-b92070b2654f",
   "metadata": {},
   "source": [
    "### Using variables in strings\n",
    "#### full_name.py"
   ]
  },
  {
   "cell_type": "code",
   "execution_count": 3,
   "id": "433b82ea-2784-4c3e-8136-40b722090650",
   "metadata": {},
   "outputs": [
    {
     "name": "stdout",
     "output_type": "stream",
     "text": [
      "ada lovelace\n",
      "Hello, Ada Lovelace!\n",
      "Hello, Ada Lovelace!\n"
     ]
    }
   ],
   "source": [
    "first_name = \"ada\"\n",
    "last_name = \"lovelace\"\n",
    "full_name = first_name + \" \" + last_name\n",
    "\n",
    "print(full_name)\n",
    "print(\"Hello, \" + full_name.title() + \"!\")\n",
    "\n",
    "message = \"Hello, \" + full_name.title() + \"!\"\n",
    "print(message)\n"
   ]
  },
  {
   "cell_type": "code",
   "execution_count": null,
   "id": "1d5a7af0-7bb0-4a42-8f8f-d72b0986391a",
   "metadata": {},
   "outputs": [],
   "source": []
  },
  {
   "cell_type": "markdown",
   "id": "a519c7fa-9944-4f7c-8206-6fa9b1324515",
   "metadata": {},
   "source": [
    "### Adding and stripping whitespaces"
   ]
  },
  {
   "cell_type": "code",
   "execution_count": 7,
   "id": "0dca4aeb-e34f-4545-ad30-ef127aeeded9",
   "metadata": {},
   "outputs": [
    {
     "name": "stdout",
     "output_type": "stream",
     "text": [
      "Python\n",
      "\tPython\n",
      "\n",
      "\n",
      "Languages:\n",
      "Python\n",
      "C\n",
      "JavaScript\n",
      "\n",
      "\n",
      "Languages:\n",
      "\tPython\n",
      "\tC\n",
      "\tJavaScript\n"
     ]
    }
   ],
   "source": [
    "# Add spaces\n",
    "print(\"Python\")\n",
    "print(\"\\tPython\")\n",
    "print(\"\\n\")\n",
    "print(\"Languages:\\nPython\\nC\\nJavaScript\")\n",
    "print(\"\\n\")\n",
    "print(\"Languages:\\n\\tPython\\n\\tC\\n\\tJavaScript\")"
   ]
  },
  {
   "cell_type": "code",
   "execution_count": 8,
   "id": "12c340dd-ac7d-48b8-b0cb-6dc49f861d0d",
   "metadata": {},
   "outputs": [
    {
     "name": "stdout",
     "output_type": "stream",
     "text": [
      "python \n",
      "python\n",
      "python \n"
     ]
    }
   ],
   "source": [
    "# Stripping spaces\n",
    "favorite_language = 'python '\n",
    "print(favorite_language)\n",
    "print(favorite_language.rstrip())\n",
    "print(favorite_language)"
   ]
  },
  {
   "cell_type": "code",
   "execution_count": 9,
   "id": "f23c1169-4fa9-478e-9637-470ddee6fa01",
   "metadata": {},
   "outputs": [
    {
     "name": "stdout",
     "output_type": "stream",
     "text": [
      " python\n",
      "python \n",
      "python\n"
     ]
    }
   ],
   "source": [
    "favorite_language = ' python '\n",
    "print(favorite_language.rstrip())\n",
    "print(favorite_language.lstrip())\n",
    "print(favorite_language.strip())"
   ]
  },
  {
   "cell_type": "code",
   "execution_count": null,
   "id": "3f554ee3-3a14-4186-afdc-eaf87db4dddf",
   "metadata": {},
   "outputs": [],
   "source": []
  },
  {
   "cell_type": "markdown",
   "id": "a53ad645-e960-498a-839c-f3bd9280359f",
   "metadata": {},
   "source": [
    "### Remove prefixes"
   ]
  },
  {
   "cell_type": "code",
   "execution_count": 2,
   "id": "b6cd8708-f5b4-4cb5-a8e7-de448a625ed2",
   "metadata": {
    "tags": []
   },
   "outputs": [
    {
     "data": {
      "text/plain": [
       "'nostarch.com'"
      ]
     },
     "execution_count": 2,
     "metadata": {},
     "output_type": "execute_result"
    }
   ],
   "source": [
    "nostarch_url = 'https://nostarch.com'\n",
    "nostarch_url.removeprefix('https://')"
   ]
  },
  {
   "cell_type": "code",
   "execution_count": null,
   "id": "65bbefe5-3854-4da5-9d92-a7a6b1e191e3",
   "metadata": {},
   "outputs": [],
   "source": []
  }
 ],
 "metadata": {
  "kernelspec": {
   "display_name": "Python 3 (ipykernel)",
   "language": "python",
   "name": "python3"
  },
  "language_info": {
   "codemirror_mode": {
    "name": "ipython",
    "version": 3
   },
   "file_extension": ".py",
   "mimetype": "text/x-python",
   "name": "python",
   "nbconvert_exporter": "python",
   "pygments_lexer": "ipython3",
   "version": "3.10.12"
  }
 },
 "nbformat": 4,
 "nbformat_minor": 5
}
