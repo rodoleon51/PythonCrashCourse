{
 "cells": [
  {
   "cell_type": "code",
   "execution_count": 2,
   "id": "19e81e01-516c-4882-9755-70041d140fcd",
   "metadata": {},
   "outputs": [
    {
     "name": "stdout",
     "output_type": "stream",
     "text": [
      "Alice\n",
      "David\n",
      "Carolina\n"
     ]
    }
   ],
   "source": [
    "magicians = ['alice', 'david', 'carolina'] \n",
    "for magician in magicians: \n",
    "    print(magician.title())"
   ]
  },
  {
   "cell_type": "code",
   "execution_count": 4,
   "id": "1dcfcd49-c385-41f2-8286-52ceff410dce",
   "metadata": {},
   "outputs": [
    {
     "name": "stdout",
     "output_type": "stream",
     "text": [
      "Alice, that was a great trick!\n",
      "David, that was a great trick!\n",
      "Carolina, that was a great trick!\n"
     ]
    }
   ],
   "source": [
    "magicians = ['alice', 'david', 'carolina'] \n",
    "for magician in magicians: \n",
    "    print(magician.title() + \", that was a great trick!\")"
   ]
  },
  {
   "cell_type": "code",
   "execution_count": 6,
   "id": "8610e8fe-0c84-40ad-990e-c999147e687a",
   "metadata": {},
   "outputs": [
    {
     "name": "stdout",
     "output_type": "stream",
     "text": [
      "Alice, that was a great trick!\n",
      "I can't wait to see your next trick, Alice.\n",
      "\n",
      "David, that was a great trick!\n",
      "I can't wait to see your next trick, David.\n",
      "\n",
      "Carolina, that was a great trick!\n",
      "I can't wait to see your next trick, Carolina.\n",
      "\n"
     ]
    }
   ],
   "source": [
    "magicians = ['alice', 'david', 'carolina'] \n",
    "for magician in magicians: \n",
    "    print(magician.title() + \", that was a great trick!\") \n",
    "    print(\"I can't wait to see your next trick, \" + magician.title() + \".\\n\")"
   ]
  },
  {
   "cell_type": "code",
   "execution_count": 7,
   "id": "5bc4b20d-ca0b-4559-a610-cce0107bc07d",
   "metadata": {},
   "outputs": [
    {
     "name": "stdout",
     "output_type": "stream",
     "text": [
      "Alice, that was a great trick!\n",
      "I can't wait to see your next trick, Alice.\n",
      "\n",
      "David, that was a great trick!\n",
      "I can't wait to see your next trick, David.\n",
      "\n",
      "Carolina, that was a great trick!\n",
      "I can't wait to see your next trick, Carolina.\n",
      "\n",
      "Thank you, everyone. That was a great magic show.\n"
     ]
    }
   ],
   "source": [
    "magicians = ['alice', 'david', 'carolina'] \n",
    "for magician in magicians: \n",
    "    print(magician.title() + \", that was a great trick!\") \n",
    "    print(\"I can't wait to see your next trick, \" + magician.title() + \".\\n\")\n",
    "\n",
    "print(\"Thank you, everyone. That was a great magic show.\")"
   ]
  },
  {
   "cell_type": "markdown",
   "metadata": {},
   "source": [
    "### Exercises"
   ]
  },
  {
   "cell_type": "markdown",
   "id": "1d58c5f3-e0f9-4433-87ee-bf4454750d81",
   "metadata": {},
   "source": [
    "4-1. Pizzas: Think of at least three kinds of your favorite pizza. Store these \n",
    "pizza names in a list, and then use a for loop to print the name of each pizza.\n",
    "•\t Modify your for loop to print a sentence using the name of the pizza \n",
    "instead of printing just the name of the pizza. For each pizza you should \n",
    "have one line of output containing a simple statement like I like pepperoni \n",
    "pizza.\n",
    "•\t Add a line at the end of your program, outside the for loop, that states \n",
    "how much you like pizza. The output should consist of three or more lines \n",
    "about the kinds of pizza you like and then an additional sentence, such as \n",
    "I really love pizza!"
   ]
  },
  {
   "cell_type": "code",
   "execution_count": 7,
   "id": "7bc908f6-5dfa-4683-8212-fc8ac84406f8",
   "metadata": {},
   "outputs": [
    {
     "name": "stdout",
     "output_type": "stream",
     "text": [
      "Supreme\n",
      "Pepperoni\n",
      "Hawaiian\n"
     ]
    }
   ],
   "source": [
    "pizzas = ['supreme', 'pepperoni', 'hawaiian']\n",
    "\n",
    "for pizza in pizzas:\n",
    "    print(pizza.title())"
   ]
  },
  {
   "cell_type": "code",
   "execution_count": 10,
   "id": "95a62d17-5aad-4471-be42-d6309be8eb27",
   "metadata": {},
   "outputs": [
    {
     "name": "stdout",
     "output_type": "stream",
     "text": [
      "I really like the supreme pizza\n",
      "The pepperoni pizza is not my favorite\n",
      "The hawaiian pizza is weird\n",
      "\n",
      "I prefer the pizzas with a thin crust and differente choices of meat.\n",
      "I am really not excited about pizza.\n"
     ]
    }
   ],
   "source": [
    "for pizza in pizzas:\n",
    "    if pizza == 'supreme':\n",
    "        print(\"I really like the supreme pizza\")\n",
    "    elif pizza == 'pepperoni':\n",
    "        print(\"The pepperoni pizza is not my favorite\")\n",
    "    else:\n",
    "        print(\"The hawaiian pizza is weird\")\n",
    "\n",
    "print(\"\\nI prefer the pizzas with a thin crust and differente choices of meat.\")\n",
    "print(\"I am really not excited about pizza.\")\n"
   ]
  },
  {
   "cell_type": "markdown",
   "id": "823fd665-99bc-4ef5-89cb-45ee4bbc404e",
   "metadata": {},
   "source": [
    "4-2. Animals: Think of at least three different animals that have a common characteristic. Store the names of these animals in a list, and then use a for loop to \n",
    "print out the name of each animal.\n",
    "•\t Modify your program to print a statement about each animal, such as A dog would make a great pet.\n",
    "•\t Add a line at the end of your program stating what these animals have in \n",
    "common. You could print a sentence such as Any of these animals would \n",
    "make a great pet!"
   ]
  },
  {
   "cell_type": "code",
   "execution_count": 11,
   "id": "8d422882-1aba-4c4e-a1eb-8824043a6262",
   "metadata": {},
   "outputs": [
    {
     "name": "stdout",
     "output_type": "stream",
     "text": [
      "A rabbit is a peaceful pet.\n",
      "A dog is always a great pet.\n",
      "A cat is always good company.\n",
      "\n",
      "These animals have been domesticated for ages and are used to live with humans.\n",
      "Any of these animals would make a great pet!\n"
     ]
    }
   ],
   "source": [
    "animals = ['rabbit', 'dog', 'cat']\n",
    "for animal in animals:\n",
    "    if animal == 'rabbit':\n",
    "        print(f\"A \" + animal + \" is a peaceful pet.\")\n",
    "    elif animal == 'dog':\n",
    "        print(f\"A \" + animal + \" is always a great pet.\")\n",
    "    else:\n",
    "        print(f\"A \" + animal + \" is always good company.\") \n",
    "\n",
    "print(\"\\nThese animals have been domesticated for ages and are used to live with humans.\")\n",
    "print(\"Any of these animals would make a great pet!\")"
   ]
  },
  {
   "cell_type": "markdown",
   "metadata": {},
   "source": [
    "### Numerical Lists"
   ]
  },
  {
   "cell_type": "code",
   "execution_count": 12,
   "metadata": {},
   "outputs": [
    {
     "name": "stdout",
     "output_type": "stream",
     "text": [
      "1\n",
      "2\n",
      "3\n",
      "4\n"
     ]
    }
   ],
   "source": [
    "for value in range(1, 5):\n",
    "    print(value)"
   ]
  },
  {
   "cell_type": "code",
   "execution_count": 1,
   "id": "62c1f854-6ba3-4995-b3ed-2463f0370727",
   "metadata": {},
   "outputs": [
    {
     "name": "stdout",
     "output_type": "stream",
     "text": [
      "[2, 4, 6, 8, 10]\n"
     ]
    }
   ],
   "source": [
    "even_numbers = list(range(2,11,2)) \n",
    "print(even_numbers)"
   ]
  },
  {
   "cell_type": "code",
   "execution_count": 4,
   "id": "02bbf249-6d37-428c-b843-a96b883bc63b",
   "metadata": {},
   "outputs": [
    {
     "name": "stdout",
     "output_type": "stream",
     "text": [
      "[1, 4, 9, 16, 25, 36, 49, 64, 81, 100]\n"
     ]
    }
   ],
   "source": [
    "squares = []\n",
    "for value in range(1,11):\n",
    "    square = value**2\n",
    "    squares.append(square)\n",
    "    \n",
    "print(squares)"
   ]
  },
  {
   "cell_type": "code",
   "execution_count": 13,
   "metadata": {},
   "outputs": [
    {
     "name": "stdout",
     "output_type": "stream",
     "text": [
      "[1, 4, 9, 16, 25, 36, 49, 64, 81, 100]\n"
     ]
    }
   ],
   "source": [
    "squares = []\n",
    "for value in range(1,11):\n",
    "    squares.append(value**2)\n",
    "    \n",
    "print(squares)"
   ]
  },
  {
   "cell_type": "code",
   "execution_count": 15,
   "id": "c4b9096e-5449-41ed-8820-f8b5a7f5e7e8",
   "metadata": {},
   "outputs": [
    {
     "name": "stdout",
     "output_type": "stream",
     "text": [
      "min = 0\n",
      "max = 9\n",
      "sum = 45\n"
     ]
    }
   ],
   "source": [
    "digits = [1,2,3,4,5,6,7,8,9,0]\n",
    "print(\"min =\", min(digits))\n",
    "print(\"max =\", max(digits))\n",
    "print(\"sum =\", sum(digits))"
   ]
  },
  {
   "cell_type": "code",
   "execution_count": 16,
   "id": "77e0c7a8-2eac-4dcb-9200-c92023c6dc59",
   "metadata": {},
   "outputs": [
    {
     "name": "stdout",
     "output_type": "stream",
     "text": [
      "[1, 4, 9, 16, 25, 36, 49, 64, 81, 100]\n"
     ]
    }
   ],
   "source": [
    "# List comprehension\n",
    "squares = [value**2 for value in range(1,11)]\n",
    "print(squares)"
   ]
  },
  {
   "cell_type": "markdown",
   "metadata": {},
   "source": [
    "### Exercises"
   ]
  },
  {
   "cell_type": "markdown",
   "id": "44c43c2d-ffdf-41cb-b44e-c09f5576fcaf",
   "metadata": {},
   "source": [
    "4-3. Counting to Twenty: Use a for loop to print the numbers from 1 to 20, inclusive."
   ]
  },
  {
   "cell_type": "code",
   "execution_count": 7,
   "id": "658218cb-de48-4fbc-a6b4-ec994ebcafd0",
   "metadata": {
    "collapsed": true,
    "jupyter": {
     "outputs_hidden": true
    },
    "tags": []
   },
   "outputs": [
    {
     "name": "stdout",
     "output_type": "stream",
     "text": [
      "1 2 3 4 5 6 7 8 9 10 11 12 13 14 15 16 17 18 19 20 "
     ]
    }
   ],
   "source": [
    "for n in range (1,21):\n",
    "    print(n, end = \" \")"
   ]
  },
  {
   "cell_type": "markdown",
   "id": "37f6fb1f-4cbc-4eb0-9933-ca19405fe854",
   "metadata": {},
   "source": [
    "4-4. One Million: Make a list of the numbers from one to one million, and then \n",
    "use a for loop to print the numbers. (If the output is taking too long, stop \n",
    "it by pressing ctrl-C or by closing the output window.)"
   ]
  },
  {
   "cell_type": "code",
   "execution_count": 16,
   "id": "53aabfa6-1acc-483b-bbaf-c3f3b1abe5c8",
   "metadata": {
    "collapsed": true,
    "jupyter": {
     "outputs_hidden": true
    },
    "tags": []
   },
   "outputs": [
    {
     "name": "stdout",
     "output_type": "stream",
     "text": [
      "1 2 3 4 5 6 7 8 9 10 11 12 13 14 15 16 17 18 19 20 21 22 23 24 25 26 27 28 29 30 31 32 33 34 35 36 37 38 39 40 41 42 43 44 45 46 47 48 49 50 51 52 53 54 55 56 57 58 59 60 61 62 63 64 65 66 67 68 69 70 71 72 73 74 75 76 77 78 79 80 81 82 83 84 85 86 87 88 89 90 91 92 93 94 95 96 97 98 99 100 "
     ]
    }
   ],
   "source": [
    "numbers = []\n",
    "for n in range (1, 101): # lowered to just 100\n",
    "    numbers.append(n)\n",
    "\n",
    "for n in numbers:    \n",
    "    print(n, end=\" \")"
   ]
  },
  {
   "cell_type": "markdown",
   "id": "11ead26d-6dfe-470e-8e4a-9a83ac07e9e9",
   "metadata": {},
   "source": [
    "4-5. Summing a Million: Make a list of the numbers from one to one million, \n",
    "and then use min() and max() to make sure your list actually starts at one and \n",
    "ends at one million. Also, use the sum() function to see how quickly Python can \n",
    "add a million numbers."
   ]
  },
  {
   "cell_type": "code",
   "execution_count": 20,
   "id": "89ce1479-8649-43b4-b1a9-de69958c1ec9",
   "metadata": {},
   "outputs": [
    {
     "name": "stdout",
     "output_type": "stream",
     "text": [
      "1000000 \n",
      " 1 \n",
      " 500000500000\n"
     ]
    }
   ],
   "source": [
    "numbers = []\n",
    "for n in range (1, 1000001): # lowered to just 100\n",
    "    numbers.append(n)\n",
    "\n",
    "M = max(numbers)\n",
    "m = min(numbers)\n",
    "S = sum(numbers)\n",
    "\n",
    "print(M,\"\\n\", m,\"\\n\", S)"
   ]
  },
  {
   "cell_type": "markdown",
   "id": "318ed6c8-a826-45ff-95b7-756ac5a7c7c2",
   "metadata": {},
   "source": [
    "4-6. Odd Numbers: Use the third argument of the range() function to make a list \n",
    "of the odd numbers from 1 to 20. Use a for loop to print each number"
   ]
  },
  {
   "cell_type": "code",
   "execution_count": 19,
   "id": "e45b443e-a594-49af-8e92-f83b0b6ec9dc",
   "metadata": {},
   "outputs": [
    {
     "name": "stdout",
     "output_type": "stream",
     "text": [
      "1 3 5 7 9 11 13 15 17 19 "
     ]
    }
   ],
   "source": [
    "odds = []\n",
    "for odd in range(1, 20, 2):\n",
    "    odds.append(odd)\n",
    "    \n",
    "for odd in odds:\n",
    "    print(odd, end = \" \")\n"
   ]
  },
  {
   "cell_type": "code",
   "execution_count": null,
   "metadata": {},
   "outputs": [],
   "source": [
    "odds =[]"
   ]
  },
  {
   "cell_type": "markdown",
   "id": "128461a2-07e9-433c-87db-74e3cde0c846",
   "metadata": {},
   "source": [
    "4-7. Threes: Make a list of the multiples of 3 from 3 to 30. Use a for loop to \n",
    "print the numbers in your list."
   ]
  },
  {
   "cell_type": "code",
   "execution_count": 21,
   "id": "945a751d-77a0-4099-b0b0-7b0b4e6ebf54",
   "metadata": {},
   "outputs": [
    {
     "name": "stdout",
     "output_type": "stream",
     "text": [
      "3 6 9 12 15 18 21 24 27 30 "
     ]
    }
   ],
   "source": [
    "threes = []\n",
    "for n in range(3, 31, 3):\n",
    "    threes.append(n)\n",
    "\n",
    "for n in threes:\n",
    "    print(n, end = \" \")"
   ]
  },
  {
   "cell_type": "markdown",
   "id": "90cf288f-1419-4b1f-a6cf-8d6ddb3e18a8",
   "metadata": {},
   "source": [
    "4-8. Cubes: A number raised to the third power is called a cube. For example, \n",
    "the cube of 2 is written as 2**3 in Python. Make a list of the first 10 cubes (that \n",
    "is, the cube of each integer from 1 through 10), and use a for loop to print out \n",
    "the value of each cube."
   ]
  },
  {
   "cell_type": "code",
   "execution_count": 12,
   "id": "b2cf3fee-96c4-42fa-bd5c-5633fe9f3702",
   "metadata": {},
   "outputs": [
    {
     "name": "stdout",
     "output_type": "stream",
     "text": [
      "1 8 27 64 125 216 343 512 729 1000 "
     ]
    }
   ],
   "source": [
    "cubes = []\n",
    "for n in range(1, 11):\n",
    "    cubes.append(n**3)\n",
    "    \n",
    "for cube in cubes:\n",
    "    print(cube, end = \" \")"
   ]
  },
  {
   "cell_type": "markdown",
   "id": "6fe5f69b-9179-422e-806f-cd27f0e2888f",
   "metadata": {},
   "source": [
    "4-9. Cube Comprehension: Use a list comprehension to generate a list of the \n",
    "first 10 cubes"
   ]
  },
  {
   "cell_type": "code",
   "execution_count": 22,
   "id": "eff41cde-07b7-4faa-82a7-0e8eee52a4a2",
   "metadata": {},
   "outputs": [
    {
     "name": "stdout",
     "output_type": "stream",
     "text": [
      "1 8 27 64 125 216 343 512 729 1000 "
     ]
    }
   ],
   "source": [
    "cubes = [value**3 for value in range(1,11)]\n",
    "for cube in cubes:\n",
    "    print(cube, end = \" \")"
   ]
  },
  {
   "cell_type": "code",
   "execution_count": 27,
   "id": "96766288-528f-48b2-9b81-615e24d71499",
   "metadata": {},
   "outputs": [
    {
     "name": "stdout",
     "output_type": "stream",
     "text": [
      "['charles', 'martina', 'michael']\n"
     ]
    }
   ],
   "source": [
    "players = ['charles', 'martina', 'michael', 'florence', 'eli'] \n",
    "print(players[0:3])"
   ]
  },
  {
   "cell_type": "code",
   "execution_count": 28,
   "id": "6debd488-b66b-429c-a1d3-d4094de1386e",
   "metadata": {},
   "outputs": [
    {
     "name": "stdout",
     "output_type": "stream",
     "text": [
      "['martina', 'michael', 'florence']\n"
     ]
    }
   ],
   "source": [
    "print(players[1:4])"
   ]
  },
  {
   "cell_type": "code",
   "execution_count": 29,
   "id": "464ac0db-191d-4d09-9a1f-7750e8d39e46",
   "metadata": {},
   "outputs": [
    {
     "name": "stdout",
     "output_type": "stream",
     "text": [
      "['charles', 'martina', 'michael', 'florence']\n"
     ]
    }
   ],
   "source": [
    "print(players[:4])"
   ]
  },
  {
   "cell_type": "code",
   "execution_count": 35,
   "id": "09b08cac-4113-4881-8ab8-47ffa4da3bfb",
   "metadata": {},
   "outputs": [
    {
     "name": "stdout",
     "output_type": "stream",
     "text": [
      "michael, florence, eli\n",
      "['charles', 'martina']\n"
     ]
    }
   ],
   "source": [
    "print(*players[2:], sep = ', ') \n",
    "print(players[:2])"
   ]
  },
  {
   "cell_type": "code",
   "execution_count": 6,
   "id": "59573ee8-f3a9-4059-bf1b-9f9bffa2ae86",
   "metadata": {},
   "outputs": [
    {
     "name": "stdout",
     "output_type": "stream",
     "text": [
      "['michael', 'florence', 'eli']\n"
     ]
    }
   ],
   "source": [
    "print(players[-3:])"
   ]
  },
  {
   "cell_type": "code",
   "execution_count": 7,
   "id": "f20fb52a-eff4-4a62-8d51-e73663597d25",
   "metadata": {},
   "outputs": [
    {
     "name": "stdout",
     "output_type": "stream",
     "text": [
      "['charles', 'martina']\n"
     ]
    }
   ],
   "source": [
    "print(players[:-3])"
   ]
  },
  {
   "cell_type": "code",
   "execution_count": 11,
   "id": "377ef3aa-01d0-4e46-ba78-b42436a37a5a",
   "metadata": {},
   "outputs": [
    {
     "name": "stdout",
     "output_type": "stream",
     "text": [
      "Here are the first three players on my team:\n",
      "Charles\n",
      "Martina\n",
      "Michael\n"
     ]
    }
   ],
   "source": [
    "print(\"Here are the first three players on my team:\")\n",
    "for player in players[:3]:\n",
    "    print(player.title())"
   ]
  },
  {
   "cell_type": "code",
   "execution_count": null,
   "id": "08e2b10c-5d9f-4ca5-91a4-e4d89fcbaac1",
   "metadata": {},
   "outputs": [],
   "source": []
  },
  {
   "cell_type": "code",
   "execution_count": 19,
   "id": "d2180a73-e0b5-4b43-867a-44dd2e6c7914",
   "metadata": {},
   "outputs": [
    {
     "name": "stdout",
     "output_type": "stream",
     "text": [
      "My favorite foods are:\n",
      "['pizza', 'falafel', 'carrot cake']\n",
      "\n",
      "My friend's favorite foods are:\n",
      "['pizza', 'falafel', 'carrot cake']\n"
     ]
    }
   ],
   "source": [
    "# I. List slicing - The right way\n",
    "my_foods = ['pizza', 'falafel', 'carrot cake']\n",
    "friend_foods = my_foods[:]\n",
    "print(\"My favorite foods are:\")\n",
    "print(my_foods)\n",
    "print(\"\\nMy friend's favorite foods are:\")\n",
    "print(friend_foods)"
   ]
  },
  {
   "cell_type": "code",
   "execution_count": 43,
   "id": "26c45061-c0d9-44a4-94fb-6207251cd465",
   "metadata": {},
   "outputs": [
    {
     "name": "stdout",
     "output_type": "stream",
     "text": [
      "My favorite foods are:\n",
      "['pizza', 'falafel', 'carrot cake', 'cannoli']\n",
      "\n",
      "My friend's favorite foods are:\n",
      "['pizza', 'falafel', 'carrot cake', 'ice cream']\n"
     ]
    }
   ],
   "source": [
    "my_foods = ['pizza', 'falafel', 'carrot cake']\n",
    "friend_foods = my_foods[:]\n",
    "\n",
    "my_foods.append('cannoli')\n",
    "friend_foods.append('ice cream')\n",
    "\n",
    "print(\"My favorite foods are:\")\n",
    "print(my_foods)\n",
    "print(\"\\nMy friend's favorite foods are:\")\n",
    "print(friend_foods)"
   ]
  },
  {
   "cell_type": "code",
   "execution_count": 23,
   "id": "bac39f7a-77f5-46e5-b37a-7bdc46d77cec",
   "metadata": {},
   "outputs": [
    {
     "name": "stdout",
     "output_type": "stream",
     "text": [
      "My favorite foods are:\n",
      "['pizza', 'falafel', 'carrot cake', 'cannoli', 'ice cream']\n",
      "\n",
      "My friend's favorite foods are:\n",
      "['pizza', 'falafel', 'carrot cake', 'cannoli', 'ice cream']\n"
     ]
    }
   ],
   "source": [
    "# II. Direct copy - the wrong way\n",
    "my_foods = ['pizza', 'falafel', 'carrot cake']\n",
    "# This doesn't work:\n",
    "friend_foods = my_foods\n",
    "my_foods.append('cannoli')\n",
    "friend_foods.append('ice cream')\n",
    "print(\"My favorite foods are:\")\n",
    "print(my_foods)\n",
    "print(\"\\nMy friend's favorite foods are:\")\n",
    "print(friend_foods)"
   ]
  },
  {
   "cell_type": "markdown",
   "metadata": {},
   "source": [
    "### Exercises"
   ]
  },
  {
   "cell_type": "markdown",
   "id": "1e48f8ed-c35e-4d4b-8059-d40ed3cb2a51",
   "metadata": {},
   "source": [
    "4-10. Slices: Using one of the programs you wrote in this chapter, add several \n",
    "lines to the end of the program that do the following:<br>\n",
    "•\t Print the message, The first three items in the list are:. Then use a slice to \n",
    "print the first three items from that program’s list.<br>\n",
    "•\t Print the message, Three items from the middle of the list are:. Use a slice \n",
    "to print three items from the middle of the list.<br>\n",
    "•\t Print the message, The last three items in the list are:. Use a slice to print \n",
    "the last three items in the list."
   ]
  },
  {
   "cell_type": "code",
   "execution_count": 44,
   "id": "98d78354-03da-4b7e-b98c-54631401e09a",
   "metadata": {},
   "outputs": [
    {
     "name": "stdout",
     "output_type": "stream",
     "text": [
      "1 8 27 64 125 216 343 512 729 1000 \n",
      "\n",
      "The first three items in cubes are:  [1, 8, 27]\n",
      "Three items from the middle of the list are:  [125, 216, 343]\n",
      "The last three items in the list are: [512, 729, 1000]\n"
     ]
    }
   ],
   "source": [
    "cubes = [value**3 for value in range(1,11)]\n",
    "for cube in cubes:\n",
    "    print(cube, end = \" \")\n",
    "print(\"\\n\")   \n",
    "print(\"The first three items in cubes are: \", cubes[0:3])\n",
    "print(\"Three items from the middle of the list are: \", cubes[4:7])\n",
    "print(\"The last three items in the list are:\", cubes[-3:])"
   ]
  },
  {
   "cell_type": "markdown",
   "id": "1e7c37e3-8961-4a21-8380-0dee43bb1c09",
   "metadata": {},
   "source": [
    "4-11. My Pizzas, Your Pizzas: Start with your program from Exercise 4-1 \n",
    "(page 60). Make a copy of the list of pizzas, and call it friend_pizzas.<br>\n",
    "Then, do the following:<br>\n",
    "•\t Add a new pizza to the original list.<br>\n",
    "•\t Add a different pizza to the list friend_pizzas.<br>\n",
    "•\t Prove that you have two separate lists. Print the message, My favorite \n",
    "pizzas are:, and then use a for loop to print the first list. Print the message, \n",
    "My friend’s favorite pizzas are:, and then use a for loop to print the second list. Make sure each new pizza is stored in the appropriate list."
   ]
  },
  {
   "cell_type": "code",
   "execution_count": 45,
   "id": "60cf215a-bdc0-4ed1-b032-c4211d3851e8",
   "metadata": {},
   "outputs": [
    {
     "name": "stdout",
     "output_type": "stream",
     "text": [
      "Before adding pizzas\n",
      "['supreme', 'pepperoni', 'hawaiian']\n",
      "['supreme', 'pepperoni', 'hawaiian']\n",
      "\n",
      "\n",
      "After adding pizzas\n",
      "['supreme', 'pepperoni', 'hawaiian', 'continental']\n",
      "['supreme', 'pepperoni', 'hawaiian', 'american']\n"
     ]
    }
   ],
   "source": [
    "pizzas = ['supreme', 'pepperoni', 'hawaiian']\n",
    "friend_pizzas = pizzas[:]\n",
    "\n",
    "print(\"Before adding pizzas\")\n",
    "print(pizzas)\n",
    "print(friend_pizzas)\n",
    "\n",
    "pizzas.append('continental')\n",
    "friend_pizzas.append('american')\n",
    "print(\"\\n\")\n",
    "print(\"After adding pizzas\")\n",
    "print(pizzas)\n",
    "print(friend_pizzas)"
   ]
  },
  {
   "cell_type": "code",
   "execution_count": 41,
   "id": "fdb2db69",
   "metadata": {},
   "outputs": [
    {
     "name": "stdout",
     "output_type": "stream",
     "text": [
      "My favorite pizzas are:\n",
      "Supreme\n",
      "Pepperoni\n",
      "Hawaiian\n",
      "Continental\n",
      "\n",
      "\n",
      "My friend's favorite pizzas are:\n",
      "Supreme\n",
      "Pepperoni\n",
      "Hawaiian\n",
      "American\n"
     ]
    }
   ],
   "source": [
    "print(\"My favorite pizzas are:\")\n",
    "for pizza in pizzas:\n",
    "    print(pizza.title())\n",
    "print(\"\\n\")   \n",
    "print(\"My friend's favorite pizzas are:\")\n",
    "for pizza in friend_pizzas:\n",
    "    print(pizza.title())"
   ]
  },
  {
   "cell_type": "markdown",
   "id": "1590b0f6-be13-41fd-b3cf-baae436f308e",
   "metadata": {},
   "source": [
    "4-12. More Loops: All versions of foods.py in this section have avoided using \n",
    "for loops when printing to save space. Choose a version of foods.py, and \n",
    "write two for loops to print each list of foods."
   ]
  },
  {
   "cell_type": "code",
   "execution_count": 42,
   "id": "68c77101-1c62-4a46-a1bf-9c75c84dc6ff",
   "metadata": {},
   "outputs": [
    {
     "name": "stdout",
     "output_type": "stream",
     "text": [
      "1. Pizzas in 'my_foods'\n",
      "pizza\n",
      "falafel\n",
      "carrot cake\n",
      "cannoli\n",
      "\n",
      "2. Pizzas in 'friend_foods'\n",
      "pizza\n",
      "falafel\n",
      "carrot cake\n",
      "ice cream\n"
     ]
    }
   ],
   "source": [
    "my_foods = ['pizza', 'falafel', 'carrot cake']\n",
    "friend_foods = my_foods[:]\n",
    "\n",
    "my_foods.append('cannoli')\n",
    "friend_foods.append('ice cream')\n",
    "\n",
    "print(\"1. Pizzas in 'my_foods'\")\n",
    "for food in my_foods:\n",
    "    print(food)\n",
    "\n",
    "print(\"\\n2. Pizzas in 'friend_foods'\")\n",
    "for food in friend_foods:\n",
    "    print(food)"
   ]
  },
  {
   "cell_type": "markdown",
   "id": "4eb2a644-c12b-45c3-bceb-bf3cb3316c2d",
   "metadata": {},
   "source": [
    "## Tuples"
   ]
  },
  {
   "cell_type": "code",
   "execution_count": 46,
   "id": "6558ff0c-985d-461c-9ca5-7080aa021a7e",
   "metadata": {},
   "outputs": [
    {
     "name": "stdout",
     "output_type": "stream",
     "text": [
      "200\n",
      "50\n"
     ]
    }
   ],
   "source": [
    "dimensions = (200, 50)\n",
    "print(dimensions[0])\n",
    "print(dimensions[1])"
   ]
  },
  {
   "cell_type": "code",
   "execution_count": 44,
   "id": "d541449d-4df3-4709-ba36-dbd4bc0fbdb3",
   "metadata": {},
   "outputs": [
    {
     "ename": "TypeError",
     "evalue": "'tuple' object does not support item assignment",
     "output_type": "error",
     "traceback": [
      "\u001b[1;31m---------------------------------------------------------------------------\u001b[0m",
      "\u001b[1;31mTypeError\u001b[0m                                 Traceback (most recent call last)",
      "Cell \u001b[1;32mIn[44], line 3\u001b[0m\n\u001b[0;32m      1\u001b[0m \u001b[39m# Tuples are immutable. Attempts to change return 'error'\u001b[39;00m\n\u001b[0;32m      2\u001b[0m dimensions \u001b[39m=\u001b[39m (\u001b[39m20\u001b[39m, \u001b[39m50\u001b[39m)\n\u001b[1;32m----> 3\u001b[0m dimensions[\u001b[39m0\u001b[39;49m] \u001b[39m=\u001b[39m \u001b[39m250\u001b[39m\n",
      "\u001b[1;31mTypeError\u001b[0m: 'tuple' object does not support item assignment"
     ]
    }
   ],
   "source": [
    "# Tuples are immutable. Attempts to change return 'error'\n",
    "dimensions = (20, 50)\n",
    "dimensions[0] = 250"
   ]
  },
  {
   "cell_type": "code",
   "execution_count": 47,
   "id": "84e15370-1864-4514-be33-3a5fe4ec360a",
   "metadata": {},
   "outputs": [
    {
     "name": "stdout",
     "output_type": "stream",
     "text": [
      "200\n",
      "50\n"
     ]
    }
   ],
   "source": [
    "# Loop a tuple\n",
    "dimensions = (200, 50)\n",
    "for dimension in dimensions:\n",
    "    print(dimension)"
   ]
  },
  {
   "cell_type": "code",
   "execution_count": 48,
   "id": "09a4a066-e1de-422b-b1e7-0c61f018163e",
   "metadata": {},
   "outputs": [
    {
     "name": "stdout",
     "output_type": "stream",
     "text": [
      "Original dimensions:\n",
      "200\n",
      "50\n",
      "\n",
      "Modified dimensions:\n",
      "400\n",
      "100\n"
     ]
    }
   ],
   "source": [
    "# Writing over a tuple\n",
    "dimensions = (200, 50)\n",
    "print(\"Original dimensions:\")\n",
    "for dimension in dimensions:\n",
    "    print(dimension)\n",
    "\n",
    "dimensions = (400, 100)\n",
    "print(\"\\nModified dimensions:\")\n",
    "for dimension in dimensions:\n",
    "    print(dimension)"
   ]
  },
  {
   "cell_type": "markdown",
   "id": "e92f92ae-f7d4-40cd-a624-f14e27efd533",
   "metadata": {},
   "source": [
    "#### Exercise\n",
    "4-13. Buffet: A buffet-style restaurant offers only five basic foods. Think of five \n",
    "simple foods, and store them in a tuple.<br>\n",
    "•\t Use a for loop to print each food the restaurant offers.<br>\n",
    "•\t Try to modify one of the items, and make sure that Python rejects the \n",
    "change.<br>\n",
    "•\t The restaurant changes its menu, replacing two of the items with different \n",
    "foods. Add a block of code that rewrites the tuple, and then use a for\n",
    "loop to print each of the items on the revised menu."
   ]
  },
  {
   "cell_type": "code",
   "execution_count": 51,
   "id": "dfb58499-6778-4d98-9b2a-8b29e6efc740",
   "metadata": {},
   "outputs": [
    {
     "name": "stdout",
     "output_type": "stream",
     "text": [
      "carapulcra, olluquitos, lomo-saltado, cebiche, seco-con-frejoles, "
     ]
    }
   ],
   "source": [
    "foods = ('carapulcra', 'olluquitos', 'lomo-saltado', 'cebiche', 'seco-con-frejoles')\n",
    "\n",
    "for food in foods:\n",
    "    print(food[:len(food)], end = \", \")"
   ]
  },
  {
   "cell_type": "code",
   "execution_count": 52,
   "id": "62f28f02",
   "metadata": {},
   "outputs": [
    {
     "ename": "TypeError",
     "evalue": "'tuple' object does not support item assignment",
     "output_type": "error",
     "traceback": [
      "\u001b[1;31m---------------------------------------------------------------------------\u001b[0m",
      "\u001b[1;31mTypeError\u001b[0m                                 Traceback (most recent call last)",
      "Cell \u001b[1;32mIn[52], line 2\u001b[0m\n\u001b[0;32m      1\u001b[0m \u001b[39m# Change an item\u001b[39;00m\n\u001b[1;32m----> 2\u001b[0m foods[\u001b[39m2\u001b[39;49m] \u001b[39m=\u001b[39m \u001b[39m'\u001b[39m\u001b[39mlocro\u001b[39m\u001b[39m'\u001b[39m\n",
      "\u001b[1;31mTypeError\u001b[0m: 'tuple' object does not support item assignment"
     ]
    }
   ],
   "source": [
    "# Change an item\n",
    "foods[2] = 'locro'"
   ]
  },
  {
   "cell_type": "code",
   "execution_count": 62,
   "id": "3e25b88a-096b-495a-8435-a98ec2f4682d",
   "metadata": {},
   "outputs": [
    {
     "name": "stdout",
     "output_type": "stream",
     "text": [
      "Carapulcra, Locro, Lomo Saltado, Ceviche, Seco Con Frejoles.\n",
      "Carapulcra, Locro, Lomo Saltado, Arroz Con Pato, Aeropuerto.\n"
     ]
    }
   ],
   "source": [
    "foods = ('carapulcra', 'locro', 'lomo saltado', 'ceviche', 'seco con frejoles')\n",
    "\n",
    "for food in foods:\n",
    "    print(food[:len(food)].title(), end = \", \")\n",
    "print('\\b\\b.')\n",
    " \n",
    "foods = ('carapulcra', 'locro', 'lomo saltado', 'arroz con pato', 'aeropuerto')\n",
    "for food in foods:\n",
    "    print(food[:len(food)].title(), end = \", \")\n",
    "print('\\b\\b.')"
   ]
  }
 ],
 "metadata": {
  "kernelspec": {
   "display_name": "Python 3 (ipykernel)",
   "language": "python",
   "name": "python3"
  },
  "language_info": {
   "codemirror_mode": {
    "name": "ipython",
    "version": 3
   },
   "file_extension": ".py",
   "mimetype": "text/x-python",
   "name": "python",
   "nbconvert_exporter": "python",
   "pygments_lexer": "ipython3",
   "version": "3.10.13"
  }
 },
 "nbformat": 4,
 "nbformat_minor": 5
}
